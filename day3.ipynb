{
 "cells": [
  {
   "cell_type": "markdown",
   "id": "236c051e",
   "metadata": {},
   "source": [
    "# Writing a Molecular Monte Carlo Simulation\n",
    "\n",
    "Starting today, make sure you have the functions\n",
    "\n",
    "1. `calculate_LJ` - written in class\n",
    "1. `read_xyz` - provided in class\n",
    "1. `calculate_total_energy` - modified version provided in this notebook written for homework which has cutoff\n",
    "1. `calculate_distance` - should be the version written for homework which accounts for periodic boundaries.\n",
    "1. `calculate_tail_correction` - written for homework \n"
   ]
  },
  {
   "cell_type": "code",
<<<<<<< HEAD
   "execution_count": 1,
=======
   "execution_count": 10,
>>>>>>> e8ee2cbbe3344fba10b9eedd2bde062cf4537852
   "id": "430af90f",
   "metadata": {},
   "outputs": [],
   "source": [
    "# add imports here\n",
    "import math\n",
<<<<<<< HEAD
    "import random"
=======
    "import random\n"
>>>>>>> e8ee2cbbe3344fba10b9eedd2bde062cf4537852
   ]
  },
  {
   "cell_type": "code",
<<<<<<< HEAD
   "execution_count": 26,
=======
   "execution_count": 31,
>>>>>>> e8ee2cbbe3344fba10b9eedd2bde062cf4537852
   "id": "88826d03",
   "metadata": {},
   "outputs": [],
   "source": [
    "def calculate_total_energy(coordinates, box_length, cutoff):\n",
    "    \"\"\"\n",
    "    Calculate the total energy of a set of particles using the Lennard Jones potential.\n",
    "    \n",
    "    Parameters\n",
    "    ----------\n",
    "    coordinates : list\n",
    "        A nested list containing the x, y,z coordinate for each particle\n",
    "    box_length : float\n",
    "        The length of the box. Assumes cubic box.\n",
    "    cutoff : float\n",
    "        The cutoff length\n",
    "    \n",
    "    Returns\n",
    "    -------\n",
    "    total_energy : float\n",
    "        The total energy of the set of coordinates.\n",
    "    \"\"\"\n",
    "    \n",
    "    total_energy = 0\n",
    "    num_atoms = len(coordinates)\n",
    "\n",
    "    for i in range(num_atoms):\n",
    "        for j in range(i+1, num_atoms):\n",
    "            # Calculate the distance between the particles - exercise.\n",
    "            dist_ij = calculate_periodic_distance(coordinates[i], coordinates[j], box_length)\n",
    "\n",
    "            if dist_ij < cutoff:\n",
    "                # Calculate the pairwise LJ energy\n",
    "                LJ_ij = calculate_LJ(dist_ij)\n",
    "\n",
    "                # Add to total energy.\n",
    "                total_energy += LJ_ij\n",
    "    return total_energy\n",
    "\n",
    "def read_xyz(filepath):\n",
    "    \"\"\"\n",
    "    Reads coordinates from an xyz file.\n",
    "    \n",
    "    Parameters\n",
    "    ----------\n",
    "    filepath : str\n",
    "       The path to the xyz file to be processed.\n",
    "       \n",
    "    Returns\n",
    "    -------\n",
    "    atomic_coordinates : list\n",
    "        A two dimensional list containing atomic coordinates\n",
    "    \"\"\"\n",
    "    \n",
    "    with open(filepath) as f:\n",
    "        box_length = float(f.readline().split()[0])\n",
    "        num_atoms = float(f.readline())\n",
    "        coordinates = f.readlines()\n",
    "    \n",
    "    atomic_coordinates = []\n",
    "    \n",
    "    for atom in coordinates:\n",
    "        split_atoms = atom.split()\n",
    "        \n",
    "        float_coords = []\n",
    "        \n",
    "        # We split this way to get rid of the atom label.\n",
    "        for coord in split_atoms[1:]:\n",
    "            float_coords.append(float(coord))\n",
    "            \n",
    "        atomic_coordinates.append(float_coords)\n",
    "        \n",
    "    return atomic_coordinates, box_length\n",
    "\n",
    "def calculate_LJ(r_ij):\n",
    "    \"\"\"\n",
    "    The LJ interaction energy between two particles.\n",
    "\n",
    "    Computes the pairwise Lennard Jones interaction energy based on the separation distance in reduced units.\n",
    "\n",
    "    Parameters\n",
    "    ----------\n",
    "    r_ij : float\n",
    "        The distance between the particles in reduced units.\n",
    "    \n",
    "    Returns\n",
    "    -------\n",
    "    pairwise_energy : float\n",
    "        The pairwise Lennard Jones interaction energy in reduced units.\n",
    "\n",
    "    Examples\n",
    "    --------\n",
    "    >>> calculate_LJ(1)\n",
    "    0\n",
    "\n",
    "    \"\"\"\n",
    "    \n",
    "    r6_term = math.pow(1/r_ij, 6)\n",
    "    r12_term = math.pow(r6_term, 2)\n",
    "    \n",
    "    pairwise_energy = 4 * (r12_term - r6_term)\n",
    "    \n",
    "    return pairwise_energy\n",
    "\n",
    "\n",
<<<<<<< HEAD
    "## Add your group's modified calculate_distance function\n",
    "def calculate_periodic_distance(coord1, coord2, box_length=None):\n",
    "    \"\"\"\n",
    "    Calculate the distance between two points. When `box_length` is set, the minimum image convention is used to calculate the distance between the points.\n",
=======
    "def calculate_distance(coord1, coord2, box_length=None):\n",
    "    \"\"\"\n",
    "    Calculate the distance between two points. When box_length is set, the minimum image convention is used to calculate the distance between the points.\n",
>>>>>>> e8ee2cbbe3344fba10b9eedd2bde062cf4537852
    "\n",
    "    Parameters\n",
    "    ----------\n",
    "    coord1, coord2 : list\n",
    "        The coordinates of the points, [x, y, z]\n",
    "    \n",
    "    box_length : float, optional\n",
    "        The box length\n",
    "\n",
    "    Returns\n",
    "    -------\n",
    "    distance : float\n",
    "        The distance between the two points accounting for periodic boundaries\n",
    "    \"\"\"\n",
    "    distance = 0\n",
    "        \n",
    "    for i in range(3):\n",
    "        hold_dist = abs(coord2[i] - coord1[i])\n",
    "    \n",
<<<<<<< HEAD
    "        if box_length != None:    \n",
=======
    "        if (box_length):    \n",
>>>>>>> e8ee2cbbe3344fba10b9eedd2bde062cf4537852
    "            if hold_dist > box_length/2:\n",
    "                hold_dist = hold_dist - (box_length * round(hold_dist/box_length))\n",
    "        distance += math.pow(hold_dist, 2)\n",
    "\n",
    "    return math.sqrt(distance)\n",
    "\n",
    "## Add your group's tail correction function\n",
<<<<<<< HEAD
    "def calculate_tail_correction(n_particles, box_length, cutoff):\n",
    "    \"\"\"\n",
    "    Calculate tail correction\n",
    "    \n",
    "    Parameters\n",
    "    ----------\n",
    "    box_length: float\n",
    "        length of box\n",
    "    \n",
    "    n_particles: float\n",
    "        number of particles\n",
    "        \n",
    "    cutoff: float\n",
    "        cutoff distance beyond which interactions are not calculated\n",
    "        \n",
    "    Returns\n",
    "    ---------\n",
    "    tail_corr: float\n",
    "        calculated tall correction value\n",
    "    \"\"\"\n",
    "    V=math.pow(box_length,3)\n",
    "    rc_inv=1/cutoff\n",
    "    bracket=math.pow(rc_inv,9)*1/3-math.pow(rc_inv,3)\n",
    "    tail_corr=(8*math.pi*math.pow(n_particles,2)/3/V)*bracket\n",
    "    return tail_corr"
=======
    "\n",
    "def calculate_tail_correction(num_particles, box_length, cutoff):\n",
    "    \"\"\"\n",
    "    The tail correction associated with using a cutoff radius.\n",
    "    \n",
    "    Computes the tail correction based on a cutoff radius used in the LJ energy calculation in reduced units.\n",
    "    \n",
    "    Parameters\n",
    "    ----------\n",
    "    num_particles : int\n",
    "        The number of particles in the system.\n",
    "    \n",
    "    box_length : int\n",
    "        Size of the box length of the system, used to calculate volume.\n",
    "    \n",
    "    cutoff : int\n",
    "        Cutoff distance.\n",
    "    \n",
    "    Returns\n",
    "    -------\n",
    "    tail_correction : float\n",
    "        The tail correction associated with using the cutoff.\n",
    "    \"\"\"\n",
    "    \n",
    "    brackets = (1/3*math.pow(1/cutoff,9)) - math.pow(1/cutoff,3)\n",
    "    volume = box_length**3\n",
    "    \n",
    "    constant = ((8*math.pi*(num_particles**2))/(3*volume))\n",
    "    \n",
    "    tail_correction = constant * brackets\n",
    "    \n",
    "    return tail_correction\n",
    "    "
>>>>>>> e8ee2cbbe3344fba10b9eedd2bde062cf4537852
   ]
  },
  {
   "cell_type": "markdown",
<<<<<<< HEAD
   "id": "88695a32",
   "metadata": {},
   "source": [
    "## The Metropolis Criteron\n",
=======
   "id": "bd90b131",
   "metadata": {},
   "source": [
    "The Metropolis Criterion\n",
>>>>>>> e8ee2cbbe3344fba10b9eedd2bde062cf4537852
    "$$ P_{acc}(m \\rightarrow n) = \\text{min} \\left[\n",
    "\t\t1,e^{-\\beta \\Delta U}\n",
    "\t\\right] $$"
   ]
  },
  {
   "cell_type": "code",
<<<<<<< HEAD
   "execution_count": 3,
   "id": "cc9b82f6",
=======
   "execution_count": 32,
   "id": "e70a253a",
>>>>>>> e8ee2cbbe3344fba10b9eedd2bde062cf4537852
   "metadata": {},
   "outputs": [],
   "source": [
    "def accept_or_reject(delta_U, beta):\n",
    "    \"\"\"\n",
<<<<<<< HEAD
    "    Determines whether a change of a particle in configuration is accepted or rejected based on Metropolis criterion.\n",
    "    \n",
    "    Parameters\n",
    "    ---------\n",
    "    delta_U: float\n",
    "        The change in energy for moving system from state m to n.\n",
    "    beta: float\n",
    "        1/temperature\n",
    "        \n",
    "    Returns\n",
    "    ---------\n",
    "    bool\n",
    "        Whether the move is accepted\n",
    "    \"\"\"\n",
    "    if delta_e <=0.0:\n",
    "        accept = True\n",
    "    else:\n",
    "        #generte a random number on (0,1)\n",
    "        random_number= random.random()\n",
=======
    "    Accept or reject a move based on the Metropolis criterion.\n",
    "    \n",
    "    Parameters\n",
    "    ----------\n",
    "    detlta_U : float\n",
    "        The change in energy for moving system from state m to n.\n",
    "    beta : float\n",
    "        1/temperature\n",
    "    \n",
    "    Returns\n",
    "    -------\n",
    "    boolean\n",
    "        Whether the move is accepted.\n",
    "    \"\"\"\n",
    "    if delta_U <= 0.0:\n",
    "        accept = True\n",
    "    else:\n",
    "        #Generate a random number on (0,1)\n",
    "        random_number = random.random()\n",
>>>>>>> e8ee2cbbe3344fba10b9eedd2bde062cf4537852
    "        p_acc = math.exp(-beta*delta_U)\n",
    "        \n",
    "        if random_number < p_acc:\n",
    "            accept = True\n",
    "        else:\n",
    "            accept = False\n",
<<<<<<< HEAD
    "            \n",
=======
>>>>>>> e8ee2cbbe3344fba10b9eedd2bde062cf4537852
    "    return accept"
   ]
  },
  {
   "cell_type": "code",
<<<<<<< HEAD
   "execution_count": 4,
   "id": "a0d98075",
   "metadata": {},
   "outputs": [],
   "source": [
    "# sanity check - test cases\n",
    "delta_e, beta = -1, 1\n",
    "assert accept_or_reject(delta_e,beta)"
=======
   "execution_count": 33,
   "id": "6005d1d1",
   "metadata": {},
   "outputs": [],
   "source": [
    "# Sanity checks - test cases\n",
    "delta_energy = -1\n",
    "beta = 1\n",
    "accepted = accept_or_reject(delta_energy, beta)\n",
    "assert accepted"
>>>>>>> e8ee2cbbe3344fba10b9eedd2bde062cf4537852
   ]
  },
  {
   "cell_type": "code",
<<<<<<< HEAD
   "execution_count": 5,
   "id": "7c303588",
   "metadata": {},
   "outputs": [
    {
     "name": "stdout",
     "output_type": "stream",
     "text": [
      "0\n"
     ]
    }
   ],
   "source": [
    "delta_e, beta = 0, 1\n",
    "print(delta_e)\n",
    "assert accept_or_reject(delta_e,beta)"
   ]
  },
  {
   "cell_type": "code",
   "execution_count": 6,
   "id": "3cac8aa2",
   "metadata": {},
   "outputs": [],
   "source": [
    "# To test function with random numbers\n",
    "# can set random seed\n",
    "\n",
    "#to set seed\n",
    "random.seed(0)"
=======
   "execution_count": 34,
   "id": "9d79d8b7",
   "metadata": {},
   "outputs": [],
   "source": [
    "# Sanity checks - test cases\n",
    "delta_energy = 0\n",
    "beta = 1\n",
    "accepted = accept_or_reject(delta_energy, beta)\n",
    "assert accepted"
>>>>>>> e8ee2cbbe3344fba10b9eedd2bde062cf4537852
   ]
  },
  {
   "cell_type": "code",
<<<<<<< HEAD
   "execution_count": 7,
   "id": "7c08b6b4",
=======
   "execution_count": 35,
   "id": "a932a1c2",
>>>>>>> e8ee2cbbe3344fba10b9eedd2bde062cf4537852
   "metadata": {},
   "outputs": [
    {
     "data": {
      "text/plain": [
       "0.8444218515250481"
      ]
     },
<<<<<<< HEAD
     "execution_count": 7,
=======
     "execution_count": 35,
>>>>>>> e8ee2cbbe3344fba10b9eedd2bde062cf4537852
     "metadata": {},
     "output_type": "execute_result"
    }
   ],
   "source": [
<<<<<<< HEAD
    "random.random()"
   ]
  },
  {
   "cell_type": "code",
   "execution_count": 8,
   "id": "4e531ae7",
   "metadata": {},
   "outputs": [],
   "source": [
    "#test case for positive delta_U\n",
    "delta_e, beta=1, 1\n",
    "random.seed(0)\n",
    "#expected to fail\n",
    "assert not accept_or_reject(delta_e,beta)"
   ]
  },
  {
   "cell_type": "code",
   "execution_count": 9,
   "id": "f877c6c8",
   "metadata": {},
   "outputs": [
    {
     "data": {
      "text/plain": [
       "0.13436424411240122"
      ]
     },
     "execution_count": 9,
     "metadata": {},
     "output_type": "execute_result"
    }
   ],
   "source": [
    "random.seed(1)\n",
=======
    "# To test function with random numbers\n",
    "# can set random seed\n",
    "\n",
    "#To set seed\n",
    "random.seed(0)\n",
>>>>>>> e8ee2cbbe3344fba10b9eedd2bde062cf4537852
    "random.random()"
   ]
  },
  {
   "cell_type": "code",
<<<<<<< HEAD
   "execution_count": 10,
   "id": "db2da7fc",
   "metadata": {},
   "outputs": [],
   "source": [
    "#test case for positive delta_U\n",
    "delta_e, beta=1, 1\n",
    "random.seed(1)\n",
    "#expected to pass\n",
    "assert accept_or_reject(delta_e,beta)"
=======
   "execution_count": 36,
   "id": "b362d993",
   "metadata": {},
   "outputs": [],
   "source": [
    "delta_energy = 1\n",
    "beta = 1\n",
    "random.seed(0)\n",
    "accepted = accept_or_reject(delta_energy, beta)\n",
    "assert accepted is False"
>>>>>>> e8ee2cbbe3344fba10b9eedd2bde062cf4537852
   ]
  },
  {
   "cell_type": "code",
<<<<<<< HEAD
   "execution_count": 11,
   "id": "40a14eda",
   "metadata": {},
   "outputs": [],
   "source": [
    "#unset seed\n",
=======
   "execution_count": 37,
   "id": "de6b79e0",
   "metadata": {},
   "outputs": [],
   "source": [
    "#Clear seed\n",
>>>>>>> e8ee2cbbe3344fba10b9eedd2bde062cf4537852
    "random.seed()"
   ]
  },
  {
   "cell_type": "code",
<<<<<<< HEAD
   "execution_count": 12,
   "id": "0e1f7d46",
=======
   "execution_count": 43,
   "id": "1d42c420",
>>>>>>> e8ee2cbbe3344fba10b9eedd2bde062cf4537852
   "metadata": {},
   "outputs": [],
   "source": [
    "def calculate_pair_energy(coordinates, i_particle, box_length, cutoff):\n",
    "    \"\"\"\n",
<<<<<<< HEAD
    "    Calculate the interaction energy of a paritucle with tis environment (all other particles in the system)\n",
    "    \n",
    "    Parameters\n",
    "    ---------\n",
    "    coordinates : list\n",
    "        the coordinates for all particles in the system\n",
    "    i_particle: int\n",
    "        the particle number for which the calculate the energy\n",
    "    box_length: float\n",
    "        the legnth of the simulation box. Assumes cubic box.\n",
    "    cutoff: float\n",
    "        the simulation cutoff, Beyond this distances, interactions are not calulated\n",
    "    \n",
    "    Returns\n",
    "    ---------\n",
    "    float\n",
    "        The pairwise interaction energy of the ith particles with all other particles in the system\n",
    "    \n",
    "    \"\"\"\n",
    "    e_total = 0.0\n",
=======
    "    Calculate the interaction energy of a particle with its environment (all other particles in the system)\n",
    "    \n",
    "    Parameters\n",
    "    ----------\n",
    "    coordinates : list\n",
    "        The coordinates for all the particles in the system.\n",
    "        \n",
    "    i_particle : int\n",
    "        The particle number for which to calculate the energy.\n",
    "        \n",
    "    cutoff : float\n",
    "        The simulation cutoff. Beyond this distance, interactions are not calculated.\n",
    "    \n",
    "    box_length : float\n",
    "        The length of the box for periodic bounds\n",
    "        \n",
    "    Returns\n",
    "    -------\n",
    "    e_total : float\n",
    "        The pairwise interaction energy of the ith particles with all other particles in the system\n",
    "    \"\"\"\n",
    "    \n",
    "    e_total = 0.0\n",
    "    #creates a list of the coordinates for the i_particle\n",
>>>>>>> e8ee2cbbe3344fba10b9eedd2bde062cf4537852
    "    i_position = coordinates[i_particle]\n",
    "    \n",
    "    num_atoms = len(coordinates)\n",
    "    \n",
    "    for j_particle in range(num_atoms):\n",
<<<<<<< HEAD
    "            if j_particle != i_particle:\n",
    "                j_position = coordinates[j_particle]\n",
    "                r_ij=calculate_periodic_distance(i_position, j_position, box_length)\n",
    "                \n",
    "                if r_ij<cutoff:\n",
    "                    e_pair = calculate_LJ(r_ij)\n",
    "                    e_total += e_pair\n",
    "    return e_total"
   ]
  },
  {
   "cell_type": "code",
   "execution_count": 13,
   "id": "52896e47",
   "metadata": {},
   "outputs": [
    {
     "data": {
      "text/plain": [
       "-1.0"
      ]
     },
     "execution_count": 13,
     "metadata": {},
     "output_type": "execute_result"
    }
   ],
   "source": [
    "test_coords = [[0,0,0],[0,0,2**(1/6)],[0,0,2*2**(1/6)]]\n",
    "calculate_LJ(2**(1/6))"
=======
    "        \n",
    "        if i_particle != j_particle:\n",
    "            #creates a list of coordinates for the j_particle\n",
    "            j_position = coordinates[j_particle]\n",
    "            rij = calculate_distance(i_position, j_position, box_length)\n",
    "            \n",
    "            if rij < cutoff:\n",
    "                e_pair = calculate_LJ(rij)\n",
    "                e_total += e_pair\n",
    "    \n",
    "    return e_total\n",
    "    "
>>>>>>> e8ee2cbbe3344fba10b9eedd2bde062cf4537852
   ]
  },
  {
   "cell_type": "code",
<<<<<<< HEAD
   "execution_count": 15,
   "id": "491a6ea2",
   "metadata": {},
   "outputs": [],
   "source": [
    "#what do i expect the results to be for particle index 1?  -2\n",
    "assert calculate_pair_energy(test_coords, 1, 10, 3) == -2\n",
    "#what do i expect the results to be for particle index 0 with a cutoff of 2? -1\n",
    "assert calculate_pair_energy(test_coords, 0, 10, 2) == -1"
   ]
  },
  {
   "cell_type": "code",
   "execution_count": 16,
   "id": "3f570bee",
   "metadata": {},
   "outputs": [
    {
     "data": {
      "text/plain": [
       "-1.0"
      ]
     },
     "execution_count": 16,
     "metadata": {},
     "output_type": "execute_result"
    }
   ],
   "source": [
    "enery=calculate_periodic_distance([0,0,2**(1/6)],[0,0,0], 10)\n",
    "calculate_LJ(enery)"
   ]
  },
  {
   "cell_type": "code",
   "execution_count": 17,
   "id": "d0f266a0",
   "metadata": {},
   "outputs": [
    {
     "data": {
      "text/plain": [
       "-1.0"
      ]
     },
     "execution_count": 17,
     "metadata": {},
     "output_type": "execute_result"
    }
   ],
   "source": [
    "enery=calculate_periodic_distance([0,0,2**(1/6)],[0,0,2*2**(1/6)], 10)\n",
    "calculate_LJ(enery)"
   ]
  },
  {
   "cell_type": "code",
   "execution_count": 18,
   "id": "1e1b8aee",
   "metadata": {},
   "outputs": [
    {
     "data": {
      "text/plain": [
       "-2.0"
      ]
     },
     "execution_count": 18,
     "metadata": {},
     "output_type": "execute_result"
    }
   ],
   "source": [
    "calculate_pair_energy(test_coords, 1, 10, 3)"
   ]
  },
  {
   "cell_type": "code",
   "execution_count": 19,
   "id": "d2b0a0cd",
   "metadata": {},
   "outputs": [
    {
     "data": {
      "text/plain": [
       "-1.0"
      ]
     },
     "execution_count": 19,
     "metadata": {},
     "output_type": "execute_result"
    }
   ],
   "source": [
    "enery=calculate_periodic_distance([0,0,2**(1/6)],[0,0,0], 10)\n",
    "calculate_LJ(enery)"
   ]
  },
  {
   "cell_type": "code",
   "execution_count": 20,
   "id": "fdf7d96d",
   "metadata": {},
   "outputs": [
    {
     "data": {
      "text/plain": [
       "-0.031005859374999993"
      ]
     },
     "execution_count": 20,
     "metadata": {},
     "output_type": "execute_result"
    }
   ],
   "source": [
    "enery=calculate_periodic_distance([0,0,2*2**(1/6)],[0,0,0], 10)\n",
    "calculate_LJ(enery)"
   ]
  },
  {
   "cell_type": "code",
   "execution_count": 21,
   "id": "6e7dbecc",
   "metadata": {},
   "outputs": [
    {
     "data": {
      "text/plain": [
       "[[0, 0, 0], [0, 0, 1.122462048309373], [0, 0, 2.244924096618746]]"
      ]
     },
     "execution_count": 21,
     "metadata": {},
     "output_type": "execute_result"
    }
   ],
   "source": [
    "test_coords"
   ]
  },
  {
   "cell_type": "code",
   "execution_count": 22,
   "id": "e05ec4d1",
   "metadata": {},
   "outputs": [
    {
     "data": {
      "text/plain": [
       "-1.0"
      ]
     },
     "execution_count": 22,
     "metadata": {},
     "output_type": "execute_result"
    }
   ],
   "source": [
    "calculate_pair_energy(test_coords, 0, 10, 2)"
=======
   "execution_count": 45,
   "id": "6fa5b222",
   "metadata": {},
   "outputs": [],
   "source": [
    "## Sanity checks\n",
    "test_coords = [[0, 0, 0], [0, 0, 2**(1/6)], [0, 0, 2*2**(1/6)]]\n",
    "\n",
    "# What do you expect the result to be for particle index 1 (use cutoff of 3)?\n",
    "assert calculate_pair_energy(test_coords, 1, 10, 3) == -2\n",
    "# What do you expect the result to be for particle index 0 (use cutoff of 2)?\n",
    "assert calculate_pair_energy(test_coords, 0, 10, 2) == -1\n",
    "\n",
    "assert calculate_pair_energy(test_coords, 0, 10, 3) == calculate_pair_energy(test_coords, 2, 10, 3)\n"
>>>>>>> e8ee2cbbe3344fba10b9eedd2bde062cf4537852
   ]
  },
  {
   "cell_type": "markdown",
<<<<<<< HEAD
   "id": "851fbfd8",
=======
   "id": "42fff89c",
>>>>>>> e8ee2cbbe3344fba10b9eedd2bde062cf4537852
   "metadata": {},
   "source": [
    "# Monte Carlo Loop"
   ]
  },
  {
   "cell_type": "code",
<<<<<<< HEAD
   "execution_count": 31,
   "id": "608636c5",
=======
   "execution_count": 53,
   "id": "3208bb79",
>>>>>>> e8ee2cbbe3344fba10b9eedd2bde062cf4537852
   "metadata": {},
   "outputs": [
    {
     "name": "stdout",
     "output_type": "stream",
     "text": [
      "-4351.540194543858\n",
<<<<<<< HEAD
      "-198.48888374415657\n"
=======
      "-198.4888837441566\n",
      "0 -5.6871567358709845\n",
      "1000 -5.651180182170634\n",
      "2000 -5.637020769853117\n",
      "3000 -5.63623029990943\n",
      "4000 -5.62463482708468\n"
>>>>>>> e8ee2cbbe3344fba10b9eedd2bde062cf4537852
     ]
    }
   ],
   "source": [
<<<<<<< HEAD
    "#read or generate intial coordinates\n",
    "coordinates, box_length = read_xyz('lj_sample_configurations/lj_sample_config_periodic1.txt')\n",
=======
    "# Read or generate initial coordinates\n",
    "coordinates, box_length = read_xyz('lj_sample_configurations/lj_sample_config_periodic1.txt')\n",
    "\n",
    "# Set simulation parameters\n",
    "reduced_temperature = 0.9\n",
    "num_steps = 5000\n",
    "max_displacement = 0.1\n",
    "cutoff = 3\n",
    "    #how often to print an update\n",
    "freq = 1000\n",
    "\n",
    "# Calculated quantities\n",
    "beta = 1 / reduced_temperature\n",
    "num_particles = len(coordinates)\n",
    "\n",
    "# Energy calculations\n",
    "total_energy = calculate_total_energy(coordinates, box_length, cutoff)\n",
    "print(total_energy)\n",
    "total_correction = calculate_tail_correction(num_particles, box_length, cutoff)\n",
    "print(total_correction)\n",
    "total_energy += total_correction\n",
>>>>>>> e8ee2cbbe3344fba10b9eedd2bde062cf4537852
    "\n",
    "#set simulation parameters\n",
    "reduced_temperature = 0.9\n",
    "num_steps= 5000\n",
    "max_displacement = 0.1\n",
    "cutoff = 3\n",
    "freq = 1000\n",
    "\n",
<<<<<<< HEAD
    "#Caculated quatities\n",
    "beta = 1/reduced_temperature\n",
    "num_particles = len(coordinates)\n",
    "\n",
    "#energy calculation\n",
    "total_energy = calculate_total_energy (coordinates, box_length, cutoff)\n",
    "print (total_energy)\n",
    "tail_correction = calculate_tail_correction(num_particles, box_length, cutoff)\n",
    "print (tail_correction)\n",
    "\n",
    "total_energy += tail_correction\n",
    "\n"
   ]
  },
  {
   "cell_type": "code",
   "execution_count": 32,
   "id": "8713ffc1",
   "metadata": {},
   "outputs": [
    {
     "name": "stdout",
     "output_type": "stream",
     "text": [
      "0 -5.688671885044659\n",
      "1000 -5.710306995108846\n",
      "2000 -5.728009645021001\n",
      "3000 -5.67229586054138\n",
      "4000 -5.668544408606924\n"
     ]
    }
   ],
   "source": [
    "for step in range (num_steps):\n",
    "    #1. randomly pick one of the paricles\n",
    "    random_particle=random.randrange(num_particles)\n",
    "    \n",
    "    #2. calculate the interaction energy of the selected particle with the stsem and store this value\n",
    "    current_energy=calculate_pair_energy(coordinates, random_particle, box_length, cutoff)\n",
    "    \n",
    "    #3. generate a random x,y,z displacement\n",
    "    x_rand= random.uniform(-max_displacement, max_displacement)\n",
    "    y_rand= random.uniform(-max_displacement, max_displacement)\n",
    "    z_rand= random.uniform(-max_displacement, max_displacement)\n",
    "    \n",
    "    #4. modify the coordinate of the indexed particle by generated dispalcements\n",
=======
    "for step in range(num_steps):\n",
    "    # 1. Randomly pick one of the particles.\n",
    "    random_particle = random.randrange(num_particles)\n",
    "    \n",
    "    # 2. Calculate the interaction energy of the selected particle with the system.\n",
    "    current_energy = calculate_pair_energy(coordinates, random_particle, box_length, cutoff)\n",
    "    \n",
    "    # 3. Generate a random x, y, z displacement.\n",
    "    x_rand = random.uniform(-max_displacement, max_displacement)\n",
    "    y_rand = random.uniform(-max_displacement, max_displacement)\n",
    "    z_rand = random.uniform(-max_displacement, max_displacement)\n",
    "    \n",
    "    # 4. Modify the coordinate of Nth particle by generated displacements.\n",
>>>>>>> e8ee2cbbe3344fba10b9eedd2bde062cf4537852
    "    coordinates[random_particle][0] += x_rand\n",
    "    coordinates[random_particle][1] += y_rand\n",
    "    coordinates[random_particle][2] += z_rand\n",
    "    \n",
<<<<<<< HEAD
    "    #5. calculate the interaction energy of the moved particle with the system and store this value.\n",
    "    proposed_energy=calculate_pair_energy(coordinates, random_particle, box_length, cutoff)\n",
    "    delta_energy=proposed_energy-current_energy\n",
    "    \n",
    "    #6. Calcualte if we accept the move based on energy difference\n",
    "    accept=accept_or_reject(delta_energy,beta)\n",
    "    \n",
    "    #7. if accepted, update energy. if rejected move back particle coordintes\n",
    "    if accept:\n",
    "        total_energy += delta_energy\n",
    "    else: \n",
    "        coordinates[random_particle][0] -= x_rand\n",
    "        coordinates[random_particle][1] -= y_rand\n",
    "        coordinates[random_particle][2] -= z_rand\n",
    "    #8. print the energy if step is multiple of freq\n",
    "    if step % freq ==0:\n",
=======
    "    # 5. Calculate the interaction energy of the moved particle with the system and store this value.\n",
    "    proposed_energy = calculate_pair_energy(coordinates, random_particle, box_length, cutoff)\n",
    "    delta_energy = proposed_energy - current_energy\n",
    "    \n",
    "    # 6. Calculate if we accept the move based on energy difference.\n",
    "    accept = accept_or_reject(delta_energy, beta)\n",
    "    \n",
    "    # 7. If accepted, move the particle.\n",
    "    if accept:\n",
    "        total_energy += delta_energy\n",
    "    else:\n",
    "        #Move not accepted, roll back coordinates\n",
    "        coordinates[random_particle][0] -= x_rand\n",
    "        coordinates[random_particle][1] -= y_rand\n",
    "        coordinates[random_particle][2] -= z_rand\n",
    "    \n",
    "    # 8. Print the energy if step is a multiple of freq.\n",
    "    if step % freq == 0:\n",
>>>>>>> e8ee2cbbe3344fba10b9eedd2bde062cf4537852
    "        print(step, total_energy/num_particles)"
   ]
  },
  {
   "cell_type": "code",
   "execution_count": null,
<<<<<<< HEAD
   "id": "558c9775",
=======
   "id": "df28644d",
   "metadata": {},
   "outputs": [],
   "source": []
  },
  {
   "cell_type": "code",
   "execution_count": null,
   "id": "65b623cb",
   "metadata": {},
   "outputs": [],
   "source": []
  },
  {
   "cell_type": "code",
   "execution_count": null,
   "id": "11791925",
   "metadata": {},
   "outputs": [],
   "source": []
  },
  {
   "cell_type": "code",
   "execution_count": null,
   "id": "0fc45a08",
>>>>>>> e8ee2cbbe3344fba10b9eedd2bde062cf4537852
   "metadata": {},
   "outputs": [],
   "source": []
  }
 ],
 "metadata": {
  "kernelspec": {
   "display_name": "Python 3 (ipykernel)",
   "language": "python",
   "name": "python3"
  },
  "language_info": {
   "codemirror_mode": {
    "name": "ipython",
    "version": 3
   },
   "file_extension": ".py",
   "mimetype": "text/x-python",
   "name": "python",
   "nbconvert_exporter": "python",
   "pygments_lexer": "ipython3",
   "version": "3.9.6"
  }
 },
 "nbformat": 4,
 "nbformat_minor": 5
}
