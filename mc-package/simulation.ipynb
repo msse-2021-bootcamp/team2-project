{
 "cells": [
  {
   "cell_type": "code",
   "execution_count": 1,
   "id": "d1b17f19",
   "metadata": {},
   "outputs": [],
   "source": [
    "import mcsim.monte_carlo as mc\n"
   ]
  },
  {
   "cell_type": "code",
   "execution_count": 2,
   "id": "859106eb",
   "metadata": {},
   "outputs": [
    {
     "name": "stdout",
     "output_type": "stream",
     "text": [
      "Help on function run_simulation in module mcsim.monte_carlo:\n",
      "\n",
      "run_simulation(coordinates, box_length, reduced_temperature, num_steps, max_displacement, cutoff, freq)\n",
      "\n"
     ]
    }
   ],
   "source": [
    "help(mc.run_simulation)"
   ]
  },
  {
   "cell_type": "code",
   "execution_count": 3,
   "id": "b2e663b3",
   "metadata": {},
   "outputs": [
    {
     "name": "stdout",
     "output_type": "stream",
     "text": [
      "0 -5.68730818590293\n",
      "1000 -5.548123863446874\n",
      "2000 -5.502527910601888\n",
      "3000 -5.492822902730174\n",
      "4000 -5.441581193388803\n",
      "5000 -5.41721638280869\n",
      "6000 -5.40219310242937\n",
      "7000 -5.39718418105526\n",
      "8000 -5.358043114087134\n",
      "9000 -5.293194940102583\n",
      "10000 -5.254843484538626\n",
      "11000 -5.283265740053684\n",
      "12000 -5.262027251876393\n",
      "13000 -5.282423918375347\n",
      "14000 -5.254448212901415\n",
      "15000 -5.281470828101063\n",
      "16000 -5.269664354640678\n",
      "17000 -5.2810185679027235\n",
      "18000 -5.290579317981786\n",
      "19000 -5.25685836701877\n",
      "20000 -5.235682976667469\n",
      "21000 -5.258041967457853\n",
      "22000 -5.252342640750411\n",
      "23000 -5.253013204782569\n",
      "24000 -5.2878386562247215\n",
      "25000 -5.271452436097816\n",
      "26000 -5.233829756726242\n",
      "27000 -5.196409124003989\n",
      "28000 -5.18327351248438\n",
      "29000 -5.169811892255062\n",
      "30000 -5.232861956558513\n",
      "31000 -5.225288162145144\n",
      "32000 -5.188505920250597\n",
      "33000 -5.1837333382091275\n",
      "34000 -5.231655458173495\n",
      "35000 -5.208142930794587\n",
      "36000 -5.1800765896294605\n",
      "37000 -5.177219518224043\n",
      "38000 -5.216777476323324\n",
      "39000 -5.17538317327099\n",
      "40000 -5.208647086593376\n",
      "41000 -5.177234812896696\n",
      "42000 -5.225331216008105\n",
      "43000 -5.207157958597145\n",
      "44000 -5.239851083471568\n",
      "45000 -5.268566250804443\n",
      "46000 -5.264409557728526\n",
      "47000 -5.240332729325541\n",
      "48000 -5.196708284887053\n",
      "49000 -5.116391131937154\n"
     ]
    }
   ],
   "source": [
    "# Set simulation parameters\n",
    "reduced_temperature = 1.5\n",
    "num_steps = 50000\n",
    "max_displacement = 0.1 \n",
    "cutoff = 3\n",
    "\n",
    "# Reporting information\n",
    "freq = 1000\n",
    "\n",
    "# Read initial coordinates\n",
    "\n",
    "coordinates, box_len = mc.read_xyz('../lj_sample_configurations/lj_sample_config_periodic1.txt')\n",
    "\n",
    "mc.run_simulation(coordinates, box_len, reduced_temperature, num_steps, max_displacement, cutoff, freq)"
   ]
  },
  {
   "cell_type": "code",
   "execution_count": null,
   "id": "68263e6d",
   "metadata": {},
   "outputs": [],
   "source": []
  },
  {
   "cell_type": "code",
   "execution_count": null,
   "id": "00616639",
   "metadata": {},
   "outputs": [],
   "source": []
  }
 ],
 "metadata": {
  "kernelspec": {
   "display_name": "Python 3",
   "language": "python",
   "name": "python3"
  },
  "language_info": {
   "codemirror_mode": {
    "name": "ipython",
    "version": 3
   },
   "file_extension": ".py",
   "mimetype": "text/x-python",
   "name": "python",
   "nbconvert_exporter": "python",
   "pygments_lexer": "ipython3",
   "version": "3.9.6"
  }
 },
 "nbformat": 4,
 "nbformat_minor": 5
}
