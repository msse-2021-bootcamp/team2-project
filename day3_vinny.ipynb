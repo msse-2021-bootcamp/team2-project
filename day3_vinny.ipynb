{
 "cells": [
  {
   "cell_type": "markdown",
   "id": "236c051e",
   "metadata": {},
   "source": [
    "# Writing a Molecular Monte Carlo Simulation\n",
    "\n",
    "Starting today, make sure you have the functions\n",
    "\n",
    "1. `calculate_LJ` - written in class\n",
    "1. `read_xyz` - provided in class\n",
    "1. `calculate_total_energy` - modified version provided in this notebook written for homework which has cutoff\n",
    "1. `calculate_distance` - should be the version written for homework which accounts for periodic boundaries.\n",
    "1. `calculate_tail_correction` - written for homework \n"
   ]
  },
  {
   "cell_type": "code",
   "execution_count": 1,
   "id": "430af90f",
   "metadata": {},
   "outputs": [],
   "source": [
    "# add imports here\n",
    "import math\n",
    "import random\n",
    "\n"
   ]
  },
  {
   "cell_type": "code",
   "execution_count": 2,
   "id": "88826d03",
   "metadata": {},
   "outputs": [],
   "source": [
    "def calculate_total_energy(coordinates, box_length, cutoff):\n",
    "    \"\"\"\n",
    "    Calculate the total energy of a set of particles using the Lennard Jones potential.\n",
    "    \n",
    "    Parameters\n",
    "    ----------\n",
    "    coordinates : list\n",
    "        A nested list containing the x, y,z coordinate for each particle\n",
    "    box_length : float\n",
    "        The length of the box. Assumes cubic box.\n",
    "    cutoff : float\n",
    "        The cutoff length\n",
    "    \n",
    "    Returns\n",
    "    -------\n",
    "    total_energy : float\n",
    "        The total energy of the set of coordinates.\n",
    "    \"\"\"\n",
    "    \n",
    "    total_energy = 0\n",
    "    num_atoms = len(coordinates)\n",
    "\n",
    "    for i in range(num_atoms):\n",
    "        for j in range(i+1, num_atoms):\n",
    "            # Calculate the distance between the particles - exercise.\n",
    "            dist_ij = calculate_distance(coordinates[i], coordinates[j], box_length)\n",
    "\n",
    "            if dist_ij < cutoff:\n",
    "                # Calculate the pairwise LJ energy\n",
    "                LJ_ij = calculate_LJ(dist_ij)\n",
    "\n",
    "                # Add to total energy.\n",
    "                total_energy += LJ_ij\n",
    "    return total_energy\n",
    "\n",
    "def read_xyz(filepath):\n",
    "    \"\"\"\n",
    "    Reads coordinates from an xyz file.\n",
    "    \n",
    "    Parameters\n",
    "    ----------\n",
    "    filepath : str\n",
    "       The path to the xyz file to be processed.\n",
    "       \n",
    "    Returns\n",
    "    -------\n",
    "    atomic_coordinates : list\n",
    "        A two dimensional list containing atomic coordinates\n",
    "    \"\"\"\n",
    "    \n",
    "    with open(filepath) as f:\n",
    "        box_length = float(f.readline().split()[0])\n",
    "        num_atoms = float(f.readline())\n",
    "        coordinates = f.readlines()\n",
    "    \n",
    "    atomic_coordinates = []\n",
    "    \n",
    "    for atom in coordinates:\n",
    "        split_atoms = atom.split()\n",
    "        \n",
    "        float_coords = []\n",
    "        \n",
    "        # We split this way to get rid of the atom label.\n",
    "        for coord in split_atoms[1:]:\n",
    "            float_coords.append(float(coord))\n",
    "            \n",
    "        atomic_coordinates.append(float_coords)\n",
    "        \n",
    "    return atomic_coordinates, box_length\n",
    "\n",
    "def calculate_LJ(r_ij):\n",
    "    \"\"\"\n",
    "    The LJ interaction energy between two particles.\n",
    "\n",
    "    Computes the pairwise Lennard Jones interaction energy based on the separation distance in reduced units.\n",
    "\n",
    "    Parameters\n",
    "    ----------\n",
    "    r_ij : float\n",
    "        The distance between the particles in reduced units.\n",
    "    \n",
    "    Returns\n",
    "    -------\n",
    "    pairwise_energy : float\n",
    "        The pairwise Lennard Jones interaction energy in reduced units.\n",
    "\n",
    "    Examples\n",
    "    --------\n",
    "    >>> calculate_LJ(1)\n",
    "    0\n",
    "\n",
    "    \"\"\"\n",
    "    \n",
    "    r6_term = math.pow(1/r_ij, 6)\n",
    "    r12_term = math.pow(r6_term, 2)\n",
    "    \n",
    "    pairwise_energy = 4 * (r12_term - r6_term)\n",
    "    \n",
    "    return pairwise_energy\n",
    "\n",
    "\n",
    "## Add your group's modified calculate_distance function\n",
    "\n",
    "\n",
    "## Add your group's tail correction function"
   ]
  },
  {
   "cell_type": "code",
   "execution_count": 3,
   "id": "2c1ae6cd",
   "metadata": {},
   "outputs": [],
   "source": [
    "def calculate_tail_correction(box_legth, n_particles, cutoff):\n",
    "    \"\"\"\n",
    "    Calculates the tail correction\n",
    "    \n",
    "    Parameters\n",
    "    ----------\n",
    "    box_legth : float\n",
    "        The distance between the particles in reduced units.\n",
    "    n_particles : int\n",
    "        The number of particles.\n",
    "    cutoff : float\n",
    "        The cutoff value.\n",
    "    \"\"\"\n",
    "    pi_term = (8 * math.pi * math.pow(n_particles, 2)) / (3 * math.pow(box_legth, 3))\n",
    "    r9_term = (1/3) * (math.pow(1/cutoff, 9))\n",
    "    r3_term = math.pow(1/cutoff, 3)\n",
    "    \n",
    "    tail_correction = pi_term * (r9_term - r3_term)\n",
    "    \n",
    "    return tail_correction\n",
    "\n",
    "\n"
   ]
  },
  {
   "cell_type": "code",
   "execution_count": 4,
   "id": "0125d113",
   "metadata": {},
   "outputs": [],
   "source": [
    "def calculate_distance(coord1, coord2, box_length=None):\n",
    "    \"\"\"\n",
    "    Calculate the distance between two 3D coordinates.\n",
    "    \n",
    "    Parameters\n",
    "    ----------\n",
    "    coord1, coord2: list\n",
    "        The atomic coordinates\n",
    "    \n",
    "    Returns\n",
    "    -------\n",
    "    distance: float\n",
    "        The distance between the two points.\n",
    "    \"\"\"\n",
    "    \n",
    "    distance = 0\n",
    "    for i in range(3):\n",
    "        dim_dist = (coord1[i] - coord2[i]) \n",
    "        \n",
    "        if box_length:\n",
    "            dim_dist = dim_dist - box_length * round(dim_dist / box_length)\n",
    "        \n",
    "        dim_dist = dim_dist**2\n",
    "        distance += dim_dist\n",
    "    \n",
    "    distance = math.sqrt(distance)\n",
    "    return distance"
   ]
  },
  {
   "cell_type": "code",
   "execution_count": 5,
   "id": "a7491f5f",
   "metadata": {},
   "outputs": [],
   "source": [
    "def accept_or_reject(delta_e, beta):\n",
    "    \"\"\"\n",
    "    Calculates \n",
    "    \n",
    "    Parameters\n",
    "    ----------\n",
    "    delta_e : float\n",
    "        Delta value.\n",
    "    beta : float\n",
    "        Beta value.\n",
    "\n",
    "    \"\"\"\n",
    "    if delta_e <= 0.0:\n",
    "        accept = True\n",
    "    else:\n",
    "        random_number = random.random()\n",
    "        p_acc = math.exp(-beta*delta_e)\n",
    "        if random_number < p_acc:\n",
    "            accept = True\n",
    "        else:\n",
    "            accept = False\n",
    "\n",
    "    return accept"
   ]
  },
  {
   "cell_type": "code",
   "execution_count": 6,
   "id": "2719528a",
   "metadata": {},
   "outputs": [
    {
     "data": {
      "text/plain": [
       "0.292017435201229"
      ]
     },
     "execution_count": 6,
     "metadata": {},
     "output_type": "execute_result"
    }
   ],
   "source": [
    "random.random()"
   ]
  },
  {
   "cell_type": "code",
   "execution_count": 7,
   "id": "c565d2dd",
   "metadata": {},
   "outputs": [],
   "source": [
    "delta_energy = -1\n",
    "beta = 1\n",
    "assert accept_or_reject(delta_energy, beta) is True\n",
    "\n",
    "delta_energy = 0\n",
    "beta = 1\n",
    "assert accept_or_reject(delta_energy, beta) is True"
   ]
  },
  {
   "cell_type": "code",
   "execution_count": 8,
   "id": "ecb1d0df",
   "metadata": {},
   "outputs": [
    {
     "data": {
      "text/plain": [
       "0.6229016948897019"
      ]
     },
     "execution_count": 8,
     "metadata": {},
     "output_type": "execute_result"
    }
   ],
   "source": [
    "random.seed(5)\n",
    "random.random()"
   ]
  },
  {
   "cell_type": "code",
   "execution_count": 9,
   "id": "30524f6b",
   "metadata": {},
   "outputs": [
    {
     "data": {
      "text/plain": [
       "0.8444218515250481"
      ]
     },
     "execution_count": 9,
     "metadata": {},
     "output_type": "execute_result"
    }
   ],
   "source": [
    "random.seed(0)\n",
    "random.random()"
   ]
  },
  {
   "cell_type": "code",
   "execution_count": 10,
   "id": "5d440949",
   "metadata": {},
   "outputs": [],
   "source": [
    "random.seed(0)\n",
    "delta_e = 1\n",
    "beta = 1\n",
    "assert accept_or_reject(delta_e, beta) is False"
   ]
  },
  {
   "cell_type": "code",
   "execution_count": 11,
   "id": "1f887267",
   "metadata": {},
   "outputs": [],
   "source": [
    "random.seed(1)\n",
    "delta_e = 1\n",
    "beta = 1\n",
    "assert accept_or_reject(delta_e, beta) is True"
   ]
  },
  {
   "cell_type": "code",
   "execution_count": 12,
   "id": "87a62e7d",
   "metadata": {},
   "outputs": [],
   "source": [
    "random.seed()"
   ]
  },
  {
   "cell_type": "code",
   "execution_count": 13,
   "id": "f33a6e88",
   "metadata": {},
   "outputs": [],
   "source": [
    "def calculate_pair_energy(coordinates, i_particle, box_length, cutoff):\n",
    "    \"\"\"\n",
    "    Calculate the interaction energy of a particle with its environment (all other particles in the system)\n",
    "    \n",
    "    Parameters\n",
    "    ----------\n",
    "    coordinates : list\n",
    "        The coordinates for all particles in the system\n",
    "        \n",
    "    i_particle : int\n",
    "        The particle number for which to calculate the energy\n",
    "        \n",
    "    cutoff : float\n",
    "        The simulation cutoff. Beyond this distance, interactions are not calculated.\n",
    "    \n",
    "    Returns\n",
    "    -------\n",
    "    e_total : float \n",
    "        The pairwise interaction energy of he i_th particle with all other particles in the system.\n",
    "    \"\"\"\n",
    "    \n",
    "    e_total = 0.0\n",
    "    i_position = coordinates[i_particle]\n",
    " \n",
    "    num_atoms = len(coordinates)\n",
    "\n",
    "    for j_particle in range(num_atoms):\n",
    "        if i_particle != j_particle:\n",
    "\n",
    "            j_position = coordinates[j_particle]\n",
    "            rij = calculate_distance(i_position, j_position, box_length)\n",
    "\n",
    "            if rij < cutoff:\n",
    "                e_pair = calculate_LJ(rij)\n",
    "                e_total += e_pair\n",
    "\n",
    "    return e_total"
   ]
  },
  {
   "cell_type": "code",
   "execution_count": 14,
   "id": "5dd74f35",
   "metadata": {},
   "outputs": [],
   "source": [
    "## Sanity checks\n",
    "test_coords = [[0,0,0], [0, 0, 2**(1/6)], [0, 0, 2*2**(1/6)]]\n",
    "\n",
    "# What do you expect the result to be for particle index 1 (use cutoff of 3)\n",
    "assert calculate_pair_energy(test_coords, 1, 10, 3) == -2\n",
    "\n",
    "# What do you expect the result to be for particle index 0 with a cut off of 2?\n",
    "assert calculate_pair_energy(test_coords, 0, 10, 2) == -1\n",
    "\n",
    "assert calculate_pair_energy(test_coords, 0, 10, 3) == calculate_pair_energy(test_coords, 2, 10, 3)"
   ]
  },
  {
   "cell_type": "code",
   "execution_count": 15,
   "id": "c4d1739e",
   "metadata": {},
   "outputs": [],
   "source": [
    "def read_xyz(filepath):\n",
    "    \"\"\"\n",
    "    Reads coordinates from an xyz file.\n",
    "    \n",
    "    Parameters\n",
    "    ----------\n",
    "    filepath : str\n",
    "       The path to the xyz file to be processed.\n",
    "       \n",
    "    Returns\n",
    "    -------\n",
    "    atomic_coordinates : list\n",
    "        A two dimensional list containing atomic coordinates\n",
    "    \"\"\"\n",
    "    \n",
    "    with open(filepath) as f:\n",
    "        box_length = float(f.readline().split()[0])\n",
    "        num_atoms = float(f.readline())\n",
    "        coordinates = f.readlines()\n",
    "    \n",
    "    atomic_coordinates = []\n",
    "    \n",
    "    for atom in coordinates:\n",
    "        split_atoms = atom.split()\n",
    "        \n",
    "        float_coords = []\n",
    "        \n",
    "        # We split this way to get rid of the atom label.\n",
    "        for coord in split_atoms[1:]:\n",
    "            float_coords.append(float(coord))\n",
    "            \n",
    "        atomic_coordinates.append(float_coords)\n",
    "        \n",
    "    \n",
    "    return atomic_coordinates, box_length\n"
   ]
  },
  {
   "cell_type": "code",
   "execution_count": 16,
   "id": "ff46f9a1",
   "metadata": {},
   "outputs": [],
   "source": [
    "coordinates = [[0, 0, 0], [0, 0, 2**(1/6)], [0, 0, 2*(2**(1/6))]]\n",
    "\n",
    "assert calculate_pair_energy(coordinates, 0, 0, 1) == 0\n",
    "\n",
    "assert calculate_pair_energy(coordinates, 1, 10, 3) == -2\n",
    "\n",
    "assert calculate_pair_energy(coordinates, 0, 10, 3) == calculate_pair_energy(coordinates, 2, 10, 3)\n",
    "\n",
    "assert calculate_pair_energy(coordinates, 0, 10, 2) == -1"
   ]
  },
  {
   "cell_type": "markdown",
   "id": "5594c167",
   "metadata": {},
   "source": [
    "# Monte Carlo Loop"
   ]
  },
  {
   "cell_type": "code",
   "execution_count": 17,
   "id": "e94680be",
   "metadata": {},
   "outputs": [],
   "source": [
    "# Read coordinates\n",
    "coordinates, box_length = read_xyz(\"lj_sample_configurations/lj_sample_config_periodic1.txt\")\n",
    "\n",
    "# Set simulation parameters\n",
    "\n",
    "reduced_temperature = 0.9\n",
    "num_steps = 5000\n",
    "max_displacement = 0.1\n",
    "cutoff = 3.0\n",
    "freq = 1000\n",
    "\n",
    "# Calculated quantities\n",
    "beta = 1 / reduced_temperature\n",
    "num_particles = len(coordinates)"
   ]
  },
  {
   "cell_type": "code",
   "execution_count": 18,
   "id": "30139f74",
   "metadata": {},
   "outputs": [
    {
     "name": "stdout",
     "output_type": "stream",
     "text": [
      "10.0\n",
      "800\n",
      "-4351.540194543858\n",
      "-198.4888837441566\n",
      "-4550.029078288015\n"
     ]
    }
   ],
   "source": [
    "print(box_length)\n",
    "print(num_particles)\n",
    "\n",
    "# Enerrgy calculations\n",
    "total_energy = calculate_total_energy(coordinates, box_length, cutoff)\n",
    "print(total_energy)\n",
    "c = len(coordinates)\n",
    "\n",
    "# With tail correction\n",
    "tail_correction = calculate_tail_correction(box_length, num_particles, cutoff)\n",
    "print(tail_correction)\n",
    "total_energy += tail_correction\n",
    "print(total_energy)\n",
    "                                          "
   ]
  },
  {
   "cell_type": "code",
   "execution_count": 21,
   "id": "900f87b8",
   "metadata": {},
   "outputs": [
    {
     "name": "stdout",
     "output_type": "stream",
     "text": [
      "0 -5.696977853518065\n",
      "1000 -5.701470201950446\n",
      "2000 -5.651504811416864\n",
      "3000 -5.653911031570111\n",
      "4000 -5.663677730086829\n"
     ]
    }
   ],
   "source": [
    "steps = []\n",
    "energies = []\n",
    "\n",
    "random.seed(0)\n",
    "for step in range(num_steps):\n",
    "    \n",
    "    # 1. Randomly pick one of N particles\n",
    "    random_particle = random.randrange(num_particles)\n",
    "\n",
    "    # 2. Calculate the interaction energy of the selected particle with the system and store this value.\n",
    "    current_energy = calculate_pair_energy(coordinates, random_particle, box_length, cutoff)\n",
    "    \n",
    "    # 3. Generate random x, y, z displacement\n",
    "    x_rand = random.uniform(-max_displacement, max_displacement)\n",
    "    y_rand = random.uniform(-max_displacement, max_displacement)\n",
    "    z_rand = random.uniform(-max_displacement, max_displacement)\n",
    "    \n",
    "    # 4. Modify coordinate of Nth particle by generated displacements\n",
    "    coordinates[random_particle][0] += x_rand\n",
    "    coordinates[random_particle][1] += y_rand\n",
    "    coordinates[random_particle][2] += z_rand\n",
    "     \n",
    "        \n",
    "    # 5. Calculate interaction energy of moved particle with the system and store this value.\n",
    "    proposed_energy = calculate_pair_energy(coordinates, random_particle, box_length, cutoff)\n",
    "    #print(\"proposed_energy: \", proposed_energy)\n",
    "    #print(\"current_energy:\", current_energy)\n",
    "    delta_energy = proposed_energy - current_energy\n",
    "    \n",
    "    # 6. Calculate if we accept the move\n",
    "    accept = accept_or_reject(delta_energy, beta)\n",
    "    \n",
    "    # 7. if accept, move particle\n",
    "    if accept:\n",
    "        total_energy += delta_energy\n",
    "        \n",
    "    else:\n",
    "        # Move is not accepted, roll back coordinates\n",
    "        coordinates[random_particle][0] -= x_rand\n",
    "        coordinates[random_particle][1] -= y_rand\n",
    "        coordinates[random_particle][2] -= z_rand\n",
    "    \n",
    "    # 8. print energy if step is multiple of freq\n",
    "    if step % freq == 0:\n",
    "        print(step, total_energy/num_particles)\n",
    "        # steps.append(step)\n",
    "        # energies.append(total_energy/num_particles)\n",
    "    \n",
    "    "
   ]
  },
  {
   "cell_type": "code",
   "execution_count": 20,
   "id": "94ce2df7",
   "metadata": {},
   "outputs": [
    {
     "data": {
      "text/plain": [
       "800"
      ]
     },
     "execution_count": 20,
     "metadata": {},
     "output_type": "execute_result"
    }
   ],
   "source": [
    "len(coordinates)"
   ]
  },
  {
   "cell_type": "code",
   "execution_count": null,
   "id": "fe464e81",
   "metadata": {},
   "outputs": [],
   "source": []
  }
 ],
 "metadata": {
  "kernelspec": {
   "display_name": "Python 3",
   "language": "python",
   "name": "python3"
  },
  "language_info": {
   "codemirror_mode": {
    "name": "ipython",
    "version": 3
   },
   "file_extension": ".py",
   "mimetype": "text/x-python",
   "name": "python",
   "nbconvert_exporter": "python",
   "pygments_lexer": "ipython3",
   "version": "3.9.6"
  }
 },
 "nbformat": 4,
 "nbformat_minor": 5
}
