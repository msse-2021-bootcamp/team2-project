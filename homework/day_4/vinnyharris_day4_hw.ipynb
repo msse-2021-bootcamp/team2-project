{
 "cells": [
  {
   "cell_type": "markdown",
   "id": "280cbba6",
   "metadata": {},
   "source": [
    "# NumPy Monte Carlo Simulation"
   ]
  },
  {
   "cell_type": "code",
   "execution_count": 1,
   "id": "a8a76afe",
   "metadata": {},
   "outputs": [],
   "source": [
    "import math\n",
    "import random\n",
    "import time"
   ]
  },
  {
   "cell_type": "markdown",
   "id": "eb837d32",
   "metadata": {},
   "source": [
    "## Standard Implementations"
   ]
  },
  {
   "cell_type": "code",
   "execution_count": 2,
   "id": "19563809",
   "metadata": {},
   "outputs": [],
   "source": [
    "def calculate_distance(coord1, coord2, box_length=None):\n",
    "    \"\"\"\n",
    "    Calculate the distance between two points. When box_length is set, the minimum image convention is used to calculate the distance between the points.\n",
    "\n",
    "    Parameters\n",
    "    ----------\n",
    "    coord1, coord2 : list\n",
    "        The coordinates of the points, [x, y, z]\n",
    "    \n",
    "    box_length : float, optional\n",
    "        The box length\n",
    "\n",
    "    Returns\n",
    "    -------\n",
    "    distance : float\n",
    "        The distance between the two points accounting for periodic boundaries\n",
    "    \"\"\"\n",
    "    distance = 0\n",
    "        \n",
    "    for i in range(3):\n",
    "        hold_dist = abs(coord2[i] - coord1[i])\n",
    "    \n",
    "        if (box_length):    \n",
    "            if hold_dist > box_length/2:\n",
    "                hold_dist = hold_dist - (box_length * round(hold_dist/box_length))\n",
    "        distance += math.pow(hold_dist, 2)\n",
    "\n",
    "    return math.sqrt(distance)\n"
   ]
  },
  {
   "cell_type": "code",
   "execution_count": 3,
   "id": "cbd83490",
   "metadata": {},
   "outputs": [
    {
     "data": {
      "text/plain": [
       "1.4000000000000004"
      ]
     },
     "execution_count": 3,
     "metadata": {},
     "output_type": "execute_result"
    }
   ],
   "source": [
    "pt1= [0,0,0]\n",
    "pt2= [8,0,0]\n",
    "\n",
    "\n",
    "calculate_distance(pt1,pt2,3.3)"
   ]
  },
  {
   "cell_type": "code",
   "execution_count": 4,
   "id": "cd8a77f8",
   "metadata": {},
   "outputs": [],
   "source": [
    "def calculate_LJ(r_ij):\n",
    "    \"\"\"\n",
    "    The LJ interaction energy between two particles.\n",
    "\n",
    "    Computes the pairwise Lennard Jones interaction energy based on the separation distance in reduced units.\n",
    "\n",
    "    Parameters\n",
    "    ----------\n",
    "    r_ij : float\n",
    "        The distance between the particles in reduced units.\n",
    "    \n",
    "    Returns\n",
    "    -------\n",
    "    pairwise_energy : float\n",
    "        The pairwise Lennard Jones interaction energy in reduced units.\n",
    "\n",
    "    Examples\n",
    "    --------\n",
    "    >>> calculate_LJ(1)\n",
    "    0\n",
    "\n",
    "    \"\"\"\n",
    "    \n",
    "    r6_term = math.pow(1/r_ij, 6)\n",
    "    r12_term = math.pow(r6_term, 2)\n",
    "    \n",
    "    pairwise_energy = 4 * (r12_term - r6_term)\n",
    "    \n",
    "    return pairwise_energy"
   ]
  },
  {
   "cell_type": "code",
   "execution_count": 5,
   "id": "c24340d6",
   "metadata": {},
   "outputs": [
    {
     "data": {
      "text/plain": [
       "-0.0009763240814208984"
      ]
     },
     "execution_count": 5,
     "metadata": {},
     "output_type": "execute_result"
    }
   ],
   "source": [
    "assert calculate_LJ(1) == 0\n",
    "assert calculate_LJ(math.pow(2, (1/6))) == -1.0\n",
    "\n",
    "calculate_LJ(4.0)\n",
    "#assert calculate_LJ(3.0) == -0.1910413370565145"
   ]
  },
  {
   "cell_type": "code",
   "execution_count": null,
   "id": "569d47e9",
   "metadata": {},
   "outputs": [],
   "source": []
  },
  {
   "cell_type": "code",
   "execution_count": 6,
   "id": "253b2931",
   "metadata": {},
   "outputs": [],
   "source": [
    "def calculate_total_energy(coordinates, box_length, cutoff):\n",
    "    \"\"\"\n",
    "    Calculate the total energy of a set of particles using the Lennard Jones potential.\n",
    "    \n",
    "    Parameters\n",
    "    ----------\n",
    "    coordinates : list\n",
    "        A nested list containing the x, y,z coordinate for each particle\n",
    "    box_length : float\n",
    "        The length of the box. Assumes cubic box.\n",
    "    cutoff : float\n",
    "        The cutoff length\n",
    "    \n",
    "    Returns\n",
    "    -------\n",
    "    total_energy : float\n",
    "        The total energy of the set of coordinates.\n",
    "    \"\"\"\n",
    "    \n",
    "    total_energy = 0\n",
    "    num_atoms = len(coordinates)\n",
    "\n",
    "    for i in range(num_atoms):\n",
    "        for j in range(i+1, num_atoms):\n",
    "            # Calculate the distance between the particles - exercise.\n",
    "            dist_ij = calculate_distance(coordinates[i], coordinates[j], box_length)\n",
    "\n",
    "            if dist_ij < cutoff:\n",
    "                # Calculate the pairwise LJ energy\n",
    "                LJ_ij = calculate_LJ(dist_ij)\n",
    "\n",
    "                # Add to total energy.\n",
    "                total_energy += LJ_ij\n",
    "    return total_energy\n",
    "\n",
    "\n"
   ]
  },
  {
   "cell_type": "code",
   "execution_count": 7,
   "id": "a2a41645",
   "metadata": {},
   "outputs": [
    {
     "name": "stdout",
     "output_type": "stream",
     "text": [
      "-2.031005859375\n"
     ]
    }
   ],
   "source": [
    "coordinates = [[0, 0, 0], [0, math.pow(2, 1/6), 0], [0, 2*math.pow(2, 1/6), 0]]\n",
    "\n",
    "test_energy =  calculate_total_energy(coordinates, 10, 3.0) \n",
    "\n",
    "print(test_energy)\n",
    "\n",
    "assert test_energy == -2.031005859375"
   ]
  },
  {
   "cell_type": "code",
   "execution_count": 8,
   "id": "8407ff43",
   "metadata": {},
   "outputs": [],
   "source": [
    "def calculate_pair_energy(coordinates, i_particle, box_length, cutoff):\n",
    "    \"\"\"\n",
    "    Calculate the interaction energy of a particle with its environment (all other particles in the system)\n",
    "    \n",
    "    Parameters\n",
    "    ----------\n",
    "    coordinates : list\n",
    "        The coordinates for all the particles in the system.\n",
    "        \n",
    "    i_particle : int\n",
    "        The particle number for which to calculate the energy.\n",
    "        \n",
    "    cutoff : float\n",
    "        The simulation cutoff. Beyond this distance, interactions are not calculated.\n",
    "    \n",
    "    box_length : float\n",
    "        The length of the box for periodic bounds\n",
    "        \n",
    "    Returns\n",
    "    -------\n",
    "    e_total : float\n",
    "        The pairwise interaction energy of the ith particles with all other particles in the system\n",
    "    \"\"\"\n",
    "    \n",
    "    e_total = 0.0\n",
    "    #creates a list of the coordinates for the i_particle\n",
    "    i_position = coordinates[i_particle]\n",
    "    \n",
    "    num_atoms = len(coordinates)\n",
    "    \n",
    "    for j_particle in range(num_atoms):\n",
    "        \n",
    "        if i_particle != j_particle:\n",
    "            #creates a list of coordinates for the j_particle\n",
    "            j_position = coordinates[j_particle]\n",
    "            rij = calculate_distance(i_position, j_position, box_length)\n",
    "            \n",
    "            if rij < cutoff:\n",
    "                e_pair = calculate_LJ(rij)\n",
    "                e_total += e_pair\n",
    "    \n",
    "    return e_total\n",
    "    "
   ]
  },
  {
   "cell_type": "code",
   "execution_count": 9,
   "id": "512df8ef",
   "metadata": {},
   "outputs": [],
   "source": [
    "coordinates = [[0, 0, 0], [0, 0, 2**(1/6)], [0, 0, 2*(2**(1/6))]]\n",
    "\n",
    "assert calculate_pair_energy(coordinates, 1, 10, 3) == -2\n",
    "\n",
    "assert calculate_pair_energy(coordinates, 0, 10, 3) == calculate_pair_energy(coordinates, 2, 10, 3)\n",
    "\n",
    "assert calculate_pair_energy(coordinates, 0, 10, 2) == -1"
   ]
  },
  {
   "cell_type": "code",
   "execution_count": 10,
   "id": "2612a677",
   "metadata": {},
   "outputs": [],
   "source": [
    "def read_xyz(filepath):\n",
    "    \"\"\"\n",
    "    Reads coordinates from an xyz file.\n",
    "    \n",
    "    Parameters\n",
    "    ----------\n",
    "    filepath : str\n",
    "       The path to the xyz file to be processed.\n",
    "       \n",
    "    Returns\n",
    "    -------\n",
    "    atomic_coordinates : list\n",
    "        A two dimensional list containing atomic coordinates\n",
    "    \"\"\"\n",
    "    \n",
    "    with open(filepath) as f:\n",
    "        box_length = float(f.readline().split()[0])\n",
    "        num_atoms = float(f.readline())\n",
    "        coordinates = f.readlines()\n",
    "    \n",
    "    atomic_coordinates = []\n",
    "    \n",
    "    for atom in coordinates:\n",
    "        split_atoms = atom.split()\n",
    "        \n",
    "        float_coords = []\n",
    "        \n",
    "        # We split this way to get rid of the atom label.\n",
    "        for coord in split_atoms[1:]:\n",
    "            float_coords.append(float(coord))\n",
    "            \n",
    "        atomic_coordinates.append(float_coords)\n",
    "        \n",
    "    return atomic_coordinates, box_length\n",
    "\n"
   ]
  },
  {
   "cell_type": "code",
   "execution_count": null,
   "id": "8646db91",
   "metadata": {},
   "outputs": [],
   "source": []
  },
  {
   "cell_type": "code",
   "execution_count": 11,
   "id": "5ebe26a0",
   "metadata": {},
   "outputs": [],
   "source": [
    "def calculate_tail_correction(box_legth, n_particles, cutoff):\n",
    "    \"\"\"\n",
    "    Calculates the tail correction\n",
    "    \n",
    "    Parameters\n",
    "    ----------\n",
    "    box_legth : float\n",
    "        The distance between the particles in reduced units.\n",
    "    n_particles : int\n",
    "        The number of particles.\n",
    "    cutoff : float\n",
    "        The cutoff value.\n",
    "    \"\"\"\n",
    "    pi_term = (8 * math.pi * math.pow(n_particles, 2)) / (3 * math.pow(box_legth, 3))\n",
    "    r9_term = (1/3) * (math.pow(1/cutoff, 9))\n",
    "    r3_term = math.pow(1/cutoff, 3)\n",
    "    \n",
    "    tail_correction = pi_term * (r9_term - r3_term)\n",
    "    \n",
    "    return tail_correction"
   ]
  },
  {
   "cell_type": "code",
   "execution_count": 12,
   "id": "1f22a7e6",
   "metadata": {},
   "outputs": [],
   "source": [
    "def accept_or_reject(delta_U, beta):\n",
    "    \"\"\"\n",
    "    Accept or reject a move based on the Metropolis criterion.\n",
    "    \n",
    "    Parameters\n",
    "    ----------\n",
    "    detlta_U : float\n",
    "        The change in energy for moving system from state m to n.\n",
    "    beta : float\n",
    "        1/temperature\n",
    "    \n",
    "    Returns\n",
    "    -------\n",
    "    boolean\n",
    "        Whether the move is accepted.\n",
    "    \"\"\"\n",
    "    if delta_U <= 0.0:\n",
    "        accept = True\n",
    "    else:\n",
    "        #Generate a random number on (0,1)\n",
    "        random_number = random.random()\n",
    "        p_acc = math.exp(-beta*delta_U)\n",
    "        \n",
    "        if random_number < p_acc:\n",
    "            accept = True\n",
    "        else:\n",
    "            accept = False\n",
    "    return accept"
   ]
  },
  {
   "cell_type": "code",
   "execution_count": 13,
   "id": "ca46f1df",
   "metadata": {},
   "outputs": [
    {
     "name": "stdout",
     "output_type": "stream",
     "text": [
      "10.0\n",
      "800\n"
     ]
    }
   ],
   "source": [
    "# Set globals the same to compare time\n",
    "\n",
    "# Read or generate initial coordinates\n",
    "coordinates, box_length = read_xyz('../../lj_sample_configurations/lj_sample_config_periodic1.txt')\n",
    "print(box_length)\n",
    "print(len(coordinates))\n",
    "# Set simulation parameters\n",
    "reduced_temperature = 0.9\n",
    "num_steps = 5000\n",
    "max_displacement = 0.1\n",
    "cutoff = 3\n",
    "    \n",
    "#how often to print an update\n",
    "freq = 1000\n",
    "\n",
    "# Calculated quantities\n",
    "beta = 1 / reduced_temperature\n",
    "num_particles = len(coordinates)"
   ]
  },
  {
   "cell_type": "code",
   "execution_count": 32,
   "id": "476b0000",
   "metadata": {},
   "outputs": [
    {
     "name": "stdout",
     "output_type": "stream",
     "text": [
      "-4351.540194543858\n",
      "-6.057400016606341e-08\n",
      "0 -5.4389152161252365\n",
      "1000 -5.432619114132905\n",
      "2000 -5.431427240538102\n",
      "3000 -5.423851097764867\n",
      "4000 -5.433537881693178\n",
      "84.82170486450195\n"
     ]
    }
   ],
   "source": [
    "start_std = time.time()\n",
    "\n",
    "#Energy calculations\n",
    "total_energy = calculate_total_energy(coordinates, box_length, cutoff)\n",
    "print(total_energy)\n",
    "total_correction = calculate_tail_correction(num_particles, box_length, cutoff)\n",
    "print(total_correction)\n",
    "total_energy += total_correction\n",
    "\n",
    "\n",
    "for step in range(num_steps):\n",
    "    # 1. Randomly pick one of the particles.\n",
    "    random_particle = random.randrange(num_particles)\n",
    "    \n",
    "    # 2. Calculate the interaction energy of the selected particle with the system.\n",
    "    current_energy = calculate_pair_energy(coordinates, random_particle, box_length, cutoff)\n",
    "    \n",
    "    # 3. Generate a random x, y, z displacement.\n",
    "    x_rand = random.uniform(-max_displacement, max_displacement)\n",
    "    y_rand = random.uniform(-max_displacement, max_displacement)\n",
    "    z_rand = random.uniform(-max_displacement, max_displacement)\n",
    "    \n",
    "    # 4. Modify the coordinate of Nth particle by generated displacements.\n",
    "    coordinates[random_particle][0] += x_rand\n",
    "    coordinates[random_particle][1] += y_rand\n",
    "    coordinates[random_particle][2] += z_rand\n",
    "    \n",
    "    # 5. Calculate the interaction energy of the moved particle with the system and store this value.\n",
    "    proposed_energy = calculate_pair_energy(coordinates, random_particle, box_length, cutoff)\n",
    "    delta_energy = proposed_energy - current_energy\n",
    "    \n",
    "    # 6. Calculate if we accept the move based on energy difference.\n",
    "    accept = accept_or_reject(delta_energy, beta)\n",
    "    \n",
    "    # 7. If accepted, move the particle.\n",
    "    if accept:\n",
    "        total_energy += delta_energy\n",
    "    else:\n",
    "        #Move not accepted, roll back coordinates\n",
    "        coordinates[random_particle][0] -= x_rand\n",
    "        coordinates[random_particle][1] -= y_rand\n",
    "        coordinates[random_particle][2] -= z_rand\n",
    "    \n",
    "    # 8. Print the energy if step is a multiple of freq.\n",
    "    if step % freq == 0:\n",
    "        print(step, total_energy/num_particles)\n",
    "        \n",
    "end_std = time.time()\n",
    "elapsed_std = end_std - start_std\n",
    "print(elapsed_std)"
   ]
  },
  {
   "cell_type": "markdown",
   "id": "40533746",
   "metadata": {},
   "source": [
    "# NumPy Implementations"
   ]
  },
  {
   "cell_type": "code",
   "execution_count": 15,
   "id": "447b4ad5",
   "metadata": {},
   "outputs": [
    {
     "data": {
      "text/plain": [
       "8.0"
      ]
     },
     "execution_count": 15,
     "metadata": {},
     "output_type": "execute_result"
    }
   ],
   "source": [
    "import numpy as np\n",
    "pt1 = np.array([0,0,0])\n",
    "pt2 = np.array([0,8,0])\n",
    "\n",
    "\n",
    "calculate_distance(pt1,pt2)"
   ]
  },
  {
   "cell_type": "code",
   "execution_count": 16,
   "id": "c01fdf94",
   "metadata": {},
   "outputs": [
    {
     "name": "stdout",
     "output_type": "stream",
     "text": [
      "[0 8 0]\n"
     ]
    }
   ],
   "source": [
    "dimensional_distance = pt2-pt1\n",
    "print (dimensional_distance)"
   ]
  },
  {
   "cell_type": "code",
   "execution_count": 17,
   "id": "43a3c1fd",
   "metadata": {},
   "outputs": [
    {
     "name": "stdout",
     "output_type": "stream",
     "text": [
      "[ 0 64  0]\n",
      "8.0\n"
     ]
    }
   ],
   "source": [
    "dd2 = dimensional_distance **2\n",
    "print(dd2)\n",
    "\n",
    "dd2_sum=dd2.sum()\n",
    "distance = math.sqrt(dd2_sum)\n",
    "print (distance)"
   ]
  },
  {
   "cell_type": "code",
   "execution_count": 18,
   "id": "2243ed3c",
   "metadata": {},
   "outputs": [],
   "source": [
    "def calculate_distance_np(coord1, coord2, box_length=None):\n",
    "    \"\"\"\n",
    "    Calculate the distance between two points. When box_length is set, the minimum image convention is used to calculate the distance between the points.\n",
    "\n",
    "    Parameters\n",
    "    ----------\n",
    "    coord1, coord2 : np.array\n",
    "        The coordinates of the points, [x, y, z]\n",
    "    \n",
    "    box_length : float, optional\n",
    "        The box length\n",
    "\n",
    "    Returns\n",
    "    -------\n",
    "    distance : float\n",
    "        The distance between the two points accounting for periodic boundaries\n",
    "    \"\"\"\n",
    "    coord_dist=coord1-coord2\n",
    "    if box_length:    \n",
    "            coord_dist = coord_dist - (box_length * np.round(coord_dist/box_length))\n",
    "    if coord_dist.ndim <2:\n",
    "        #reshaping the array, make it have 2 dimensions\n",
    "        coord_dist = coord_dist.reshape (1,-1)\n",
    "    coord_dist=coord_dist**2\n",
    "    dist_sum= coord_dist.sum(axis=1)\n",
    "    distance = np.sqrt(dist_sum)\n",
    "    return distance\n"
   ]
  },
  {
   "cell_type": "code",
   "execution_count": 19,
   "id": "816e95a1",
   "metadata": {},
   "outputs": [
    {
     "data": {
      "text/plain": [
       "array([8.])"
      ]
     },
     "execution_count": 19,
     "metadata": {},
     "output_type": "execute_result"
    }
   ],
   "source": [
    "calculate_distance_np(pt1,pt2)"
   ]
  },
  {
   "cell_type": "code",
   "execution_count": 20,
   "id": "188d8d85",
   "metadata": {},
   "outputs": [],
   "source": [
    "\n",
    "dist1 = calculate_distance_np(pt1,pt2,2.5)\n",
    "dist2 = calculate_distance_np(pt1,pt2,2.5)\n",
    "\n",
    "assert dist1 == dist2\n"
   ]
  },
  {
   "cell_type": "code",
   "execution_count": 21,
   "id": "3d2dcbb6",
   "metadata": {},
   "outputs": [
    {
     "data": {
      "text/plain": [
       "array([1.4, 1.4, 1.4])"
      ]
     },
     "execution_count": 21,
     "metadata": {},
     "output_type": "execute_result"
    }
   ],
   "source": [
    "pts1= [[0,0,0],[0,0,1],[0,0,2]]\n",
    "pts2= [[8,0,0],[8,0,1],[8,0,2]]\n",
    "\n",
    "pt1np = np.array(pts1)\n",
    "pt2np = np.array(pts2)\n",
    "\n",
    "calculate_distance_np(pt1np,pt2np,3.3)"
   ]
  },
  {
   "cell_type": "code",
   "execution_count": 22,
   "id": "02fb5aa3",
   "metadata": {},
   "outputs": [],
   "source": [
    "def calculate_lj_np(r_ij):\n",
    "    \"\"\"\n",
    "    The LJ interaction energy between two particles.\n",
    "\n",
    "    Computes the pairwise Lennard Jones interaction energy based on the separation distance in reduced units.\n",
    "\n",
    "    Parameters\n",
    "    ----------\n",
    "    r_ij : np.array of r_ij\n",
    "        The distance between the particles in reduced units.\n",
    "    \n",
    "    Returns\n",
    "    -------\n",
    "    pairwise_energy : float\n",
    "        The pairwise Lennard Jones interaction energy in reduced units.\n",
    "\n",
    "    Examples\n",
    "    --------\n",
    "    >>> calculate_LJ(1)\n",
    "    0\n",
    "\n",
    "    \"\"\"\n",
    "    r1_term = 1 / r_ij\n",
    "    r6_term = np.power(r1_term, 6)\n",
    "    r12_term = np.power(r6_term, 2)\n",
    "    \n",
    "    pairwise_energy_np = 4 * (r12_term - r6_term)\n",
    "    \n",
    "    pairwise_energy = pairwise_energy_np.sum()\n",
    "    return pairwise_energy"
   ]
  },
  {
   "cell_type": "code",
   "execution_count": 23,
   "id": "a3da708d",
   "metadata": {},
   "outputs": [],
   "source": [
    "assert calculate_lj_np(1) == 0\n",
    "assert calculate_lj_np(math.pow(2, (1/6))) == -1"
   ]
  },
  {
   "cell_type": "code",
   "execution_count": 24,
   "id": "fa5840ae",
   "metadata": {},
   "outputs": [],
   "source": [
    "distances = [[1,1,1],[2,3,2],[4,8,2]]\n",
    "\n",
    "distances_np = np.array(distances)\n",
    "\n",
    "assert calculate_lj_np(distances_np) == -0.1910413370565145"
   ]
  },
  {
   "cell_type": "code",
   "execution_count": 25,
   "id": "9ef0f5dc",
   "metadata": {},
   "outputs": [],
   "source": [
    "def calculate_total_energy_np(coordinates_np, box_length, cutoff):\n",
    "    \"\"\"\n",
    "    Calculate the total energy of a set of particles using the Lennard Jones potential.\n",
    "    \n",
    "    Parameters\n",
    "    ----------\n",
    "    coordinates_np : np.array\n",
    "        A nested list containing the x, y,z coordinate for each particle\n",
    "    \n",
    "    box_length : float\n",
    "        The length of the box. Assumes cubic box.\n",
    "    \n",
    "    cutoff : float\n",
    "        The cutoff length\n",
    "    \n",
    "    Returns\n",
    "    -------\n",
    "    total_energy : float\n",
    "        The total energy of the set of coordinates.\n",
    "    \"\"\"\n",
    "    \n",
    "    total_energy = 0\n",
    "    energy = 0\n",
    "    \n",
    "    for i in coordinates_np:\n",
    "        c_np = np.array(i)\n",
    "        \n",
    "        # Get distance\n",
    "        distance_np = calculate_distance_np(coordinates_np, c_np, box_length)\n",
    "        \n",
    "        # Cutoff\n",
    "        distance = distance_np[distance_np < cutoff]\n",
    "        \n",
    "        # Non zero\n",
    "        distance_nz = distance[distance != 0]\n",
    "        \n",
    "        total_energy += calculate_lj_np(distance_nz)\n",
    "\n",
    "    return total_energy.sum()/2"
   ]
  },
  {
   "cell_type": "code",
   "execution_count": 26,
   "id": "0ce281c7",
   "metadata": {},
   "outputs": [],
   "source": [
    "def calculate_total_energy_npnl(coordinates, box_length, cutoff):\n",
    "    \"\"\"\n",
    "    Calculate the total energy of a set of particles using the Lennard Jones potential.\n",
    "    \n",
    "    Parameters\n",
    "    ----------\n",
    "    coordinates_np : np.array\n",
    "        A nested list containing the x, y,z coordinate for each particle\n",
    "    \n",
    "    box_length : float\n",
    "        The length of the box. Assumes cubic box.\n",
    "    \n",
    "    cutoff : float\n",
    "        The cutoff length\n",
    "    \n",
    "    Returns\n",
    "    -------\n",
    "    total_energy : float\n",
    "        The total energy of the set of coordinates.\n",
    "    \"\"\"\n",
    "    \n",
    "    total_energy = 0\n",
    "    distance = 0\n",
    "    \n",
    "    if(len(coordinates) % 2 != 0):\n",
    "        coordinates.append(coordinates[0])\n",
    "    \n",
    "    coordinates_np = np.array(coordinates)\n",
    "    \n",
    "    coords = np.array_split(coordinates_np, 2)\n",
    "    \n",
    "    distance = calculate_distance_np(coords[0], coords[1], box_length)\n",
    "    \n",
    "    energy = distance[distance < cutoff]\n",
    "    e_positive = distance[distance != 0]\n",
    "        \n",
    "    lj = calculate_lj_np(e_positive)    \n",
    "    \n",
    "\n",
    "    return lj"
   ]
  },
  {
   "cell_type": "code",
   "execution_count": 27,
   "id": "bda70676",
   "metadata": {},
   "outputs": [
    {
     "name": "stdout",
     "output_type": "stream",
     "text": [
      "-2.031005859375\n"
     ]
    }
   ],
   "source": [
    "coordinates = [[0, 0, 0], [0, math.pow(2, 1/6), 0], [0, 2*math.pow(2, 1/6), 0]]\n",
    "\n",
    "\n",
    "test_energy = calculate_total_energy_np(coordinates, 10, 3.0)\n",
    "\n",
    "print(test_energy)\n"
   ]
  },
  {
   "cell_type": "code",
   "execution_count": 28,
   "id": "b33298ee",
   "metadata": {},
   "outputs": [
    {
     "name": "stdout",
     "output_type": "stream",
     "text": [
      "[[0.         0.         0.        ]\n",
      " [0.         1.12246205 0.        ]\n",
      " [0.         2.2449241  0.        ]]\n",
      "-1.031005859375\n"
     ]
    }
   ],
   "source": [
    "coordinates = [[0, 0, 0], [0, math.pow(2, 1/6), 0], [0, 2*math.pow(2, 1/6), 0]]\n",
    "\n",
    "\n",
    "coords_np = np.array(coordinates)\n",
    "print(coords_np)\n",
    "\n",
    "\n",
    "test_energy = calculate_total_energy_npnl(coordinates, 10, 3.0)\n",
    "\n",
    "print(test_energy)"
   ]
  },
  {
   "cell_type": "code",
   "execution_count": 33,
   "id": "b494986d",
   "metadata": {},
   "outputs": [],
   "source": [
    " def calculate_pair_energy_np(coordinates_np, i_particle, box_length, cutoff):\n",
    "    \"\"\"\n",
    "    Calculate the interaction energy of a particle with its environment (all other particles in the system)\n",
    "    \n",
    "    Parameters\n",
    "    ----------\n",
    "    coordinates_np : np.array\n",
    "        The coordinates for all the particles in the system.\n",
    "    \n",
    "    i_particle : int\n",
    "        The particle number for which to calculate the energy.\n",
    "        \n",
    "    cutoff : float\n",
    "        The simulation cutoff. Beyond this distance, interactions are not calculated.\n",
    "    \n",
    "    box_length : float\n",
    "        The length of the box for periodic bounds\n",
    "        \n",
    "    Returns\n",
    "    -------\n",
    "    e_total : float\n",
    "        The pairwise interaction energy of the ith particles with all other particles in the system\n",
    "    \"\"\"\n",
    "    \n",
    "    i_np = np.array(coordinates_np[i_particle])\n",
    "    \n",
    "    # Calculate distance\n",
    "    distances = calculate_distance_np(i_np, coordinates_np, box_length)\n",
    "    \n",
    "    # Cutoff\n",
    "    distances_cutoff = distances[distances < cutoff]\n",
    "    \n",
    "    # Non zero\n",
    "    distance_nz = distances_cutoff[distances_cutoff != 0] \n",
    "       \n",
    "    return calculate_lj_np(distance_nz)\n",
    "\n"
   ]
  },
  {
   "cell_type": "code",
   "execution_count": 34,
   "id": "5daec184",
   "metadata": {},
   "outputs": [],
   "source": [
    "coordinates = [[0, 0, 0], [0, 0, 2**(1/6)], [0, 0, 2*(2**(1/6))]]\n",
    "\n",
    "coordinates_np = np.array(coordinates)\n",
    "\n",
    "assert calculate_pair_energy_np(coordinates_np, 1, 10, 3) == -2\n",
    "\n",
    "assert calculate_pair_energy_np(coordinates_np, 0, 10, 3) == calculate_pair_energy_np(coordinates_np, 2, 10, 3)\n",
    "\n",
    "assert calculate_pair_energy_np(coordinates_np, 0, 10, 2) == -1"
   ]
  },
  {
   "cell_type": "code",
   "execution_count": 35,
   "id": "2aa51e7c",
   "metadata": {},
   "outputs": [
    {
     "name": "stdout",
     "output_type": "stream",
     "text": [
      "-4351.540194543873\n",
      "-6.057400016606341e-08\n",
      "0 -5.438215781031509\n",
      "1000 -5.451092581191813\n",
      "2000 -5.450810022133854\n",
      "3000 -5.4600306674503365\n",
      "4000 -5.413401083447907\n",
      "5.361205101013184\n"
     ]
    }
   ],
   "source": [
    "coordinates, box_length = read_xyz('../../lj_sample_configurations/lj_sample_config_periodic1.txt')\n",
    "\n",
    "coordinates_np = np.array(coordinates)\n",
    "\n",
    "start = time.time()\n",
    "# Energy calculations\n",
    "total_energy = calculate_total_energy_np(coordinates_np, box_length, cutoff)\n",
    "print(total_energy)\n",
    "total_correction = calculate_tail_correction(num_particles, box_length, cutoff)\n",
    "print(total_correction)\n",
    "total_energy += total_correction\n",
    "\n",
    "\n",
    "for step in range(num_steps):\n",
    "    # 1. Randomly pick one of the particles.\n",
    "    random_particle = random.randrange(num_particles)\n",
    "    \n",
    "    # 2. Calculate the interaction energy of the selected particle with the system.\n",
    "    current_energy = calculate_pair_energy_np(coordinates_np, random_particle, box_length, cutoff)\n",
    "    \n",
    "    # 3. Generate a random x, y, z displacement.\n",
    "    x_rand = random.uniform(-max_displacement, max_displacement)\n",
    "    y_rand = random.uniform(-max_displacement, max_displacement)\n",
    "    z_rand = random.uniform(-max_displacement, max_displacement)\n",
    "    \n",
    "    # 4. Modify the coordinate of Nth particle by generated displacements.\n",
    "    coordinates_np[random_particle][0] += x_rand\n",
    "    coordinates_np[random_particle][1] += y_rand\n",
    "    coordinates_np[random_particle][2] += z_rand\n",
    "    \n",
    "    # 5. Calculate the interaction energy of the moved particle with the system and store this value.\n",
    "    proposed_energy = calculate_pair_energy_np(coordinates_np, random_particle, box_length, cutoff)\n",
    "    delta_energy = proposed_energy - current_energy\n",
    "    \n",
    "    # 6. Calculate if we accept the move based on energy difference.\n",
    "    accept = accept_or_reject(delta_energy, beta)\n",
    "    \n",
    "    # 7. If accepted, move the particle.\n",
    "    if accept:\n",
    "        total_energy += delta_energy\n",
    "    else:\n",
    "        #Move not accepted, roll back coordinates\n",
    "        coordinates_np[random_particle][0] -= x_rand\n",
    "        coordinates_np[random_particle][1] -= y_rand\n",
    "        coordinates_np[random_particle][2] -= z_rand\n",
    "    \n",
    "    # 8. Print the energy if step is a multiple of freq.\n",
    "    if step % freq == 0:\n",
    "        print(step, total_energy/num_particles)\n",
    "        \n",
    "end = time.time()\n",
    "elapsed_time = end - start\n",
    "print(elapsed_time)"
   ]
  },
  {
   "cell_type": "markdown",
   "id": "f1f15ef8",
   "metadata": {},
   "source": [
    "# Time Comparison\n",
    "The np is performed over 15 times faster than the standard library simulation. In my local machine the standard MC Simulation ran in 84.76475787162781 secs vs. the MC Simulation using NumPy in 5.708783149719238 secs. "
   ]
  },
  {
   "cell_type": "code",
   "execution_count": null,
   "id": "043a59e5",
   "metadata": {},
   "outputs": [],
   "source": []
  }
 ],
 "metadata": {
  "kernelspec": {
   "display_name": "Python 3",
   "language": "python",
   "name": "python3"
  },
  "language_info": {
   "codemirror_mode": {
    "name": "ipython",
    "version": 3
   },
   "file_extension": ".py",
   "mimetype": "text/x-python",
   "name": "python",
   "nbconvert_exporter": "python",
   "pygments_lexer": "ipython3",
   "version": "3.9.6"
  }
 },
 "nbformat": 4,
 "nbformat_minor": 5
}
