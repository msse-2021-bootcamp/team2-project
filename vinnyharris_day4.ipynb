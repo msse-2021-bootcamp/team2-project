{
 "cells": [
  {
   "cell_type": "markdown",
   "id": "a0ba369d",
   "metadata": {},
   "source": [
    "# NumPy rewrite of the calculate_distance function\n"
   ]
  },
  {
   "cell_type": "code",
   "execution_count": 8,
   "id": "9d21f955",
   "metadata": {},
   "outputs": [],
   "source": [
    "import math\n",
    "\n",
    "def calculate_distance(coord1, coord2, box_length=None):\n",
    "    \"\"\"\n",
    "    Calculate the distance between two 3D coordinates.\n",
    "    Parameters\n",
    "    ----------\n",
    "    coord1, coord2: list\n",
    "        The atomic coordinates\n",
    "    box_length : float\n",
    "        The box length. If given, the minimum image convention will be used to calculate the distance.\n",
    "    Returns\n",
    "    -------\n",
    "    distance: float\n",
    "        The distance between the two points.\n",
    "    \"\"\"\n",
    "    distance = 0\n",
    "    for i in range(3):\n",
    "        dim_dist = (coord1[i] - coord2[i])\n",
    "        if box_length:\n",
    "            dim_dist = dim_dist - box_length * round(dim_dist / box_length)\n",
    "        dim_dist = dim_dist**2\n",
    "        distance += dim_dist\n",
    "    distance = math.sqrt(distance)\n",
    "    return distance"
   ]
  },
  {
   "cell_type": "code",
   "execution_count": 9,
   "id": "6c7dfbae",
   "metadata": {},
   "outputs": [],
   "source": [
    "import numpy as np\n",
    "\n",
    "point1 = np.array([0, 0, 0])\n",
    "point2 = np.array([0, 8, 0])"
   ]
  },
  {
   "cell_type": "code",
   "execution_count": 10,
   "id": "32928eb8",
   "metadata": {},
   "outputs": [
    {
     "data": {
      "text/plain": [
       "8.0"
      ]
     },
     "execution_count": 10,
     "metadata": {},
     "output_type": "execute_result"
    }
   ],
   "source": [
    "calculate_distance(point1, point2)"
   ]
  },
  {
   "cell_type": "code",
   "execution_count": 11,
   "id": "c8938749",
   "metadata": {},
   "outputs": [
    {
     "name": "stdout",
     "output_type": "stream",
     "text": [
      "[ 0 -8  0]\n"
     ]
    }
   ],
   "source": [
    "dimensional_distance = point1 - point2\n",
    "print(dimensional_distance)"
   ]
  },
  {
   "cell_type": "code",
   "execution_count": null,
   "id": "e80d3152",
   "metadata": {},
   "outputs": [],
   "source": []
  },
  {
   "cell_type": "code",
   "execution_count": 14,
   "id": "848b4daf",
   "metadata": {},
   "outputs": [
    {
     "name": "stdout",
     "output_type": "stream",
     "text": [
      "[ 0 64  0]\n"
     ]
    }
   ],
   "source": [
    "dd2 = dimensional_distance ** 2\n",
    "print (dd2)"
   ]
  },
  {
   "cell_type": "code",
   "execution_count": 15,
   "id": "261e998a",
   "metadata": {},
   "outputs": [],
   "source": [
    "dd2_sum = point1 + point2"
   ]
  },
  {
   "cell_type": "code",
   "execution_count": 16,
   "id": "b21987d6",
   "metadata": {},
   "outputs": [
    {
     "name": "stdout",
     "output_type": "stream",
     "text": [
      "8.0\n"
     ]
    }
   ],
   "source": [
    "dd2_sum = dd2.sum()\n",
    "distance = math.sqrt(dd2_sum)\n",
    "print(distance)"
   ]
  },
  {
   "cell_type": "code",
   "execution_count": 29,
   "id": "62c766dc",
   "metadata": {},
   "outputs": [],
   "source": [
    "def calculate_distance_np(coord1, coord2, box_length=None):\n",
    "    \"\"\"\n",
    "    Calculate the distance between two 3D coordinates.\n",
    "    Parameters\n",
    "    ----------\n",
    "    coord1, coord2: np.array\n",
    "        The atomic coordinates\n",
    "    box_length : float\n",
    "        The box length. If given, the minimum image convention will be used to calculate the distance.\n",
    "    Returns\n",
    "    -------\n",
    "    distance: float\n",
    "        The distance between the two points.\n",
    "    \"\"\"\n",
    "    coord_dist = coord1 - coord2\n",
    "    \n",
    "    if box_length:\n",
    "        coord_dist = coord_dist - box_length * np.round(coord_dist / box_length)\n",
    "\n",
    "    coord_dist = coord_dist ** 2\n",
    "\n",
    "    coord_dist_sum = coord_dist.sum(axis=1)\n",
    "\n",
    "    distance = np.sqrt(coord_dist_sum)\n",
    "\n",
    "    return distance\n",
    "\n"
   ]
  },
  {
   "cell_type": "code",
   "execution_count": 30,
   "id": "65ce2f1b",
   "metadata": {},
   "outputs": [
    {
     "ename": "AxisError",
     "evalue": "axis 1 is out of bounds for array of dimension 1",
     "output_type": "error",
     "traceback": [
      "\u001b[0;31m---------------------------------------------------------------------------\u001b[0m",
      "\u001b[0;31mAxisError\u001b[0m                                 Traceback (most recent call last)",
      "\u001b[0;32m<ipython-input-30-b41897022968>\u001b[0m in \u001b[0;36m<module>\u001b[0;34m\u001b[0m\n\u001b[1;32m      2\u001b[0m \u001b[0mcoord_set2\u001b[0m \u001b[0;34m=\u001b[0m \u001b[0mnp\u001b[0m\u001b[0;34m.\u001b[0m\u001b[0marray\u001b[0m\u001b[0;34m(\u001b[0m\u001b[0;34m[\u001b[0m\u001b[0;36m1\u001b[0m\u001b[0;34m,\u001b[0m\u001b[0;36m0\u001b[0m\u001b[0;34m,\u001b[0m\u001b[0;36m0\u001b[0m\u001b[0;34m]\u001b[0m\u001b[0;34m)\u001b[0m\u001b[0;34m\u001b[0m\u001b[0;34m\u001b[0m\u001b[0m\n\u001b[1;32m      3\u001b[0m \u001b[0;34m\u001b[0m\u001b[0m\n\u001b[0;32m----> 4\u001b[0;31m \u001b[0mdist1\u001b[0m \u001b[0;34m=\u001b[0m \u001b[0mcalculate_distance_np\u001b[0m\u001b[0;34m(\u001b[0m\u001b[0mcoord_set1\u001b[0m\u001b[0;34m,\u001b[0m \u001b[0mcoord_set2\u001b[0m\u001b[0;34m)\u001b[0m\u001b[0;34m\u001b[0m\u001b[0;34m\u001b[0m\u001b[0m\n\u001b[0m\u001b[1;32m      5\u001b[0m \u001b[0;32massert\u001b[0m \u001b[0mdist1\u001b[0m \u001b[0;34m==\u001b[0m \u001b[0;36m1\u001b[0m\u001b[0;34m\u001b[0m\u001b[0;34m\u001b[0m\u001b[0m\n\u001b[1;32m      6\u001b[0m \u001b[0;34m\u001b[0m\u001b[0m\n",
      "\u001b[0;32m<ipython-input-29-46c5601ad3fb>\u001b[0m in \u001b[0;36mcalculate_distance_np\u001b[0;34m(coord1, coord2, box_length)\u001b[0m\n\u001b[1;32m     20\u001b[0m     \u001b[0mcoord_dist\u001b[0m \u001b[0;34m=\u001b[0m \u001b[0mcoord_dist\u001b[0m \u001b[0;34m**\u001b[0m \u001b[0;36m2\u001b[0m\u001b[0;34m\u001b[0m\u001b[0;34m\u001b[0m\u001b[0m\n\u001b[1;32m     21\u001b[0m \u001b[0;34m\u001b[0m\u001b[0m\n\u001b[0;32m---> 22\u001b[0;31m     \u001b[0mcoord_dist_sum\u001b[0m \u001b[0;34m=\u001b[0m \u001b[0mcoord_dist\u001b[0m\u001b[0;34m.\u001b[0m\u001b[0msum\u001b[0m\u001b[0;34m(\u001b[0m\u001b[0maxis\u001b[0m\u001b[0;34m=\u001b[0m\u001b[0;36m1\u001b[0m\u001b[0;34m)\u001b[0m\u001b[0;34m\u001b[0m\u001b[0;34m\u001b[0m\u001b[0m\n\u001b[0m\u001b[1;32m     23\u001b[0m \u001b[0;34m\u001b[0m\u001b[0m\n\u001b[1;32m     24\u001b[0m     \u001b[0mdistance\u001b[0m \u001b[0;34m=\u001b[0m \u001b[0mnp\u001b[0m\u001b[0;34m.\u001b[0m\u001b[0msqrt\u001b[0m\u001b[0;34m(\u001b[0m\u001b[0mcoord_dist_sum\u001b[0m\u001b[0;34m)\u001b[0m\u001b[0;34m\u001b[0m\u001b[0;34m\u001b[0m\u001b[0m\n",
      "\u001b[0;32m/Applications/miniconda3/envs/msse-python/lib/python3.9/site-packages/numpy/core/_methods.py\u001b[0m in \u001b[0;36m_sum\u001b[0;34m(a, axis, dtype, out, keepdims, initial, where)\u001b[0m\n\u001b[1;32m     45\u001b[0m def _sum(a, axis=None, dtype=None, out=None, keepdims=False,\n\u001b[1;32m     46\u001b[0m          initial=_NoValue, where=True):\n\u001b[0;32m---> 47\u001b[0;31m     \u001b[0;32mreturn\u001b[0m \u001b[0mumr_sum\u001b[0m\u001b[0;34m(\u001b[0m\u001b[0ma\u001b[0m\u001b[0;34m,\u001b[0m \u001b[0maxis\u001b[0m\u001b[0;34m,\u001b[0m \u001b[0mdtype\u001b[0m\u001b[0;34m,\u001b[0m \u001b[0mout\u001b[0m\u001b[0;34m,\u001b[0m \u001b[0mkeepdims\u001b[0m\u001b[0;34m,\u001b[0m \u001b[0minitial\u001b[0m\u001b[0;34m,\u001b[0m \u001b[0mwhere\u001b[0m\u001b[0;34m)\u001b[0m\u001b[0;34m\u001b[0m\u001b[0;34m\u001b[0m\u001b[0m\n\u001b[0m\u001b[1;32m     48\u001b[0m \u001b[0;34m\u001b[0m\u001b[0m\n\u001b[1;32m     49\u001b[0m def _prod(a, axis=None, dtype=None, out=None, keepdims=False,\n",
      "\u001b[0;31mAxisError\u001b[0m: axis 1 is out of bounds for array of dimension 1"
     ]
    }
   ],
   "source": [
    "coord_set1 = np.array([0, 0, 0])\n",
    "coord_set2 = np.array([1,0,0])\n",
    "\n",
    "dist1 = calculate_distance_np(coord_set1, coord_set2)\n",
    "assert dist1 == 1\n",
    "\n",
    "coord_set1 = np.array([0, 0, 0])\n",
    "coord_set2 = np.array([0,1,1])\n",
    "\n",
    "dist2 = calculate_distance_np(coord_set1, coord_set2)\n",
    "\n",
    "assert dist2 == math.sqrt(2)"
   ]
  },
  {
   "cell_type": "code",
   "execution_count": 25,
   "id": "87789a41",
   "metadata": {},
   "outputs": [
    {
     "data": {
      "text/plain": [
       "1.4142135623730951"
      ]
     },
     "execution_count": 25,
     "metadata": {},
     "output_type": "execute_result"
    }
   ],
   "source": [
    "calculate_distance_np(coord_set1, coord_set2)"
   ]
  },
  {
   "cell_type": "code",
   "execution_count": 26,
   "id": "888e58de",
   "metadata": {},
   "outputs": [
    {
     "data": {
      "text/plain": [
       "1.4142135623730951"
      ]
     },
     "execution_count": 26,
     "metadata": {},
     "output_type": "execute_result"
    }
   ],
   "source": [
    "calculate_distance_np(coord_set1, coord_set2, 10)"
   ]
  },
  {
   "cell_type": "code",
   "execution_count": null,
   "id": "18d0932d",
   "metadata": {},
   "outputs": [],
   "source": [
    "coord_set3 = np.array([[0, 0, 0], [0,1,0]])\n",
    "coord_set4 = np.array([[0,8,0], [0, 1.5, 0]])\n",
    "calculate_distance_np(coord_set3, coord_set4)"
   ]
  }
 ],
 "metadata": {
  "kernelspec": {
   "display_name": "Python 3",
   "language": "python",
   "name": "python3"
  },
  "language_info": {
   "codemirror_mode": {
    "name": "ipython",
    "version": 3
   },
   "file_extension": ".py",
   "mimetype": "text/x-python",
   "name": "python",
   "nbconvert_exporter": "python",
   "pygments_lexer": "ipython3",
   "version": "3.9.6"
  }
 },
 "nbformat": 4,
 "nbformat_minor": 5
}
