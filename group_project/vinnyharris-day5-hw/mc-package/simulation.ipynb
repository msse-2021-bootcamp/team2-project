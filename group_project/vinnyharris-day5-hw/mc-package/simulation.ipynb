{
 "cells": [
  {
   "cell_type": "code",
   "execution_count": 5,
   "id": "7f27342d",
   "metadata": {},
   "outputs": [],
   "source": [
    "import mcsim.monte_carlo as mc"
   ]
  },
  {
   "cell_type": "code",
   "execution_count": 6,
   "id": "74f1d003",
   "metadata": {},
   "outputs": [
    {
     "name": "stdout",
     "output_type": "stream",
     "text": [
      "Help on function run_simulation in module mcsim.monte_carlo:\n",
      "\n",
      "run_simulation(coordinates, box_length, cutoff, reduced_temperature, num_steps, max_displacement=0.1, freq=1000)\n",
      "    Run a Monte Carlo simulation with the specific parameters.\n",
      "    \n",
      "    Parameters\n",
      "    ---------\n",
      "    coordinates: list\n",
      "    box_length: float\n",
      "    cutoff: float\n",
      "    reduced_temperature: float\n",
      "    num_steps:int\n",
      "    max_displacement: float\n",
      "    freq_checks: int\n",
      "\n"
     ]
    }
   ],
   "source": [
    "help(mc.run_simulation)"
   ]
  },
  {
   "cell_type": "code",
   "execution_count": 8,
   "id": "b6407b79",
   "metadata": {},
   "outputs": [],
   "source": [
    "reduced_temp=1.5\n",
    "num_steps = 5000\n",
    "cutoff=3\n",
    "freq=1000\n",
    "coordinates, box_length = mc.read_xyz('../lj_sample_configurations/lj_sample_config_periodic1.txt')"
   ]
  },
  {
   "cell_type": "code",
   "execution_count": 10,
   "id": "7bb26daa",
   "metadata": {},
   "outputs": [
    {
     "name": "stdout",
     "output_type": "stream",
     "text": [
      "0 -5.685578417215711\n",
      "1000 -5.590535550965785\n",
      "2000 -5.478611429754179\n",
      "3000 -5.385051877407777\n",
      "4000 -5.293574223439496\n"
     ]
    }
   ],
   "source": [
    "final_coordinates = mc.run_simulation(coordinates, box_length, cutoff, reduced_temp, num_steps)"
   ]
  },
  {
   "cell_type": "code",
   "execution_count": null,
   "id": "d882fb40",
   "metadata": {},
   "outputs": [],
   "source": []
  }
 ],
 "metadata": {
  "kernelspec": {
   "display_name": "Python 3 (ipykernel)",
   "language": "python",
   "name": "python3"
  },
  "language_info": {
   "codemirror_mode": {
    "name": "ipython",
    "version": 3
   },
   "file_extension": ".py",
   "mimetype": "text/x-python",
   "name": "python",
   "nbconvert_exporter": "python",
   "pygments_lexer": "ipython3",
   "version": "3.9.6"
  }
 },
 "nbformat": 4,
 "nbformat_minor": 5
}
