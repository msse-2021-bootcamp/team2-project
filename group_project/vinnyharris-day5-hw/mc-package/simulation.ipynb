{
 "cells": [
  {
   "cell_type": "code",
   "execution_count": 1,
   "id": "7f27342d",
   "metadata": {},
   "outputs": [],
   "source": [
    "import mcsim as mc"
   ]
  },
  {
   "cell_type": "code",
   "execution_count": 2,
   "id": "74f1d003",
   "metadata": {},
   "outputs": [
    {
     "name": "stdout",
     "output_type": "stream",
     "text": [
      "Help on function run_simulation in module mcsim.monte_carlo:\n",
      "\n",
      "run_simulation(coordinates, box_length, cutoff, reduced_temperature, num_steps, max_displacement=0.1, freq=1000)\n",
      "    Run a Monte Carlo simulation with the specific parameters.\n",
      "    \n",
      "    Parameters\n",
      "    ---------\n",
      "    coordinates: list\n",
      "    box_length: float\n",
      "    cutoff: float\n",
      "    reduced_temperature: float\n",
      "    num_steps:int\n",
      "    max_displacement: float\n",
      "    freq_checks: int\n",
      "\n"
     ]
    }
   ],
   "source": [
    "help(mc.run_simulation)"
   ]
  },
  {
   "cell_type": "code",
   "execution_count": 3,
   "id": "b6407b79",
   "metadata": {},
   "outputs": [],
   "source": [
    "reduced_temp=1.5\n",
    "num_steps = 50000\n",
    "cutoff=3\n",
    "freq=1000\n",
    "coordinates, box_length = mc.read_xyz('../../../lj_sample_configurations/lj_sample_config_periodic1.txt')"
   ]
  },
  {
   "cell_type": "markdown",
   "id": "ba29814a",
   "metadata": {},
   "source": [
    "# BASE CASE-STANRDARD"
   ]
  },
  {
   "cell_type": "code",
   "execution_count": 4,
   "id": "7bb26daa",
   "metadata": {},
   "outputs": [
    {
     "name": "stdout",
     "output_type": "stream",
     "text": [
      "Time taken for trial 1:  131.83455777168274\n",
      "Time taken for trial 2:  131.41833543777466\n",
      "Time taken for trial 3:  131.9191930294037\n"
     ]
    }
   ],
   "source": [
    "print(\"Time taken for trial 1: \", mc.run_simulation(coordinates, box_length, 3, 0.9, 50000))\n",
    "print(\"Time taken for trial 2: \", mc.run_simulation(coordinates, box_length, 3, 0.9, 50000))\n",
    "print(\"Time taken for trial 3: \", mc.run_simulation(coordinates, box_length, 3, 0.9, 50000))"
   ]
  },
  {
   "cell_type": "markdown",
   "id": "80324fe2",
   "metadata": {},
   "source": [
    "# BASE CASE-NUMPY"
   ]
  },
  {
   "cell_type": "code",
   "execution_count": 5,
   "id": "f6e6faa2",
   "metadata": {},
   "outputs": [
    {
     "name": "stdout",
     "output_type": "stream",
     "text": [
      "Time taken for trial 1:  66.7452642917633\n",
      "Time taken for trial 2:  66.73710775375366\n",
      "Time taken for trial 3:  66.96747708320618\n"
     ]
    }
   ],
   "source": [
    "print(\"Time taken for trial 1: \", mc.run_simulation_np(coordinates, box_length, 3, 0.9, 50000))\n",
    "print(\"Time taken for trial 2: \", mc.run_simulation_np(coordinates, box_length, 3, 0.9, 50000))\n",
    "print(\"Time taken for trial 3: \", mc.run_simulation_np(coordinates, box_length, 3, 0.9, 50000))"
   ]
  },
  {
   "cell_type": "markdown",
   "id": "4ce19a13",
   "metadata": {},
   "source": [
    "# TEMP=0.4-STANDARD"
   ]
  },
  {
   "cell_type": "code",
   "execution_count": 6,
   "id": "c01e4006",
   "metadata": {},
   "outputs": [
    {
     "name": "stdout",
     "output_type": "stream",
     "text": [
      "Time taken for trial 1:  17510.50724196434\n",
      "Time taken for trial 2:  14063.564247131348\n",
      "Time taken for trial 3:  236.4867868423462\n"
     ]
    }
   ],
   "source": [
    "print(\"Time taken for trial 1: \", mc.run_simulation(coordinates, box_length, 3, 0.4, 50000))\n",
    "print(\"Time taken for trial 2: \", mc.run_simulation(coordinates, box_length, 3, 0.4, 50000))\n",
    "print(\"Time taken for trial 3: \", mc.run_simulation(coordinates, box_length, 3, 0.4, 50000))"
   ]
  },
  {
   "cell_type": "markdown",
   "id": "6f18a2a4",
   "metadata": {},
   "source": [
    "# TEMP=0.4-NUMPY"
   ]
  },
  {
   "cell_type": "code",
   "execution_count": 7,
   "id": "a8a4bc22",
   "metadata": {},
   "outputs": [
    {
     "name": "stdout",
     "output_type": "stream",
     "text": [
      "Time taken for trial 1:  107.5567901134491\n",
      "Time taken for trial 2:  108.8374011516571\n",
      "Time taken for trial 3:  108.96428513526917\n"
     ]
    }
   ],
   "source": [
    "print(\"Time taken for trial 1: \", mc.run_simulation_np(coordinates, box_length, 3, 0.4, 50000))\n",
    "print(\"Time taken for trial 2: \", mc.run_simulation_np(coordinates, box_length, 3, 0.4, 50000))\n",
    "print(\"Time taken for trial 3: \", mc.run_simulation_np(coordinates, box_length, 3, 0.4, 50000))"
   ]
  },
  {
   "cell_type": "markdown",
   "id": "2bc60ef9",
   "metadata": {},
   "source": [
    "# TEMP=1.4-STANDARD"
   ]
  },
  {
   "cell_type": "code",
   "execution_count": 8,
   "id": "ee1db266",
   "metadata": {},
   "outputs": [
    {
     "name": "stdout",
     "output_type": "stream",
     "text": [
      "Time taken for trial 1:  240.02655005455017\n",
      "Time taken for trial 2:  240.77888178825378\n",
      "Time taken for trial 3:  239.03617906570435\n"
     ]
    }
   ],
   "source": [
    "print(\"Time taken for trial 1: \", mc.run_simulation(coordinates, box_length, 3, 1.4, 50000))\n",
    "print(\"Time taken for trial 2: \", mc.run_simulation(coordinates, box_length, 3, 1.4, 50000))\n",
    "print(\"Time taken for trial 3: \", mc.run_simulation(coordinates, box_length, 3, 1.4, 50000))"
   ]
  },
  {
   "cell_type": "markdown",
   "id": "445676b4",
   "metadata": {},
   "source": [
    "# TEMP=1.4-NUMPY"
   ]
  },
  {
   "cell_type": "code",
   "execution_count": 9,
   "id": "d882fb40",
   "metadata": {},
   "outputs": [
    {
     "name": "stdout",
     "output_type": "stream",
     "text": [
      "Time taken for trial 1:  112.9711229801178\n",
      "Time taken for trial 2:  108.85459995269775\n",
      "Time taken for trial 3:  109.4668481349945\n"
     ]
    }
   ],
   "source": [
    "print(\"Time taken for trial 1: \", mc.run_simulation_np(coordinates, box_length, 3, 1.4, 50000))\n",
    "print(\"Time taken for trial 2: \", mc.run_simulation_np(coordinates, box_length, 3, 1.4, 50000))\n",
    "print(\"Time taken for trial 3: \", mc.run_simulation_np(coordinates, box_length, 3, 1.4, 50000))"
   ]
  },
  {
   "cell_type": "markdown",
   "id": "2d574461",
   "metadata": {},
   "source": [
    "# TEMP=3.1-STANDARD"
   ]
  },
  {
   "cell_type": "code",
   "execution_count": 10,
   "id": "65083b4d",
   "metadata": {},
   "outputs": [
    {
     "name": "stdout",
     "output_type": "stream",
     "text": [
      "Time taken for trial 1:  240.76971006393433\n",
      "Time taken for trial 2:  219.89917588233948\n",
      "Time taken for trial 3:  290.2605812549591\n"
     ]
    }
   ],
   "source": [
    "print(\"Time taken for trial 1: \", mc.run_simulation(coordinates, box_length, 3, 3.1, 50000))\n",
    "print(\"Time taken for trial 2: \", mc.run_simulation(coordinates, box_length, 3, 3.1, 50000))\n",
    "print(\"Time taken for trial 3: \", mc.run_simulation(coordinates, box_length, 3, 3.1, 50000))"
   ]
  },
  {
   "cell_type": "markdown",
   "id": "03bd01a0",
   "metadata": {},
   "source": [
    "# TEMP=3.1-NUMPY"
   ]
  },
  {
   "cell_type": "code",
   "execution_count": 11,
   "id": "521c8a0e",
   "metadata": {},
   "outputs": [
    {
     "name": "stdout",
     "output_type": "stream",
     "text": [
      "Time taken for trial 1:  2675.5716092586517\n",
      "Time taken for trial 2:  1649.928552865982\n",
      "Time taken for trial 3:  95.4840977191925\n"
     ]
    }
   ],
   "source": [
    "print(\"Time taken for trial 1: \", mc.run_simulation_np(coordinates, box_length, 3, 3.1, 50000))\n",
    "print(\"Time taken for trial 2: \", mc.run_simulation_np(coordinates, box_length, 3, 3.1, 50000))\n",
    "print(\"Time taken for trial 3: \", mc.run_simulation_np(coordinates, box_length, 3, 3.1, 50000))"
   ]
  },
  {
   "cell_type": "markdown",
   "id": "77d73cc9",
   "metadata": {},
   "source": [
    "# CUTOFF=2.5-STANDARD"
   ]
  },
  {
   "cell_type": "code",
   "execution_count": 12,
   "id": "6dae2215",
   "metadata": {},
   "outputs": [
    {
     "name": "stdout",
     "output_type": "stream",
     "text": [
      "Time taken for trial 1:  162.03789114952087\n",
      "Time taken for trial 2:  134.42643117904663\n",
      "Time taken for trial 3:  134.14536213874817\n"
     ]
    }
   ],
   "source": [
    "print(\"Time taken for trial 1: \", mc.run_simulation(coordinates, box_length, 2.5, 0.9, 50000))\n",
    "print(\"Time taken for trial 2: \", mc.run_simulation(coordinates, box_length, 2.5, 0.9, 50000))\n",
    "print(\"Time taken for trial 3: \", mc.run_simulation(coordinates, box_length, 2.5, 0.9, 50000))"
   ]
  },
  {
   "cell_type": "markdown",
   "id": "72b6709e",
   "metadata": {},
   "source": [
    "# CUTOFF=2.5-NUMPY"
   ]
  },
  {
   "cell_type": "code",
   "execution_count": 13,
   "id": "da4f106d",
   "metadata": {},
   "outputs": [
    {
     "name": "stdout",
     "output_type": "stream",
     "text": [
      "Time taken for trial 1:  66.34632015228271\n",
      "Time taken for trial 2:  66.26963400840759\n",
      "Time taken for trial 3:  67.21101808547974\n"
     ]
    }
   ],
   "source": [
    "print(\"Time taken for trial 1: \", mc.run_simulation_np(coordinates, box_length, 2.5, 0.9, 50000))\n",
    "print(\"Time taken for trial 2: \", mc.run_simulation_np(coordinates, box_length, 2.5, 0.9, 50000))\n",
    "print(\"Time taken for trial 3: \", mc.run_simulation_np(coordinates, box_length, 2.5, 0.9, 50000))"
   ]
  },
  {
   "cell_type": "markdown",
   "id": "6d6b718e",
   "metadata": {},
   "source": [
    "# CUTOFF=3.5-STANDARD"
   ]
  },
  {
   "cell_type": "code",
   "execution_count": 14,
   "id": "0e25dddb",
   "metadata": {},
   "outputs": [
    {
     "name": "stdout",
     "output_type": "stream",
     "text": [
      "Time taken for trial 1:  142.70373106002808\n",
      "Time taken for trial 2:  144.35237884521484\n",
      "Time taken for trial 3:  143.2668571472168\n"
     ]
    }
   ],
   "source": [
    "print(\"Time taken for trial 1: \", mc.run_simulation(coordinates, box_length, 3.5, 0.9, 50000))\n",
    "print(\"Time taken for trial 2: \", mc.run_simulation(coordinates, box_length, 3.5, 0.9, 50000))\n",
    "print(\"Time taken for trial 3: \", mc.run_simulation(coordinates, box_length, 3.5, 0.9, 50000))"
   ]
  },
  {
   "cell_type": "markdown",
   "id": "5a78caf1",
   "metadata": {},
   "source": [
    "# CUTOFF=3.5-NUMPY"
   ]
  },
  {
   "cell_type": "code",
   "execution_count": 15,
   "id": "8f639048",
   "metadata": {},
   "outputs": [
    {
     "name": "stdout",
     "output_type": "stream",
     "text": [
      "Time taken for trial 1:  73.06596112251282\n",
      "Time taken for trial 2:  74.37407279014587\n",
      "Time taken for trial 3:  76.02870988845825\n"
     ]
    }
   ],
   "source": [
    "print(\"Time taken for trial 1: \", mc.run_simulation_np(coordinates, box_length, 3.5, 0.9, 50000))\n",
    "print(\"Time taken for trial 2: \", mc.run_simulation_np(coordinates, box_length, 3.5, 0.9, 50000))\n",
    "print(\"Time taken for trial 3: \", mc.run_simulation_np(coordinates, box_length, 3.5, 0.9, 50000))"
   ]
  },
  {
   "cell_type": "markdown",
   "id": "b79dcc4d",
   "metadata": {},
   "source": [
    "# CUTOFF=4-STANDARD"
   ]
  },
  {
   "cell_type": "code",
   "execution_count": 16,
   "id": "90ed5dc3",
   "metadata": {},
   "outputs": [
    {
     "name": "stdout",
     "output_type": "stream",
     "text": [
      "Time taken for trial 1:  157.81845998764038\n",
      "Time taken for trial 2:  159.64649605751038\n",
      "Time taken for trial 3:  163.30867981910706\n"
     ]
    }
   ],
   "source": [
    "print(\"Time taken for trial 1: \", mc.run_simulation(coordinates, box_length, 4, 0.9, 50000))\n",
    "print(\"Time taken for trial 2: \", mc.run_simulation(coordinates, box_length, 4, 0.9, 50000))\n",
    "print(\"Time taken for trial 3: \", mc.run_simulation(coordinates, box_length, 4, 0.9, 50000))"
   ]
  },
  {
   "cell_type": "markdown",
   "id": "c378aecc",
   "metadata": {},
   "source": [
    "# CUTOFF=4-NUMPY"
   ]
  },
  {
   "cell_type": "code",
   "execution_count": 17,
   "id": "401e26a6",
   "metadata": {},
   "outputs": [
    {
     "name": "stdout",
     "output_type": "stream",
     "text": [
      "Time taken for trial 1:  77.2260353565216\n",
      "Time taken for trial 2:  74.11815190315247\n",
      "Time taken for trial 3:  73.81933903694153\n"
     ]
    }
   ],
   "source": [
    "print(\"Time taken for trial 1: \", mc.run_simulation_np(coordinates, box_length, 4, 0.9, 50000))\n",
    "print(\"Time taken for trial 2: \", mc.run_simulation_np(coordinates, box_length, 4, 0.9, 50000))\n",
    "print(\"Time taken for trial 3: \", mc.run_simulation_np(coordinates, box_length, 4, 0.9, 50000))"
   ]
  },
  {
   "cell_type": "markdown",
   "id": "9f949114",
   "metadata": {},
   "source": [
    "# NUM_STEPS=10,000-STANDARD"
   ]
  },
  {
   "cell_type": "code",
   "execution_count": 18,
   "id": "3ffcc2cf",
   "metadata": {},
   "outputs": [
    {
     "name": "stdout",
     "output_type": "stream",
     "text": [
      "Time taken for trial 1:  31.101624250411987\n",
      "Time taken for trial 2:  30.72658109664917\n",
      "Time taken for trial 3:  30.927497148513794\n"
     ]
    }
   ],
   "source": [
    "print(\"Time taken for trial 1: \", mc.run_simulation(coordinates, box_length, 3, 0.9, 10000))\n",
    "print(\"Time taken for trial 2: \", mc.run_simulation(coordinates, box_length, 3, 0.9, 10000))\n",
    "print(\"Time taken for trial 3: \", mc.run_simulation(coordinates, box_length, 3, 0.9, 10000))"
   ]
  },
  {
   "cell_type": "markdown",
   "id": "49f2e3fd",
   "metadata": {},
   "source": [
    "# NUM_STEPS=10,000-NUMPY"
   ]
  },
  {
   "cell_type": "code",
   "execution_count": 19,
   "id": "27ebc01c",
   "metadata": {},
   "outputs": [
    {
     "name": "stdout",
     "output_type": "stream",
     "text": [
      "Time taken for trial 1:  15.234317064285278\n",
      "Time taken for trial 2:  15.599858045578003\n",
      "Time taken for trial 3:  16.13828992843628\n"
     ]
    }
   ],
   "source": [
    "print(\"Time taken for trial 1: \", mc.run_simulation_np(coordinates, box_length, 3, 0.9, 10000))\n",
    "print(\"Time taken for trial 2: \", mc.run_simulation_np(coordinates, box_length, 3, 0.9, 10000))\n",
    "print(\"Time taken for trial 3: \", mc.run_simulation_np(coordinates, box_length, 3, 0.9, 10000))"
   ]
  },
  {
   "cell_type": "markdown",
   "id": "0be5974d",
   "metadata": {},
   "source": [
    "# NUM_STEPS=30,000-STANDARD"
   ]
  },
  {
   "cell_type": "code",
   "execution_count": 20,
   "id": "e613e26f",
   "metadata": {},
   "outputs": [
    {
     "name": "stdout",
     "output_type": "stream",
     "text": [
      "Time taken for trial 1:  94.86256098747253\n",
      "Time taken for trial 2:  90.41944599151611\n",
      "Time taken for trial 3:  92.30460119247437\n"
     ]
    }
   ],
   "source": [
    "print(\"Time taken for trial 1: \", mc.run_simulation(coordinates, box_length, 3, 0.9, 30000))\n",
    "print(\"Time taken for trial 2: \", mc.run_simulation(coordinates, box_length, 3, 0.9, 30000))\n",
    "print(\"Time taken for trial 3: \", mc.run_simulation(coordinates, box_length, 3, 0.9, 30000))"
   ]
  },
  {
   "cell_type": "markdown",
   "id": "8d57aa4a",
   "metadata": {},
   "source": [
    "# NUM_STEPS=30,000-NUMPY"
   ]
  },
  {
   "cell_type": "code",
   "execution_count": 21,
   "id": "3d5a4eea",
   "metadata": {},
   "outputs": [
    {
     "name": "stdout",
     "output_type": "stream",
     "text": [
      "Time taken for trial 1:  45.36290001869202\n",
      "Time taken for trial 2:  40.98111891746521\n",
      "Time taken for trial 3:  40.35147190093994\n"
     ]
    }
   ],
   "source": [
    "print(\"Time taken for trial 1: \", mc.run_simulation_np(coordinates, box_length, 3, 0.9, 30000))\n",
    "print(\"Time taken for trial 2: \", mc.run_simulation_np(coordinates, box_length, 3, 0.9, 30000))\n",
    "print(\"Time taken for trial 3: \", mc.run_simulation_np(coordinates, box_length, 3, 0.9, 30000))"
   ]
  },
  {
   "cell_type": "markdown",
   "id": "14f52eef",
   "metadata": {},
   "source": [
    "# NUM_STEPS=70,000-STANDARD"
   ]
  },
  {
   "cell_type": "code",
   "execution_count": 22,
   "id": "a10bcea5",
   "metadata": {},
   "outputs": [
    {
     "name": "stdout",
     "output_type": "stream",
     "text": [
      "Time taken for trial 1:  195.35804295539856\n",
      "Time taken for trial 2:  193.8001310825348\n",
      "Time taken for trial 3:  211.1457040309906\n"
     ]
    }
   ],
   "source": [
    "print(\"Time taken for trial 1: \", mc.run_simulation(coordinates, box_length, 3, 0.9, 70000))\n",
    "print(\"Time taken for trial 2: \", mc.run_simulation(coordinates, box_length, 3, 0.9, 70000))\n",
    "print(\"Time taken for trial 3: \", mc.run_simulation(coordinates, box_length, 3, 0.9, 70000))"
   ]
  },
  {
   "cell_type": "markdown",
   "id": "d0edc006",
   "metadata": {},
   "source": [
    "# NUM_STEPS=70,000-NUMPY"
   ]
  },
  {
   "cell_type": "code",
   "execution_count": 23,
   "id": "001d112c",
   "metadata": {},
   "outputs": [
    {
     "name": "stdout",
     "output_type": "stream",
     "text": [
      "Time taken for trial 1:  97.72838091850281\n",
      "Time taken for trial 2:  96.00588297843933\n",
      "Time taken for trial 3:  94.18056321144104\n"
     ]
    }
   ],
   "source": [
    "print(\"Time taken for trial 1: \", mc.run_simulation_np(coordinates, box_length, 3, 0.9, 70000))\n",
    "print(\"Time taken for trial 2: \", mc.run_simulation_np(coordinates, box_length, 3, 0.9, 70000))\n",
    "print(\"Time taken for trial 3: \", mc.run_simulation_np(coordinates, box_length, 3, 0.9, 70000))"
   ]
  },
  {
   "cell_type": "markdown",
   "id": "408d9ef3",
   "metadata": {},
   "source": [
    "# MAX_DISPLACEMENT=0.05-STANDARD"
   ]
  },
  {
   "cell_type": "code",
   "execution_count": 24,
   "id": "3e026ba7",
   "metadata": {},
   "outputs": [
    {
     "name": "stdout",
     "output_type": "stream",
     "text": [
      "Time taken for trial 1:  138.9646439552307\n",
      "Time taken for trial 2:  138.69107103347778\n",
      "Time taken for trial 3:  137.79637098312378\n"
     ]
    }
   ],
   "source": [
    "print(\"Time taken for trial 1: \", mc.run_simulation(coordinates, box_length, 3, 0.9, 50000, 0.05))\n",
    "print(\"Time taken for trial 2: \", mc.run_simulation(coordinates, box_length, 3, 0.9, 50000, 0.05))\n",
    "print(\"Time taken for trial 3: \", mc.run_simulation(coordinates, box_length, 3, 0.9, 50000, 0.05))"
   ]
  },
  {
   "cell_type": "markdown",
   "id": "7c50081b",
   "metadata": {},
   "source": [
    "# MAX_DISPLACEMENT=0.05-NUMPY"
   ]
  },
  {
   "cell_type": "code",
   "execution_count": 25,
   "id": "fcb71f61",
   "metadata": {},
   "outputs": [
    {
     "name": "stdout",
     "output_type": "stream",
     "text": [
      "Time taken for trial 1:  66.80663275718689\n",
      "Time taken for trial 2:  68.92261099815369\n",
      "Time taken for trial 3:  68.44522500038147\n"
     ]
    }
   ],
   "source": [
    "print(\"Time taken for trial 1: \", mc.run_simulation_np(coordinates, box_length, 3, 0.9, 50000, 0.05))\n",
    "print(\"Time taken for trial 2: \", mc.run_simulation_np(coordinates, box_length, 3, 0.9, 50000, 0.05))\n",
    "print(\"Time taken for trial 3: \", mc.run_simulation_np(coordinates, box_length, 3, 0.9, 50000, 0.05))"
   ]
  },
  {
   "cell_type": "markdown",
   "id": "abf6c25b",
   "metadata": {},
   "source": [
    "# MAX_DISPLACEMENT=0.15-STANDARD"
   ]
  },
  {
   "cell_type": "code",
   "execution_count": 26,
   "id": "72785c8c",
   "metadata": {},
   "outputs": [
    {
     "name": "stdout",
     "output_type": "stream",
     "text": [
      "Time taken for trial 1:  138.4190001487732\n",
      "Time taken for trial 2:  138.2951581478119\n",
      "Time taken for trial 3:  137.45569729804993\n"
     ]
    }
   ],
   "source": [
    "print(\"Time taken for trial 1: \", mc.run_simulation(coordinates, box_length, 3, 0.9, 50000, 0.15))\n",
    "print(\"Time taken for trial 2: \", mc.run_simulation(coordinates, box_length, 3, 0.9, 50000, 0.15))\n",
    "print(\"Time taken for trial 3: \", mc.run_simulation(coordinates, box_length, 3, 0.9, 50000, 0.15))"
   ]
  },
  {
   "cell_type": "markdown",
   "id": "67db9eb1",
   "metadata": {},
   "source": [
    "# MAX_DISPLACEMENT=0.15-NUMPY"
   ]
  },
  {
   "cell_type": "code",
   "execution_count": 27,
   "id": "b4849344",
   "metadata": {},
   "outputs": [
    {
     "name": "stdout",
     "output_type": "stream",
     "text": [
      "Time taken for trial 1:  66.85928916931152\n",
      "Time taken for trial 2:  67.68243193626404\n",
      "Time taken for trial 3:  66.75856900215149\n"
     ]
    }
   ],
   "source": [
    "print(\"Time taken for trial 1: \", mc.run_simulation_np(coordinates, box_length, 3, 0.9, 50000, 0.15))\n",
    "print(\"Time taken for trial 2: \", mc.run_simulation_np(coordinates, box_length, 3, 0.9, 50000, 0.15))\n",
    "print(\"Time taken for trial 3: \", mc.run_simulation_np(coordinates, box_length, 3, 0.9, 50000, 0.15))"
   ]
  },
  {
   "cell_type": "markdown",
   "id": "795711ad",
   "metadata": {},
   "source": [
    "# MAX_DISPLACEMENT=0.2-STANDARD"
   ]
  },
  {
   "cell_type": "code",
   "execution_count": 28,
   "id": "9cb93a03",
   "metadata": {},
   "outputs": [
    {
     "name": "stdout",
     "output_type": "stream",
     "text": [
      "Time taken for trial 1:  137.18364119529724\n",
      "Time taken for trial 2:  137.61894011497498\n",
      "Time taken for trial 3:  137.6778428554535\n"
     ]
    }
   ],
   "source": [
    "print(\"Time taken for trial 1: \", mc.run_simulation(coordinates, box_length, 3, 0.9, 50000, 0.2))\n",
    "print(\"Time taken for trial 2: \", mc.run_simulation(coordinates, box_length, 3, 0.9, 50000, 0.2))\n",
    "print(\"Time taken for trial 3: \", mc.run_simulation(coordinates, box_length, 3, 0.9, 50000, 0.2))"
   ]
  },
  {
   "cell_type": "markdown",
   "id": "ff0154d2",
   "metadata": {},
   "source": [
    "# MAX_DISPLACEMENT=0.2-NUMPY"
   ]
  },
  {
   "cell_type": "code",
   "execution_count": 29,
   "id": "42ba9ba6",
   "metadata": {},
   "outputs": [
    {
     "name": "stdout",
     "output_type": "stream",
     "text": [
      "Time taken for trial 1:  66.84345197677612\n",
      "Time taken for trial 2:  66.82287311553955\n",
      "Time taken for trial 3:  66.75006222724915\n"
     ]
    }
   ],
   "source": [
    "print(\"Time taken for trial 1: \", mc.run_simulation_np(coordinates, box_length, 3, 0.9, 50000, 0.2))\n",
    "print(\"Time taken for trial 2: \", mc.run_simulation_np(coordinates, box_length, 3, 0.9, 50000, 0.2))\n",
    "print(\"Time taken for trial 3: \", mc.run_simulation_np(coordinates, box_length, 3, 0.9, 50000, 0.2))"
   ]
  },
  {
   "cell_type": "code",
   "execution_count": null,
   "id": "36930bb6",
   "metadata": {},
   "outputs": [],
   "source": []
  }
 ],
 "metadata": {
  "kernelspec": {
   "display_name": "Python 3",
   "language": "python",
   "name": "python3"
  },
  "language_info": {
   "codemirror_mode": {
    "name": "ipython",
    "version": 3
   },
   "file_extension": ".py",
   "mimetype": "text/x-python",
   "name": "python",
   "nbconvert_exporter": "python",
   "pygments_lexer": "ipython3",
   "version": "3.9.6"
  }
 },
 "nbformat": 4,
 "nbformat_minor": 5
}
