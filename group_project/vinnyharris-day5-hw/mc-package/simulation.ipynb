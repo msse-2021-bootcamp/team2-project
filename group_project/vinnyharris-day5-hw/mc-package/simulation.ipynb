{
 "cells": [
  {
   "cell_type": "code",
   "execution_count": 1,
   "id": "7f27342d",
   "metadata": {},
   "outputs": [],
   "source": [
    "import mcsim as mc"
   ]
  },
  {
   "cell_type": "code",
   "execution_count": 2,
   "id": "74f1d003",
   "metadata": {},
   "outputs": [
    {
     "name": "stdout",
     "output_type": "stream",
     "text": [
      "Help on function run_simulation in module mcsim.monte_carlo:\n",
      "\n",
      "run_simulation(coordinates, box_length, cutoff, reduced_temperature, num_steps, max_displacement=0.1, freq=1000)\n",
      "    Run a Monte Carlo simulation with the specific parameters.\n",
      "    \n",
      "    Parameters\n",
      "    ---------\n",
      "    coordinates: list\n",
      "    box_length: float\n",
      "    cutoff: float\n",
      "    reduced_temperature: float\n",
      "    num_steps:int\n",
      "    max_displacement: float\n",
      "    freq_checks: int\n",
      "\n"
     ]
    }
   ],
   "source": [
    "help(mc.run_simulation)"
   ]
  },
  {
   "cell_type": "code",
   "execution_count": 3,
   "id": "b6407b79",
   "metadata": {},
   "outputs": [],
   "source": [
    "reduced_temp=1.5\n",
    "num_steps = 50000\n",
    "cutoff=3\n",
    "freq=1000\n",
    "coordinates, box_length = mc.read_xyz('../../../lj_sample_configurations/lj_sample_config_periodic1.txt')"
   ]
  },
  {
   "cell_type": "markdown",
   "id": "ba29814a",
   "metadata": {},
   "source": [
    "# BASE CASE-STANRDARD"
   ]
  },
  {
   "cell_type": "code",
   "execution_count": 4,
   "id": "7bb26daa",
   "metadata": {},
   "outputs": [
    {
     "name": "stdout",
     "output_type": "stream",
     "text": [
      "Time taken for trial 1:  135.62598085403442\n",
      "Time taken for trial 2:  135.5917420387268\n",
      "Time taken for trial 3:  135.04342198371887\n"
     ]
    }
   ],
   "source": [
    "print(\"Time taken for trial 1: \", mc.run_simulation(coordinates, box_length, 3, 0.9, 50000))\n",
    "print(\"Time taken for trial 2: \", mc.run_simulation(coordinates, box_length, 3, 0.9, 50000))\n",
    "print(\"Time taken for trial 3: \", mc.run_simulation(coordinates, box_length, 3, 0.9, 50000))"
   ]
  },
  {
   "cell_type": "markdown",
   "id": "80324fe2",
   "metadata": {},
   "source": [
    "# BASE CASE-NUMPY"
   ]
  },
  {
   "cell_type": "code",
   "execution_count": 5,
   "id": "f6e6faa2",
   "metadata": {},
   "outputs": [
    {
     "name": "stdout",
     "output_type": "stream",
     "text": [
      "Time taken for trial 1:  66.7001748085022\n",
      "Time taken for trial 2:  67.58359098434448\n",
      "Time taken for trial 3:  67.43403124809265\n"
     ]
    }
   ],
   "source": [
    "print(\"Time taken for trial 1: \", mc.run_simulation_np(coordinates, box_length, 3, 0.9, 50000))\n",
    "print(\"Time taken for trial 2: \", mc.run_simulation_np(coordinates, box_length, 3, 0.9, 50000))\n",
    "print(\"Time taken for trial 3: \", mc.run_simulation_np(coordinates, box_length, 3, 0.9, 50000))"
   ]
  },
  {
   "cell_type": "markdown",
   "id": "4ce19a13",
   "metadata": {},
   "source": [
    "# TEMP=0.4-STANDARD"
   ]
  },
  {
   "cell_type": "code",
   "execution_count": 6,
   "id": "c01e4006",
   "metadata": {},
   "outputs": [
    {
     "name": "stdout",
     "output_type": "stream",
     "text": [
      "Time taken for trial 1:  134.2759575843811\n",
      "Time taken for trial 2:  134.43503427505493\n",
      "Time taken for trial 3:  134.32004284858704\n"
     ]
    }
   ],
   "source": [
    "print(\"Time taken for trial 1: \", mc.run_simulation(coordinates, box_length, 3, 0.4, 50000))\n",
    "print(\"Time taken for trial 2: \", mc.run_simulation(coordinates, box_length, 3, 0.4, 50000))\n",
    "print(\"Time taken for trial 3: \", mc.run_simulation(coordinates, box_length, 3, 0.4, 50000))"
   ]
  },
  {
   "cell_type": "markdown",
   "id": "6f18a2a4",
   "metadata": {},
   "source": [
    "# TEMP=0.4-NUMPY"
   ]
  },
  {
   "cell_type": "code",
   "execution_count": 7,
   "id": "a8a4bc22",
   "metadata": {},
   "outputs": [
    {
     "name": "stdout",
     "output_type": "stream",
     "text": [
      "Time taken for trial 1:  67.91844987869263\n",
      "Time taken for trial 2:  67.1876471042633\n",
      "Time taken for trial 3:  67.00405383110046\n"
     ]
    }
   ],
   "source": [
    "print(\"Time taken for trial 1: \", mc.run_simulation_np(coordinates, box_length, 3, 0.4, 50000))\n",
    "print(\"Time taken for trial 2: \", mc.run_simulation_np(coordinates, box_length, 3, 0.4, 50000))\n",
    "print(\"Time taken for trial 3: \", mc.run_simulation_np(coordinates, box_length, 3, 0.4, 50000))"
   ]
  },
  {
   "cell_type": "markdown",
   "id": "2bc60ef9",
   "metadata": {},
   "source": [
    "# TEMP=1.4-STANDARD"
   ]
  },
  {
   "cell_type": "code",
   "execution_count": 8,
   "id": "ee1db266",
   "metadata": {},
   "outputs": [
    {
     "name": "stdout",
     "output_type": "stream",
     "text": [
      "Time taken for trial 1:  134.80144000053406\n",
      "Time taken for trial 2:  135.30339002609253\n",
      "Time taken for trial 3:  135.36673378944397\n"
     ]
    }
   ],
   "source": [
    "print(\"Time taken for trial 1: \", mc.run_simulation(coordinates, box_length, 3, 1.4, 50000))\n",
    "print(\"Time taken for trial 2: \", mc.run_simulation(coordinates, box_length, 3, 1.4, 50000))\n",
    "print(\"Time taken for trial 3: \", mc.run_simulation(coordinates, box_length, 3, 1.4, 50000))"
   ]
  },
  {
   "cell_type": "markdown",
   "id": "445676b4",
   "metadata": {},
   "source": [
    "# TEMP=1.4-NUMPY"
   ]
  },
  {
   "cell_type": "code",
   "execution_count": 9,
   "id": "d882fb40",
   "metadata": {},
   "outputs": [
    {
     "name": "stdout",
     "output_type": "stream",
     "text": [
      "Time taken for trial 1:  66.68820810317993\n",
      "Time taken for trial 2:  66.6189489364624\n",
      "Time taken for trial 3:  66.35108304023743\n"
     ]
    }
   ],
   "source": [
    "print(\"Time taken for trial 1: \", mc.run_simulation_np(coordinates, box_length, 3, 1.4, 50000))\n",
    "print(\"Time taken for trial 2: \", mc.run_simulation_np(coordinates, box_length, 3, 1.4, 50000))\n",
    "print(\"Time taken for trial 3: \", mc.run_simulation_np(coordinates, box_length, 3, 1.4, 50000))"
   ]
  },
  {
   "cell_type": "markdown",
   "id": "2d574461",
   "metadata": {},
   "source": [
    "# TEMP=3.1-STANDARD"
   ]
  },
  {
   "cell_type": "code",
   "execution_count": 10,
   "id": "65083b4d",
   "metadata": {},
   "outputs": [
    {
     "name": "stdout",
     "output_type": "stream",
     "text": [
      "Time taken for trial 1:  133.8591742515564\n",
      "Time taken for trial 2:  133.8975579738617\n",
      "Time taken for trial 3:  134.14379596710205\n"
     ]
    }
   ],
   "source": [
    "print(\"Time taken for trial 1: \", mc.run_simulation(coordinates, box_length, 3, 3.1, 50000))\n",
    "print(\"Time taken for trial 2: \", mc.run_simulation(coordinates, box_length, 3, 3.1, 50000))\n",
    "print(\"Time taken for trial 3: \", mc.run_simulation(coordinates, box_length, 3, 3.1, 50000))"
   ]
  },
  {
   "cell_type": "markdown",
   "id": "03bd01a0",
   "metadata": {},
   "source": [
    "# TEMP=3.1-NUMPY"
   ]
  },
  {
   "cell_type": "code",
   "execution_count": 11,
   "id": "521c8a0e",
   "metadata": {},
   "outputs": [
    {
     "name": "stdout",
     "output_type": "stream",
     "text": [
      "Time taken for trial 1:  66.62197589874268\n",
      "Time taken for trial 2:  66.5676200389862\n",
      "Time taken for trial 3:  66.83812880516052\n"
     ]
    }
   ],
   "source": [
    "print(\"Time taken for trial 1: \", mc.run_simulation_np(coordinates, box_length, 3, 3.1, 50000))\n",
    "print(\"Time taken for trial 2: \", mc.run_simulation_np(coordinates, box_length, 3, 3.1, 50000))\n",
    "print(\"Time taken for trial 3: \", mc.run_simulation_np(coordinates, box_length, 3, 3.1, 50000))"
   ]
  },
  {
   "cell_type": "markdown",
   "id": "77d73cc9",
   "metadata": {},
   "source": [
    "# CUTOFF=2.5-STANDARD"
   ]
  },
  {
   "cell_type": "code",
   "execution_count": 12,
   "id": "6dae2215",
   "metadata": {},
   "outputs": [
    {
     "name": "stdout",
     "output_type": "stream",
     "text": [
      "Time taken for trial 1:  132.8541660308838\n",
      "Time taken for trial 2:  131.07720923423767\n",
      "Time taken for trial 3:  130.6758999824524\n"
     ]
    }
   ],
   "source": [
    "print(\"Time taken for trial 1: \", mc.run_simulation(coordinates, box_length, 2.5, 0.9, 50000))\n",
    "print(\"Time taken for trial 2: \", mc.run_simulation(coordinates, box_length, 2.5, 0.9, 50000))\n",
    "print(\"Time taken for trial 3: \", mc.run_simulation(coordinates, box_length, 2.5, 0.9, 50000))"
   ]
  },
  {
   "cell_type": "markdown",
   "id": "72b6709e",
   "metadata": {},
   "source": [
    "# CUTOFF=2.5-NUMPY"
   ]
  },
  {
   "cell_type": "code",
   "execution_count": 13,
   "id": "da4f106d",
   "metadata": {},
   "outputs": [
    {
     "name": "stdout",
     "output_type": "stream",
     "text": [
      "Time taken for trial 1:  66.18083095550537\n",
      "Time taken for trial 2:  66.12609100341797\n",
      "Time taken for trial 3:  66.0330102443695\n"
     ]
    }
   ],
   "source": [
    "print(\"Time taken for trial 1: \", mc.run_simulation_np(coordinates, box_length, 2.5, 0.9, 50000))\n",
    "print(\"Time taken for trial 2: \", mc.run_simulation_np(coordinates, box_length, 2.5, 0.9, 50000))\n",
    "print(\"Time taken for trial 3: \", mc.run_simulation_np(coordinates, box_length, 2.5, 0.9, 50000))"
   ]
  },
  {
   "cell_type": "markdown",
   "id": "6d6b718e",
   "metadata": {},
   "source": [
    "# CUTOFF=3.5-STANDARD"
   ]
  },
  {
   "cell_type": "code",
   "execution_count": 14,
   "id": "0e25dddb",
   "metadata": {},
   "outputs": [
    {
     "name": "stdout",
     "output_type": "stream",
     "text": [
      "Time taken for trial 1:  135.15729784965515\n",
      "Time taken for trial 2:  135.44270515441895\n",
      "Time taken for trial 3:  135.0971109867096\n"
     ]
    }
   ],
   "source": [
    "print(\"Time taken for trial 1: \", mc.run_simulation(coordinates, box_length, 3.5, 0.9, 50000))\n",
    "print(\"Time taken for trial 2: \", mc.run_simulation(coordinates, box_length, 3.5, 0.9, 50000))\n",
    "print(\"Time taken for trial 3: \", mc.run_simulation(coordinates, box_length, 3.5, 0.9, 50000))"
   ]
  },
  {
   "cell_type": "markdown",
   "id": "5a78caf1",
   "metadata": {},
   "source": [
    "# CUTOFF=3.5-NUMPY"
   ]
  },
  {
   "cell_type": "code",
   "execution_count": 15,
   "id": "8f639048",
   "metadata": {},
   "outputs": [
    {
     "name": "stdout",
     "output_type": "stream",
     "text": [
      "Time taken for trial 1:  67.3801052570343\n",
      "Time taken for trial 2:  67.21926975250244\n",
      "Time taken for trial 3:  66.95642685890198\n"
     ]
    }
   ],
   "source": [
    "print(\"Time taken for trial 1: \", mc.run_simulation_np(coordinates, box_length, 3.5, 0.9, 50000))\n",
    "print(\"Time taken for trial 2: \", mc.run_simulation_np(coordinates, box_length, 3.5, 0.9, 50000))\n",
    "print(\"Time taken for trial 3: \", mc.run_simulation_np(coordinates, box_length, 3.5, 0.9, 50000))"
   ]
  },
  {
   "cell_type": "markdown",
   "id": "b79dcc4d",
   "metadata": {},
   "source": [
    "# CUTOFF=4-STANDARD"
   ]
  },
  {
   "cell_type": "code",
   "execution_count": 16,
   "id": "90ed5dc3",
   "metadata": {},
   "outputs": [
    {
     "name": "stdout",
     "output_type": "stream",
     "text": [
      "Time taken for trial 1:  139.0907199382782\n",
      "Time taken for trial 2:  139.23571586608887\n",
      "Time taken for trial 3:  142.25717091560364\n"
     ]
    }
   ],
   "source": [
    "print(\"Time taken for trial 1: \", mc.run_simulation(coordinates, box_length, 4, 0.9, 50000))\n",
    "print(\"Time taken for trial 2: \", mc.run_simulation(coordinates, box_length, 4, 0.9, 50000))\n",
    "print(\"Time taken for trial 3: \", mc.run_simulation(coordinates, box_length, 4, 0.9, 50000))"
   ]
  },
  {
   "cell_type": "markdown",
   "id": "c378aecc",
   "metadata": {},
   "source": [
    "# CUTOFF=4-NUMPY"
   ]
  },
  {
   "cell_type": "code",
   "execution_count": 17,
   "id": "401e26a6",
   "metadata": {},
   "outputs": [
    {
     "name": "stdout",
     "output_type": "stream",
     "text": [
      "Time taken for trial 1:  67.80410432815552\n",
      "Time taken for trial 2:  67.50087094306946\n",
      "Time taken for trial 3:  67.73361492156982\n"
     ]
    }
   ],
   "source": [
    "print(\"Time taken for trial 1: \", mc.run_simulation_np(coordinates, box_length, 4, 0.9, 50000))\n",
    "print(\"Time taken for trial 2: \", mc.run_simulation_np(coordinates, box_length, 4, 0.9, 50000))\n",
    "print(\"Time taken for trial 3: \", mc.run_simulation_np(coordinates, box_length, 4, 0.9, 50000))"
   ]
  },
  {
   "cell_type": "markdown",
   "id": "9f949114",
   "metadata": {},
   "source": [
    "# NUM_STEPS=10,000-STANDARD"
   ]
  },
  {
   "cell_type": "code",
   "execution_count": 18,
   "id": "3ffcc2cf",
   "metadata": {},
   "outputs": [
    {
     "name": "stdout",
     "output_type": "stream",
     "text": [
      "Time taken for trial 1:  27.29231286048889\n",
      "Time taken for trial 2:  27.249661922454834\n",
      "Time taken for trial 3:  27.252834796905518\n"
     ]
    }
   ],
   "source": [
    "print(\"Time taken for trial 1: \", mc.run_simulation(coordinates, box_length, 3, 0.9, 10000))\n",
    "print(\"Time taken for trial 2: \", mc.run_simulation(coordinates, box_length, 3, 0.9, 10000))\n",
    "print(\"Time taken for trial 3: \", mc.run_simulation(coordinates, box_length, 3, 0.9, 10000))"
   ]
  },
  {
   "cell_type": "markdown",
   "id": "49f2e3fd",
   "metadata": {},
   "source": [
    "# NUM_STEPS=10,000-NUMPY"
   ]
  },
  {
   "cell_type": "code",
   "execution_count": 19,
   "id": "27ebc01c",
   "metadata": {},
   "outputs": [
    {
     "name": "stdout",
     "output_type": "stream",
     "text": [
      "Time taken for trial 1:  13.762006044387817\n",
      "Time taken for trial 2:  13.74523115158081\n",
      "Time taken for trial 3:  13.735254049301147\n"
     ]
    }
   ],
   "source": [
    "print(\"Time taken for trial 1: \", mc.run_simulation_np(coordinates, box_length, 3, 0.9, 10000))\n",
    "print(\"Time taken for trial 2: \", mc.run_simulation_np(coordinates, box_length, 3, 0.9, 10000))\n",
    "print(\"Time taken for trial 3: \", mc.run_simulation_np(coordinates, box_length, 3, 0.9, 10000))"
   ]
  },
  {
   "cell_type": "markdown",
   "id": "0be5974d",
   "metadata": {},
   "source": [
    "# NUM_STEPS=30,000-STANDARD"
   ]
  },
  {
   "cell_type": "code",
   "execution_count": 20,
   "id": "e613e26f",
   "metadata": {},
   "outputs": [
    {
     "name": "stdout",
     "output_type": "stream",
     "text": [
      "Time taken for trial 1:  81.37551999092102\n",
      "Time taken for trial 2:  81.09162521362305\n",
      "Time taken for trial 3:  80.64795184135437\n"
     ]
    }
   ],
   "source": [
    "print(\"Time taken for trial 1: \", mc.run_simulation(coordinates, box_length, 3, 0.9, 30000))\n",
    "print(\"Time taken for trial 2: \", mc.run_simulation(coordinates, box_length, 3, 0.9, 30000))\n",
    "print(\"Time taken for trial 3: \", mc.run_simulation(coordinates, box_length, 3, 0.9, 30000))"
   ]
  },
  {
   "cell_type": "markdown",
   "id": "8d57aa4a",
   "metadata": {},
   "source": [
    "# NUM_STEPS=30,000-NUMPY"
   ]
  },
  {
   "cell_type": "code",
   "execution_count": 21,
   "id": "3d5a4eea",
   "metadata": {},
   "outputs": [
    {
     "name": "stdout",
     "output_type": "stream",
     "text": [
      "Time taken for trial 1:  40.12558317184448\n",
      "Time taken for trial 2:  40.21823000907898\n",
      "Time taken for trial 3:  40.08334493637085\n"
     ]
    }
   ],
   "source": [
    "print(\"Time taken for trial 1: \", mc.run_simulation_np(coordinates, box_length, 3, 0.9, 30000))\n",
    "print(\"Time taken for trial 2: \", mc.run_simulation_np(coordinates, box_length, 3, 0.9, 30000))\n",
    "print(\"Time taken for trial 3: \", mc.run_simulation_np(coordinates, box_length, 3, 0.9, 30000))"
   ]
  },
  {
   "cell_type": "markdown",
   "id": "14f52eef",
   "metadata": {},
   "source": [
    "# NUM_STEPS=70,000-STANDARD"
   ]
  },
  {
   "cell_type": "code",
   "execution_count": 22,
   "id": "a10bcea5",
   "metadata": {},
   "outputs": [
    {
     "name": "stdout",
     "output_type": "stream",
     "text": [
      "Time taken for trial 1:  188.40538096427917\n",
      "Time taken for trial 2:  187.09157800674438\n",
      "Time taken for trial 3:  187.14338088035583\n"
     ]
    }
   ],
   "source": [
    "print(\"Time taken for trial 1: \", mc.run_simulation(coordinates, box_length, 3, 0.9, 70000))\n",
    "print(\"Time taken for trial 2: \", mc.run_simulation(coordinates, box_length, 3, 0.9, 70000))\n",
    "print(\"Time taken for trial 3: \", mc.run_simulation(coordinates, box_length, 3, 0.9, 70000))"
   ]
  },
  {
   "cell_type": "markdown",
   "id": "d0edc006",
   "metadata": {},
   "source": [
    "# NUM_STEPS=70,000-NUMPY"
   ]
  },
  {
   "cell_type": "code",
   "execution_count": 23,
   "id": "001d112c",
   "metadata": {},
   "outputs": [
    {
     "name": "stdout",
     "output_type": "stream",
     "text": [
      "Time taken for trial 1:  92.63449811935425\n",
      "Time taken for trial 2:  92.83028078079224\n",
      "Time taken for trial 3:  92.73994994163513\n"
     ]
    }
   ],
   "source": [
    "print(\"Time taken for trial 1: \", mc.run_simulation_np(coordinates, box_length, 3, 0.9, 70000))\n",
    "print(\"Time taken for trial 2: \", mc.run_simulation_np(coordinates, box_length, 3, 0.9, 70000))\n",
    "print(\"Time taken for trial 3: \", mc.run_simulation_np(coordinates, box_length, 3, 0.9, 70000))"
   ]
  },
  {
   "cell_type": "markdown",
   "id": "408d9ef3",
   "metadata": {},
   "source": [
    "# MAX_DISPLACEMENT=0.05-STANDARD"
   ]
  },
  {
   "cell_type": "code",
   "execution_count": 24,
   "id": "3e026ba7",
   "metadata": {},
   "outputs": [
    {
     "name": "stdout",
     "output_type": "stream",
     "text": [
      "Time taken for trial 1:  134.71049904823303\n",
      "Time taken for trial 2:  134.29152607917786\n",
      "Time taken for trial 3:  134.92292666435242\n"
     ]
    }
   ],
   "source": [
    "print(\"Time taken for trial 1: \", mc.run_simulation(coordinates, box_length, 3, 0.9, 50000, 0.05))\n",
    "print(\"Time taken for trial 2: \", mc.run_simulation(coordinates, box_length, 3, 0.9, 50000, 0.05))\n",
    "print(\"Time taken for trial 3: \", mc.run_simulation(coordinates, box_length, 3, 0.9, 50000, 0.05))"
   ]
  },
  {
   "cell_type": "markdown",
   "id": "7c50081b",
   "metadata": {},
   "source": [
    "# MAX_DISPLACEMENT=0.05-NUMPY"
   ]
  },
  {
   "cell_type": "code",
   "execution_count": 25,
   "id": "fcb71f61",
   "metadata": {},
   "outputs": [
    {
     "name": "stdout",
     "output_type": "stream",
     "text": [
      "Time taken for trial 1:  66.72080302238464\n",
      "Time taken for trial 2:  66.63676476478577\n",
      "Time taken for trial 3:  66.79563307762146\n"
     ]
    }
   ],
   "source": [
    "print(\"Time taken for trial 1: \", mc.run_simulation_np(coordinates, box_length, 3, 0.9, 50000, 0.05))\n",
    "print(\"Time taken for trial 2: \", mc.run_simulation_np(coordinates, box_length, 3, 0.9, 50000, 0.05))\n",
    "print(\"Time taken for trial 3: \", mc.run_simulation_np(coordinates, box_length, 3, 0.9, 50000, 0.05))"
   ]
  },
  {
   "cell_type": "markdown",
   "id": "abf6c25b",
   "metadata": {},
   "source": [
    "# MAX_DISPLACEMENT=0.15-STANDARD"
   ]
  },
  {
   "cell_type": "code",
   "execution_count": 26,
   "id": "72785c8c",
   "metadata": {},
   "outputs": [
    {
     "name": "stdout",
     "output_type": "stream",
     "text": [
      "Time taken for trial 1:  135.55408382415771\n",
      "Time taken for trial 2:  134.80985713005066\n",
      "Time taken for trial 3:  134.13510489463806\n"
     ]
    }
   ],
   "source": [
    "print(\"Time taken for trial 1: \", mc.run_simulation(coordinates, box_length, 3, 0.9, 50000, 0.15))\n",
    "print(\"Time taken for trial 2: \", mc.run_simulation(coordinates, box_length, 3, 0.9, 50000, 0.15))\n",
    "print(\"Time taken for trial 3: \", mc.run_simulation(coordinates, box_length, 3, 0.9, 50000, 0.15))"
   ]
  },
  {
   "cell_type": "markdown",
   "id": "67db9eb1",
   "metadata": {},
   "source": [
    "# MAX_DISPLACEMENT=0.15-NUMPY"
   ]
  },
  {
   "cell_type": "code",
   "execution_count": 27,
   "id": "b4849344",
   "metadata": {},
   "outputs": [
    {
     "name": "stdout",
     "output_type": "stream",
     "text": [
      "Time taken for trial 1:  66.7271671295166\n",
      "Time taken for trial 2:  66.6732668876648\n",
      "Time taken for trial 3:  66.75978922843933\n"
     ]
    }
   ],
   "source": [
    "print(\"Time taken for trial 1: \", mc.run_simulation_np(coordinates, box_length, 3, 0.9, 50000, 0.15))\n",
    "print(\"Time taken for trial 2: \", mc.run_simulation_np(coordinates, box_length, 3, 0.9, 50000, 0.15))\n",
    "print(\"Time taken for trial 3: \", mc.run_simulation_np(coordinates, box_length, 3, 0.9, 50000, 0.15))"
   ]
  },
  {
   "cell_type": "markdown",
   "id": "795711ad",
   "metadata": {},
   "source": [
    "# MAX_DISPLACEMENT=0.2-STANDARD"
   ]
  },
  {
   "cell_type": "code",
   "execution_count": 28,
   "id": "9cb93a03",
   "metadata": {},
   "outputs": [
    {
     "name": "stdout",
     "output_type": "stream",
     "text": [
      "Time taken for trial 1:  134.52563571929932\n",
      "Time taken for trial 2:  134.32435822486877\n",
      "Time taken for trial 3:  134.60074305534363\n"
     ]
    }
   ],
   "source": [
    "print(\"Time taken for trial 1: \", mc.run_simulation(coordinates, box_length, 3, 0.9, 50000, 0.2))\n",
    "print(\"Time taken for trial 2: \", mc.run_simulation(coordinates, box_length, 3, 0.9, 50000, 0.2))\n",
    "print(\"Time taken for trial 3: \", mc.run_simulation(coordinates, box_length, 3, 0.9, 50000, 0.2))"
   ]
  },
  {
   "cell_type": "markdown",
   "id": "ff0154d2",
   "metadata": {},
   "source": [
    "# MAX_DISPLACEMENT=0.2-NUMPY"
   ]
  },
  {
   "cell_type": "code",
   "execution_count": 29,
   "id": "42ba9ba6",
   "metadata": {},
   "outputs": [
    {
     "name": "stdout",
     "output_type": "stream",
     "text": [
      "Time taken for trial 1:  66.88068008422852\n",
      "Time taken for trial 2:  66.72475528717041\n",
      "Time taken for trial 3:  66.49297904968262\n"
     ]
    }
   ],
   "source": [
    "print(\"Time taken for trial 1: \", mc.run_simulation_np(coordinates, box_length, 3, 0.9, 50000, 0.2))\n",
    "print(\"Time taken for trial 2: \", mc.run_simulation_np(coordinates, box_length, 3, 0.9, 50000, 0.2))\n",
    "print(\"Time taken for trial 3: \", mc.run_simulation_np(coordinates, box_length, 3, 0.9, 50000, 0.2))"
   ]
  },
  {
   "cell_type": "code",
   "execution_count": null,
   "id": "36930bb6",
   "metadata": {},
   "outputs": [],
   "source": []
  }
 ],
 "metadata": {
  "kernelspec": {
   "display_name": "Python 3",
   "language": "python",
   "name": "python3"
  },
  "language_info": {
   "codemirror_mode": {
    "name": "ipython",
    "version": 3
   },
   "file_extension": ".py",
   "mimetype": "text/x-python",
   "name": "python",
   "nbconvert_exporter": "python",
   "pygments_lexer": "ipython3",
   "version": "3.9.6"
  }
 },
 "nbformat": 4,
 "nbformat_minor": 5
}
