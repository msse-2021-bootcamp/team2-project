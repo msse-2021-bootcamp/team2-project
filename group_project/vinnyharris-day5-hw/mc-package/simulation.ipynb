{
 "cells": [
  {
   "cell_type": "code",
   "execution_count": 12,
   "id": "7f27342d",
   "metadata": {},
   "outputs": [],
   "source": [
    "import mcsim as mc"
   ]
  },
  {
   "cell_type": "code",
   "execution_count": 13,
   "id": "74f1d003",
   "metadata": {},
   "outputs": [
    {
     "name": "stdout",
     "output_type": "stream",
     "text": [
      "Help on function run_simulation in module mcsim.monte_carlo:\n",
      "\n",
      "run_simulation(coordinates, box_length, cutoff, reduced_temperature, num_steps, max_displacement=0.1, freq=1000)\n",
      "    Run a Monte Carlo simulation with the specific parameters.\n",
      "    \n",
      "    Parameters\n",
      "    ---------\n",
      "    coordinates: list\n",
      "    box_length: float\n",
      "    cutoff: float\n",
      "    reduced_temperature: float\n",
      "    num_steps:int\n",
      "    max_displacement: float\n",
      "    freq_checks: int\n",
      "\n"
     ]
    }
   ],
   "source": [
    "help(mc.run_simulation)"
   ]
  },
  {
   "cell_type": "code",
   "execution_count": 14,
   "id": "b6407b79",
   "metadata": {},
   "outputs": [],
   "source": [
    "reduced_temp=1.5\n",
    "num_steps = 50000\n",
    "cutoff=3\n",
    "freq=1000\n",
    "coordinates, box_length = mc.read_xyz('../../../lj_sample_configurations/lj_sample_config_periodic1.txt')"
   ]
  },
  {
   "cell_type": "markdown",
   "id": "ba29814a",
   "metadata": {},
   "source": [
    "# BASE CASE-STANRDARD"
   ]
  },
  {
   "cell_type": "code",
   "execution_count": 15,
   "id": "7bb26daa",
   "metadata": {},
   "outputs": [
    {
     "name": "stdout",
     "output_type": "stream",
     "text": [
      "Time taken for trial 1:  162.51515817642212\n",
      "Time taken for trial 2:  161.83396005630493\n",
      "Time taken for trial 3:  159.48953866958618\n"
     ]
    }
   ],
   "source": [
    "print(\"Time taken for trial 1: \", mc.run_simulation(coordinates, box_length, 3, 0.9, 50000))\n",
    "print(\"Time taken for trial 2: \", mc.run_simulation(coordinates, box_length, 3, 0.9, 50000))\n",
    "print(\"Time taken for trial 3: \", mc.run_simulation(coordinates, box_length, 3, 0.9, 50000))"
   ]
  },
  {
   "cell_type": "markdown",
   "id": "80324fe2",
   "metadata": {},
   "source": [
    "# BASE CASE-NUMPY"
   ]
  },
  {
   "cell_type": "code",
   "execution_count": 16,
   "id": "f6e6faa2",
   "metadata": {},
   "outputs": [
    {
     "name": "stdout",
     "output_type": "stream",
     "text": [
      "Time taken for trial 1:  78.50152015686035\n",
      "Time taken for trial 2:  77.65414118766785\n",
      "Time taken for trial 3:  85.49597525596619\n"
     ]
    }
   ],
   "source": [
    "print(\"Time taken for trial 1: \", mc.run_simulation_np(coordinates, box_length, 3, 0.9, 50000))\n",
    "print(\"Time taken for trial 2: \", mc.run_simulation_np(coordinates, box_length, 3, 0.9, 50000))\n",
    "print(\"Time taken for trial 3: \", mc.run_simulation_np(coordinates, box_length, 3, 0.9, 50000))"
   ]
  },
  {
   "cell_type": "markdown",
   "id": "4ce19a13",
   "metadata": {},
   "source": [
    "# TEMP=0.4-STANDARD"
   ]
  },
  {
   "cell_type": "code",
   "execution_count": null,
   "id": "c01e4006",
   "metadata": {},
   "outputs": [],
   "source": [
    "print(\"Time taken for trial 1: \", mc.run_simulation(coordinates, box_length, 3, 0.4, 50000))\n",
    "print(\"Time taken for trial 2: \", mc.run_simulation(coordinates, box_length, 3, 0.4, 50000))\n",
    "print(\"Time taken for trial 3: \", mc.run_simulation(coordinates, box_length, 3, 0.4, 50000))"
   ]
  },
  {
   "cell_type": "markdown",
   "id": "6f18a2a4",
   "metadata": {},
   "source": [
    "# TEMP=0.4-NUMPY"
   ]
  },
  {
   "cell_type": "code",
   "execution_count": null,
   "id": "a8a4bc22",
   "metadata": {},
   "outputs": [],
   "source": [
    "print(\"Time taken for trial 1: \", mc.run_simulation_np(coordinates, box_length, 3, 0.4, 50000))\n",
    "print(\"Time taken for trial 2: \", mc.run_simulation_np(coordinates, box_length, 3, 0.4, 50000))\n",
    "print(\"Time taken for trial 3: \", mc.run_simulation_np(coordinates, box_length, 3, 0.4, 50000))"
   ]
  },
  {
   "cell_type": "markdown",
   "id": "2bc60ef9",
   "metadata": {},
   "source": [
    "# TEMP=1.4-STANDARD"
   ]
  },
  {
   "cell_type": "code",
   "execution_count": null,
   "id": "ee1db266",
   "metadata": {},
   "outputs": [],
   "source": [
    "print(\"Time taken for trial 1: \", mc.run_simulation(coordinates, box_length, 3, 1.4, 50000))\n",
    "print(\"Time taken for trial 2: \", mc.run_simulation(coordinates, box_length, 3, 1.4, 50000))\n",
    "print(\"Time taken for trial 3: \", mc.run_simulation(coordinates, box_length, 3, 1.4, 50000))"
   ]
  },
  {
   "cell_type": "markdown",
   "id": "445676b4",
   "metadata": {},
   "source": [
    "# TEMP=1.4-NUMPY"
   ]
  },
  {
   "cell_type": "code",
   "execution_count": null,
   "id": "d882fb40",
   "metadata": {},
   "outputs": [],
   "source": [
    "print(\"Time taken for trial 1: \", mc.run_simulation_np(coordinates, box_length, 3, 1.4, 50000))\n",
    "print(\"Time taken for trial 2: \", mc.run_simulation_np(coordinates, box_length, 3, 1.4, 50000))\n",
    "print(\"Time taken for trial 3: \", mc.run_simulation_np(coordinates, box_length, 3, 1.4, 50000))"
   ]
  },
  {
   "cell_type": "markdown",
   "id": "2d574461",
   "metadata": {},
   "source": [
    "# TEMP=3.1-STANDARD"
   ]
  },
  {
   "cell_type": "code",
   "execution_count": null,
   "id": "65083b4d",
   "metadata": {},
   "outputs": [],
   "source": [
    "print(\"Time taken for trial 1: \", mc.run_simulation(coordinates, box_length, 3, 3.1, 50000))\n",
    "print(\"Time taken for trial 2: \", mc.run_simulation(coordinates, box_length, 3, 3.1, 50000))\n",
    "print(\"Time taken for trial 3: \", mc.run_simulation(coordinates, box_length, 3, 3.1, 50000))"
   ]
  },
  {
   "cell_type": "markdown",
   "id": "03bd01a0",
   "metadata": {},
   "source": [
    "# TEMP=3.1-NUMPY"
   ]
  },
  {
   "cell_type": "code",
   "execution_count": null,
   "id": "521c8a0e",
   "metadata": {},
   "outputs": [],
   "source": [
    "print(\"Time taken for trial 1: \", mc.run_simulation_np(coordinates, box_length, 3, 3.1, 50000))\n",
    "print(\"Time taken for trial 2: \", mc.run_simulation_np(coordinates, box_length, 3, 3.1, 50000))\n",
    "print(\"Time taken for trial 3: \", mc.run_simulation_np(coordinates, box_length, 3, 3.1, 50000))"
   ]
  },
  {
   "cell_type": "markdown",
   "id": "77d73cc9",
   "metadata": {},
   "source": [
    "# CUTOFF=2.5-STANDARD"
   ]
  },
  {
   "cell_type": "code",
   "execution_count": null,
   "id": "6dae2215",
   "metadata": {},
   "outputs": [],
   "source": [
    "print(\"Time taken for trial 1: \", mc.run_simulation(coordinates, box_length, 2.5, 0.9, 50000))\n",
    "print(\"Time taken for trial 2: \", mc.run_simulation(coordinates, box_length, 2.5, 0.9, 50000))\n",
    "print(\"Time taken for trial 3: \", mc.run_simulation(coordinates, box_length, 2.5, 0.9, 50000))"
   ]
  },
  {
   "cell_type": "markdown",
   "id": "72b6709e",
   "metadata": {},
   "source": [
    "# CUTOFF=2.5-NUMPY"
   ]
  },
  {
   "cell_type": "code",
   "execution_count": null,
   "id": "da4f106d",
   "metadata": {},
   "outputs": [],
   "source": [
    "print(\"Time taken for trial 1: \", mc.run_simulation_np(coordinates, box_length, 2.5, 0.9, 50000))\n",
    "print(\"Time taken for trial 2: \", mc.run_simulation_np(coordinates, box_length, 2.5, 0.9, 50000))\n",
    "print(\"Time taken for trial 3: \", mc.run_simulation_np(coordinates, box_length, 2.5, 0.9, 50000))"
   ]
  },
  {
   "cell_type": "markdown",
   "id": "6d6b718e",
   "metadata": {},
   "source": [
    "# CUTOFF=3.5-STANDARD"
   ]
  },
  {
   "cell_type": "code",
   "execution_count": null,
   "id": "0e25dddb",
   "metadata": {},
   "outputs": [],
   "source": [
    "print(\"Time taken for trial 1: \", mc.run_simulation(coordinates, box_length, 3.5, 0.9, 50000))\n",
    "print(\"Time taken for trial 2: \", mc.run_simulation(coordinates, box_length, 3.5, 0.9, 50000))\n",
    "print(\"Time taken for trial 3: \", mc.run_simulation(coordinates, box_length, 3.5, 0.9, 50000))"
   ]
  },
  {
   "cell_type": "markdown",
   "id": "5a78caf1",
   "metadata": {},
   "source": [
    "# CUTOFF=3.5-NUMPY"
   ]
  },
  {
   "cell_type": "code",
   "execution_count": null,
   "id": "8f639048",
   "metadata": {},
   "outputs": [],
   "source": [
    "print(\"Time taken for trial 1: \", mc.run_simulation_np(coordinates, box_length, 3.5, 0.9, 50000))\n",
    "print(\"Time taken for trial 2: \", mc.run_simulation_np(coordinates, box_length, 3.5, 0.9, 50000))\n",
    "print(\"Time taken for trial 3: \", mc.run_simulation_np(coordinates, box_length, 3.5, 0.9, 50000))"
   ]
  },
  {
   "cell_type": "markdown",
   "id": "b79dcc4d",
   "metadata": {},
   "source": [
    "# CUTOFF=4-STANDARD"
   ]
  },
  {
   "cell_type": "code",
   "execution_count": null,
   "id": "90ed5dc3",
   "metadata": {},
   "outputs": [],
   "source": [
    "print(\"Time taken for trial 1: \", mc.run_simulation(coordinates, box_length, 4, 0.9, 50000))\n",
    "print(\"Time taken for trial 2: \", mc.run_simulation(coordinates, box_length, 4, 0.9, 50000))\n",
    "print(\"Time taken for trial 3: \", mc.run_simulation(coordinates, box_length, 4, 0.9, 50000))"
   ]
  },
  {
   "cell_type": "markdown",
   "id": "c378aecc",
   "metadata": {},
   "source": [
    "# CUTOFF=4-NUMPY"
   ]
  },
  {
   "cell_type": "code",
   "execution_count": null,
   "id": "401e26a6",
   "metadata": {},
   "outputs": [],
   "source": [
    "print(\"Time taken for trial 1: \", mc.run_simulation_np(coordinates, box_length, 4, 0.9, 50000))\n",
    "print(\"Time taken for trial 2: \", mc.run_simulation_np(coordinates, box_length, 4, 0.9, 50000))\n",
    "print(\"Time taken for trial 3: \", mc.run_simulation_np(coordinates, box_length, 4, 0.9, 50000))"
   ]
  },
  {
   "cell_type": "markdown",
   "id": "9f949114",
   "metadata": {},
   "source": [
    "# NUM_STEPS=10,000-STANDARD"
   ]
  },
  {
   "cell_type": "code",
   "execution_count": null,
   "id": "3ffcc2cf",
   "metadata": {},
   "outputs": [],
   "source": [
    "print(\"Time taken for trial 1: \", mc.run_simulation(coordinates, box_length, 3, 0.9, 10000))\n",
    "print(\"Time taken for trial 2: \", mc.run_simulation(coordinates, box_length, 3, 0.9, 10000))\n",
    "print(\"Time taken for trial 3: \", mc.run_simulation(coordinates, box_length, 3, 0.9, 10000))"
   ]
  },
  {
   "cell_type": "markdown",
   "id": "49f2e3fd",
   "metadata": {},
   "source": [
    "# NUM_STEPS=10,000-NUMPY"
   ]
  },
  {
   "cell_type": "code",
   "execution_count": null,
   "id": "27ebc01c",
   "metadata": {},
   "outputs": [],
   "source": [
    "print(\"Time taken for trial 1: \", mc.run_simulation_np(coordinates, box_length, 3, 0.9, 10000))\n",
    "print(\"Time taken for trial 2: \", mc.run_simulation_np(coordinates, box_length, 3, 0.9, 10000))\n",
    "print(\"Time taken for trial 3: \", mc.run_simulation_np(coordinates, box_length, 3, 0.9, 10000))"
   ]
  },
  {
   "cell_type": "markdown",
   "id": "0be5974d",
   "metadata": {},
   "source": [
    "# NUM_STEPS=30,000-STANDARD"
   ]
  },
  {
   "cell_type": "code",
   "execution_count": null,
   "id": "e613e26f",
   "metadata": {},
   "outputs": [],
   "source": [
    "print(\"Time taken for trial 1: \", mc.run_simulation(coordinates, box_length, 3, 0.9, 30000))\n",
    "print(\"Time taken for trial 2: \", mc.run_simulation(coordinates, box_length, 3, 0.9, 30000))\n",
    "print(\"Time taken for trial 3: \", mc.run_simulation(coordinates, box_length, 3, 0.9, 30000))"
   ]
  },
  {
   "cell_type": "markdown",
   "id": "8d57aa4a",
   "metadata": {},
   "source": [
    "# NUM_STEPS=30,000-NUMPY"
   ]
  },
  {
   "cell_type": "code",
   "execution_count": null,
   "id": "3d5a4eea",
   "metadata": {},
   "outputs": [],
   "source": [
    "print(\"Time taken for trial 1: \", mc.run_simulation_np(coordinates, box_length, 3, 0.9, 30000))\n",
    "print(\"Time taken for trial 2: \", mc.run_simulation_np(coordinates, box_length, 3, 0.9, 30000))\n",
    "print(\"Time taken for trial 3: \", mc.run_simulation_np(coordinates, box_length, 3, 0.9, 30000))"
   ]
  },
  {
   "cell_type": "markdown",
   "id": "14f52eef",
   "metadata": {},
   "source": [
    "# NUM_STEPS=70,000-STANDARD"
   ]
  },
  {
   "cell_type": "code",
   "execution_count": null,
   "id": "a10bcea5",
   "metadata": {},
   "outputs": [],
   "source": [
    "print(\"Time taken for trial 1: \", mc.run_simulation(coordinates, box_length, 3, 0.9, 70000))\n",
    "print(\"Time taken for trial 2: \", mc.run_simulation(coordinates, box_length, 3, 0.9, 70000))\n",
    "print(\"Time taken for trial 3: \", mc.run_simulation(coordinates, box_length, 3, 0.9, 70000))"
   ]
  },
  {
   "cell_type": "markdown",
   "id": "d0edc006",
   "metadata": {},
   "source": [
    "# NUM_STEPS=70,000-NUMPY"
   ]
  },
  {
   "cell_type": "code",
   "execution_count": null,
   "id": "001d112c",
   "metadata": {},
   "outputs": [],
   "source": [
    "print(\"Time taken for trial 1: \", mc.run_simulation_np(coordinates, box_length, 3, 0.9, 70000))\n",
    "print(\"Time taken for trial 2: \", mc.run_simulation_np(coordinates, box_length, 3, 0.9, 70000))\n",
    "print(\"Time taken for trial 3: \", mc.run_simulation_np(coordinates, box_length, 3, 0.9, 70000))"
   ]
  },
  {
   "cell_type": "markdown",
   "id": "408d9ef3",
   "metadata": {},
   "source": [
    "# MAX_DISPLACEMENT=0.05-STANDARD"
   ]
  },
  {
   "cell_type": "code",
   "execution_count": null,
   "id": "3e026ba7",
   "metadata": {},
   "outputs": [],
   "source": [
    "print(\"Time taken for trial 1: \", mc.run_simulation(coordinates, box_length, 3, 0.9, 50000, 0.05))\n",
    "print(\"Time taken for trial 2: \", mc.run_simulation(coordinates, box_length, 3, 0.9, 50000, 0.05))\n",
    "print(\"Time taken for trial 3: \", mc.run_simulation(coordinates, box_length, 3, 0.9, 50000, 0.05))"
   ]
  },
  {
   "cell_type": "markdown",
   "id": "7c50081b",
   "metadata": {},
   "source": [
    "# MAX_DISPLACEMENT=0.05-NUMPY"
   ]
  },
  {
   "cell_type": "code",
   "execution_count": null,
   "id": "fcb71f61",
   "metadata": {},
   "outputs": [],
   "source": [
    "print(\"Time taken for trial 1: \", mc.run_simulation_np(coordinates, box_length, 3, 0.9, 50000, 0.05))\n",
    "print(\"Time taken for trial 2: \", mc.run_simulation_np(coordinates, box_length, 3, 0.9, 50000, 0.05))\n",
    "print(\"Time taken for trial 3: \", mc.run_simulation_np(coordinates, box_length, 3, 0.9, 50000, 0.05))"
   ]
  },
  {
   "cell_type": "markdown",
   "id": "abf6c25b",
   "metadata": {},
   "source": [
    "# MAX_DISPLACEMENT=0.15-STANDARD"
   ]
  },
  {
   "cell_type": "code",
   "execution_count": null,
   "id": "72785c8c",
   "metadata": {},
   "outputs": [],
   "source": [
    "print(\"Time taken for trial 1: \", mc.run_simulation(coordinates, box_length, 3, 0.9, 50000, 0.15))\n",
    "print(\"Time taken for trial 2: \", mc.run_simulation(coordinates, box_length, 3, 0.9, 50000, 0.15))\n",
    "print(\"Time taken for trial 3: \", mc.run_simulation(coordinates, box_length, 3, 0.9, 50000, 0.15))"
   ]
  },
  {
   "cell_type": "markdown",
   "id": "67db9eb1",
   "metadata": {},
   "source": [
    "# MAX_DISPLACEMENT=0.15-NUMPY"
   ]
  },
  {
   "cell_type": "code",
   "execution_count": null,
   "id": "b4849344",
   "metadata": {},
   "outputs": [],
   "source": [
    "print(\"Time taken for trial 1: \", mc.run_simulation_np(coordinates, box_length, 3, 0.9, 50000, 0.15))\n",
    "print(\"Time taken for trial 2: \", mc.run_simulation_np(coordinates, box_length, 3, 0.9, 50000, 0.15))\n",
    "print(\"Time taken for trial 3: \", mc.run_simulation_np(coordinates, box_length, 3, 0.9, 50000, 0.15))"
   ]
  },
  {
   "cell_type": "markdown",
   "id": "795711ad",
   "metadata": {},
   "source": [
    "# MAX_DISPLACEMENT=0.2-STANDARD"
   ]
  },
  {
   "cell_type": "code",
   "execution_count": null,
   "id": "9cb93a03",
   "metadata": {},
   "outputs": [],
   "source": [
    "print(\"Time taken for trial 1: \", mc.run_simulation(coordinates, box_length, 3, 0.9, 50000, 0.2))\n",
    "print(\"Time taken for trial 2: \", mc.run_simulation(coordinates, box_length, 3, 0.9, 50000, 0.2))\n",
    "print(\"Time taken for trial 3: \", mc.run_simulation(coordinates, box_length, 3, 0.9, 50000, 0.2))"
   ]
  },
  {
   "cell_type": "markdown",
   "id": "ff0154d2",
   "metadata": {},
   "source": [
    "# MAX_DISPLACEMENT=0.2-NUMPY"
   ]
  },
  {
   "cell_type": "code",
   "execution_count": null,
   "id": "42ba9ba6",
   "metadata": {},
   "outputs": [],
   "source": [
    "print(\"Time taken for trial 1: \", mc.run_simulation_np(coordinates, box_length, 3, 0.9, 50000, 0.2))\n",
    "print(\"Time taken for trial 2: \", mc.run_simulation_np(coordinates, box_length, 3, 0.9, 50000, 0.2))\n",
    "print(\"Time taken for trial 3: \", mc.run_simulation_np(coordinates, box_length, 3, 0.9, 50000, 0.2))"
   ]
  },
  {
   "cell_type": "code",
   "execution_count": null,
   "id": "36930bb6",
   "metadata": {},
   "outputs": [],
   "source": []
  }
 ],
 "metadata": {
  "kernelspec": {
   "display_name": "Python 3 (ipykernel)",
   "language": "python",
   "name": "python3"
  },
  "language_info": {
   "codemirror_mode": {
    "name": "ipython",
    "version": 3
   },
   "file_extension": ".py",
   "mimetype": "text/x-python",
   "name": "python",
   "nbconvert_exporter": "python",
   "pygments_lexer": "ipython3",
   "version": "3.9.6"
  }
 },
 "nbformat": 4,
 "nbformat_minor": 5
}
