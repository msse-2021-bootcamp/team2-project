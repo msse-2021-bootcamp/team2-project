{
 "cells": [
  {
   "cell_type": "code",
   "execution_count": 1,
   "id": "7f27342d",
   "metadata": {},
   "outputs": [],
   "source": [
    "import mcsim as mc"
   ]
  },
  {
   "cell_type": "code",
   "execution_count": 2,
   "id": "74f1d003",
   "metadata": {},
   "outputs": [
    {
     "name": "stdout",
     "output_type": "stream",
     "text": [
      "Help on function run_simulation in module mcsim.monte_carlo:\n",
      "\n",
      "run_simulation(coordinates, box_length, cutoff, reduced_temperature, num_steps, max_displacement=0.1, freq=1000)\n",
      "    Run a Monte Carlo simulation with the specific parameters.\n",
      "    \n",
      "    Parameters\n",
      "    ---------\n",
      "    coordinates: list\n",
      "    box_length: float\n",
      "    cutoff: float\n",
      "    reduced_temperature: float\n",
      "    num_steps:int\n",
      "    max_displacement: float\n",
      "    freq_checks: int\n",
      "\n"
     ]
    }
   ],
   "source": [
    "help(mc.run_simulation)"
   ]
  },
  {
   "cell_type": "code",
   "execution_count": 3,
   "id": "b6407b79",
   "metadata": {},
   "outputs": [],
   "source": [
    "reduced_temp=1.5\n",
    "num_steps = 50000\n",
    "cutoff=3\n",
    "freq=1000\n",
    "coordinates, box_length = mc.read_xyz('../../../lj_sample_configurations/lj_sample_config_periodic1.txt')"
   ]
  },
  {
   "cell_type": "markdown",
   "id": "ba29814a",
   "metadata": {},
   "source": [
    "# BASE CASE-STANRDARD"
   ]
  },
  {
   "cell_type": "code",
   "execution_count": null,
   "id": "7bb26daa",
   "metadata": {},
   "outputs": [],
   "source": []
  },
  {
   "cell_type": "markdown",
   "id": "80324fe2",
   "metadata": {},
   "source": [
    "# BASE CASE-NUMPY"
   ]
  },
  {
   "cell_type": "code",
   "execution_count": 4,
   "id": "f6e6faa2",
   "metadata": {},
   "outputs": [
    {
     "name": "stdout",
     "output_type": "stream",
     "text": [
      "Time taken for trial 1:  36.50792407989502\n",
      "Time taken for trial 2:  35.27602005004883\n",
      "Time taken for trial 3:  35.26110506057739\n"
     ]
    }
   ],
   "source": [
    "print(\"Time taken for trial 1: \", mc.run_simulation_np(coordinates, box_length, 3, 0.9, 50000))\n",
    "print(\"Time taken for trial 2: \", mc.run_simulation_np(coordinates, box_length, 3, 0.9, 50000))\n",
    "print(\"Time taken for trial 3: \", mc.run_simulation_np(coordinates, box_length, 3, 0.9, 50000))"
   ]
  },
  {
   "cell_type": "markdown",
   "id": "4ce19a13",
   "metadata": {},
   "source": [
    "# TEMP=0.4-STANDARD"
   ]
  },
  {
   "cell_type": "code",
   "execution_count": null,
   "id": "c01e4006",
   "metadata": {},
   "outputs": [],
   "source": []
  },
  {
   "cell_type": "markdown",
   "id": "6f18a2a4",
   "metadata": {},
   "source": [
    "# TEMP=0.4-NUMPY"
   ]
  },
  {
   "cell_type": "code",
   "execution_count": 5,
   "id": "a8a4bc22",
   "metadata": {},
   "outputs": [
    {
     "name": "stdout",
     "output_type": "stream",
     "text": [
      "Time taken for trial 1:  35.30730104446411\n",
      "Time taken for trial 2:  35.27854681015015\n",
      "Time taken for trial 3:  35.255774974823\n"
     ]
    }
   ],
   "source": [
    "print(\"Time taken for trial 1: \", mc.run_simulation_np(coordinates, box_length, 3, 0.4, 50000))\n",
    "print(\"Time taken for trial 2: \", mc.run_simulation_np(coordinates, box_length, 3, 0.4, 50000))\n",
    "print(\"Time taken for trial 3: \", mc.run_simulation_np(coordinates, box_length, 3, 0.4, 50000))"
   ]
  },
  {
   "cell_type": "markdown",
   "id": "2bc60ef9",
   "metadata": {},
   "source": [
    "# TEMP=1.4-STANDARD"
   ]
  },
  {
   "cell_type": "code",
   "execution_count": null,
   "id": "ee1db266",
   "metadata": {},
   "outputs": [],
   "source": []
  },
  {
   "cell_type": "markdown",
   "id": "445676b4",
   "metadata": {},
   "source": [
    "# TEMP=1.4-NUMPY"
   ]
  },
  {
   "cell_type": "code",
   "execution_count": 6,
   "id": "d882fb40",
   "metadata": {},
   "outputs": [
    {
     "name": "stdout",
     "output_type": "stream",
     "text": [
      "Time taken for trial 1:  35.93948698043823\n",
      "Time taken for trial 2:  35.62416100502014\n",
      "Time taken for trial 3:  35.27055287361145\n"
     ]
    }
   ],
   "source": [
    "print(\"Time taken for trial 1: \", mc.run_simulation_np(coordinates, box_length, 3, 1.4, 50000))\n",
    "print(\"Time taken for trial 2: \", mc.run_simulation_np(coordinates, box_length, 3, 1.4, 50000))\n",
    "print(\"Time taken for trial 3: \", mc.run_simulation_np(coordinates, box_length, 3, 1.4, 50000))"
   ]
  },
  {
   "cell_type": "markdown",
   "id": "2d574461",
   "metadata": {},
   "source": [
    "# TEMP=3.1-STANDARD"
   ]
  },
  {
   "cell_type": "code",
   "execution_count": null,
   "id": "65083b4d",
   "metadata": {},
   "outputs": [],
   "source": []
  },
  {
   "cell_type": "markdown",
   "id": "03bd01a0",
   "metadata": {},
   "source": [
    "# TEMP=3.1-NUMPY"
   ]
  },
  {
   "cell_type": "code",
   "execution_count": 7,
   "id": "521c8a0e",
   "metadata": {},
   "outputs": [
    {
     "name": "stdout",
     "output_type": "stream",
     "text": [
      "Time taken for trial 1:  36.4385929107666\n",
      "Time taken for trial 2:  35.524664878845215\n",
      "Time taken for trial 3:  35.589040994644165\n"
     ]
    }
   ],
   "source": [
    "print(\"Time taken for trial 1: \", mc.run_simulation_np(coordinates, box_length, 3, 3.1, 50000))\n",
    "print(\"Time taken for trial 2: \", mc.run_simulation_np(coordinates, box_length, 3, 3.1, 50000))\n",
    "print(\"Time taken for trial 3: \", mc.run_simulation_np(coordinates, box_length, 3, 3.1, 50000))"
   ]
  },
  {
   "cell_type": "markdown",
   "id": "77d73cc9",
   "metadata": {},
   "source": [
    "# CUTOFF=2.5-STANDARD"
   ]
  },
  {
   "cell_type": "code",
   "execution_count": null,
   "id": "6dae2215",
   "metadata": {},
   "outputs": [],
   "source": []
  },
  {
   "cell_type": "markdown",
   "id": "72b6709e",
   "metadata": {},
   "source": [
    "# CUTOFF=2.5-NUMPY"
   ]
  },
  {
   "cell_type": "code",
   "execution_count": 8,
   "id": "da4f106d",
   "metadata": {},
   "outputs": [
    {
     "name": "stdout",
     "output_type": "stream",
     "text": [
      "Time taken for trial 1:  34.89946103096008\n",
      "Time taken for trial 2:  34.88680911064148\n",
      "Time taken for trial 3:  34.9678168296814\n"
     ]
    }
   ],
   "source": [
    "print(\"Time taken for trial 1: \", mc.run_simulation_np(coordinates, box_length, 2.5, 0.9, 50000))\n",
    "print(\"Time taken for trial 2: \", mc.run_simulation_np(coordinates, box_length, 2.5, 0.9, 50000))\n",
    "print(\"Time taken for trial 3: \", mc.run_simulation_np(coordinates, box_length, 2.5, 0.9, 50000))"
   ]
  },
  {
   "cell_type": "markdown",
   "id": "6d6b718e",
   "metadata": {},
   "source": [
    "# CUTOFF=3.5-STANDARD"
   ]
  },
  {
   "cell_type": "code",
   "execution_count": null,
   "id": "0e25dddb",
   "metadata": {},
   "outputs": [],
   "source": []
  },
  {
   "cell_type": "markdown",
   "id": "5a78caf1",
   "metadata": {},
   "source": [
    "# CUTOFF=3.5-NUMPY"
   ]
  },
  {
   "cell_type": "code",
   "execution_count": 9,
   "id": "8f639048",
   "metadata": {},
   "outputs": [
    {
     "name": "stdout",
     "output_type": "stream",
     "text": [
      "Time taken for trial 1:  35.90782380104065\n",
      "Time taken for trial 2:  35.969135999679565\n",
      "Time taken for trial 3:  35.91776084899902\n"
     ]
    }
   ],
   "source": [
    "print(\"Time taken for trial 1: \", mc.run_simulation_np(coordinates, box_length, 3.5, 0.9, 50000))\n",
    "print(\"Time taken for trial 2: \", mc.run_simulation_np(coordinates, box_length, 3.5, 0.9, 50000))\n",
    "print(\"Time taken for trial 3: \", mc.run_simulation_np(coordinates, box_length, 3.5, 0.9, 50000))"
   ]
  },
  {
   "cell_type": "markdown",
   "id": "b79dcc4d",
   "metadata": {},
   "source": [
    "# CUTOFF=4-STANDARD"
   ]
  },
  {
   "cell_type": "code",
   "execution_count": null,
   "id": "90ed5dc3",
   "metadata": {},
   "outputs": [],
   "source": []
  },
  {
   "cell_type": "markdown",
   "id": "c378aecc",
   "metadata": {},
   "source": [
    "# CUTOFF=4-NUMPY"
   ]
  },
  {
   "cell_type": "code",
   "execution_count": 10,
   "id": "401e26a6",
   "metadata": {},
   "outputs": [
    {
     "name": "stdout",
     "output_type": "stream",
     "text": [
      "Time taken for trial 1:  36.43405866622925\n",
      "Time taken for trial 2:  37.89651894569397\n",
      "Time taken for trial 3:  36.843727111816406\n"
     ]
    }
   ],
   "source": [
    "print(\"Time taken for trial 1: \", mc.run_simulation_np(coordinates, box_length, 4, 0.9, 50000))\n",
    "print(\"Time taken for trial 2: \", mc.run_simulation_np(coordinates, box_length, 4, 0.9, 50000))\n",
    "print(\"Time taken for trial 3: \", mc.run_simulation_np(coordinates, box_length, 4, 0.9, 50000))"
   ]
  },
  {
   "cell_type": "markdown",
   "id": "9f949114",
   "metadata": {},
   "source": [
    "# NUM_STEPS=10,000-STANDARD"
   ]
  },
  {
   "cell_type": "code",
   "execution_count": null,
   "id": "3ffcc2cf",
   "metadata": {},
   "outputs": [],
   "source": []
  },
  {
   "cell_type": "markdown",
   "id": "49f2e3fd",
   "metadata": {},
   "source": [
    "# NUM_STEPS=10,000-NUMPY"
   ]
  },
  {
   "cell_type": "code",
   "execution_count": 11,
   "id": "27ebc01c",
   "metadata": {},
   "outputs": [
    {
     "name": "stdout",
     "output_type": "stream",
     "text": [
      "Time taken for trial 1:  7.293255090713501\n",
      "Time taken for trial 2:  7.293203115463257\n",
      "Time taken for trial 3:  7.311747074127197\n"
     ]
    }
   ],
   "source": [
    "print(\"Time taken for trial 1: \", mc.run_simulation_np(coordinates, box_length, 3, 0.9, 10000))\n",
    "print(\"Time taken for trial 2: \", mc.run_simulation_np(coordinates, box_length, 3, 0.9, 10000))\n",
    "print(\"Time taken for trial 3: \", mc.run_simulation_np(coordinates, box_length, 3, 0.9, 10000))"
   ]
  },
  {
   "cell_type": "markdown",
   "id": "0be5974d",
   "metadata": {},
   "source": [
    "# NUM_STEPS=30,000-STANDARD"
   ]
  },
  {
   "cell_type": "code",
   "execution_count": null,
   "id": "e613e26f",
   "metadata": {},
   "outputs": [],
   "source": []
  },
  {
   "cell_type": "markdown",
   "id": "8d57aa4a",
   "metadata": {},
   "source": [
    "# NUM_STEPS=30,000-NUMPY"
   ]
  },
  {
   "cell_type": "code",
   "execution_count": 12,
   "id": "3d5a4eea",
   "metadata": {},
   "outputs": [
    {
     "name": "stdout",
     "output_type": "stream",
     "text": [
      "Time taken for trial 1:  21.349096059799194\n",
      "Time taken for trial 2:  21.911170959472656\n",
      "Time taken for trial 3:  21.384329080581665\n"
     ]
    }
   ],
   "source": [
    "print(\"Time taken for trial 1: \", mc.run_simulation_np(coordinates, box_length, 3, 0.9, 30000))\n",
    "print(\"Time taken for trial 2: \", mc.run_simulation_np(coordinates, box_length, 3, 0.9, 30000))\n",
    "print(\"Time taken for trial 3: \", mc.run_simulation_np(coordinates, box_length, 3, 0.9, 30000))"
   ]
  },
  {
   "cell_type": "markdown",
   "id": "14f52eef",
   "metadata": {},
   "source": [
    "# NUM_STEPS=70,000-STANDARD"
   ]
  },
  {
   "cell_type": "code",
   "execution_count": null,
   "id": "a10bcea5",
   "metadata": {},
   "outputs": [],
   "source": []
  },
  {
   "cell_type": "markdown",
   "id": "d0edc006",
   "metadata": {},
   "source": [
    "# NUM_STEPS=70,000-NUMPY"
   ]
  },
  {
   "cell_type": "code",
   "execution_count": 13,
   "id": "001d112c",
   "metadata": {},
   "outputs": [
    {
     "name": "stdout",
     "output_type": "stream",
     "text": [
      "Time taken for trial 1:  49.73783564567566\n",
      "Time taken for trial 2:  49.36609196662903\n",
      "Time taken for trial 3:  49.36638593673706\n"
     ]
    }
   ],
   "source": [
    "print(\"Time taken for trial 1: \", mc.run_simulation_np(coordinates, box_length, 3, 0.9, 70000))\n",
    "print(\"Time taken for trial 2: \", mc.run_simulation_np(coordinates, box_length, 3, 0.9, 70000))\n",
    "print(\"Time taken for trial 3: \", mc.run_simulation_np(coordinates, box_length, 3, 0.9, 70000))"
   ]
  },
  {
   "cell_type": "markdown",
   "id": "408d9ef3",
   "metadata": {},
   "source": [
    "# MAX_DISPLACEMENT=0.05-STANDARD"
   ]
  },
  {
   "cell_type": "code",
   "execution_count": null,
   "id": "3e026ba7",
   "metadata": {},
   "outputs": [],
   "source": []
  },
  {
   "cell_type": "markdown",
   "id": "7c50081b",
   "metadata": {},
   "source": [
    "# MAX_DISPLACEMENT=0.05-NUMPY"
   ]
  },
  {
   "cell_type": "code",
   "execution_count": 14,
   "id": "fcb71f61",
   "metadata": {},
   "outputs": [
    {
     "name": "stdout",
     "output_type": "stream",
     "text": [
      "Time taken for trial 1:  35.332159996032715\n",
      "Time taken for trial 2:  35.333253145217896\n",
      "Time taken for trial 3:  35.445268869400024\n"
     ]
    }
   ],
   "source": [
    "print(\"Time taken for trial 1: \", mc.run_simulation_np(coordinates, box_length, 3, 0.9, 50000, 0.05))\n",
    "print(\"Time taken for trial 2: \", mc.run_simulation_np(coordinates, box_length, 3, 0.9, 50000, 0.05))\n",
    "print(\"Time taken for trial 3: \", mc.run_simulation_np(coordinates, box_length, 3, 0.9, 50000, 0.05))"
   ]
  },
  {
   "cell_type": "markdown",
   "id": "abf6c25b",
   "metadata": {},
   "source": [
    "# MAX_DISPLACEMENT=0.15-STANDARD"
   ]
  },
  {
   "cell_type": "code",
   "execution_count": null,
   "id": "72785c8c",
   "metadata": {},
   "outputs": [],
   "source": []
  },
  {
   "cell_type": "markdown",
   "id": "67db9eb1",
   "metadata": {},
   "source": [
    "# MAX_DISPLACEMENT=0.15-NUMPY"
   ]
  },
  {
   "cell_type": "code",
   "execution_count": 15,
   "id": "b4849344",
   "metadata": {},
   "outputs": [
    {
     "name": "stdout",
     "output_type": "stream",
     "text": [
      "Time taken for trial 1:  35.38829684257507\n",
      "Time taken for trial 2:  36.1653151512146\n",
      "Time taken for trial 3:  35.92158389091492\n"
     ]
    }
   ],
   "source": [
    "print(\"Time taken for trial 1: \", mc.run_simulation_np(coordinates, box_length, 3, 0.9, 50000, 0.15))\n",
    "print(\"Time taken for trial 2: \", mc.run_simulation_np(coordinates, box_length, 3, 0.9, 50000, 0.15))\n",
    "print(\"Time taken for trial 3: \", mc.run_simulation_np(coordinates, box_length, 3, 0.9, 50000, 0.15))"
   ]
  },
  {
   "cell_type": "markdown",
   "id": "795711ad",
   "metadata": {},
   "source": [
    "# MAX_DISPLACEMENT=0.2-STANDARD"
   ]
  },
  {
   "cell_type": "code",
   "execution_count": null,
   "id": "9cb93a03",
   "metadata": {},
   "outputs": [],
   "source": []
  },
  {
   "cell_type": "markdown",
   "id": "ff0154d2",
   "metadata": {},
   "source": [
    "# MAX_DISPLACEMENT=0.2-NUMPY"
   ]
  },
  {
   "cell_type": "code",
   "execution_count": 16,
   "id": "42ba9ba6",
   "metadata": {},
   "outputs": [
    {
     "name": "stdout",
     "output_type": "stream",
     "text": [
      "Time taken for trial 1:  35.45323324203491\n",
      "Time taken for trial 2:  35.625489950180054\n",
      "Time taken for trial 3:  35.566486120224\n"
     ]
    }
   ],
   "source": [
    "print(\"Time taken for trial 1: \", mc.run_simulation_np(coordinates, box_length, 3, 0.9, 50000, 0.2))\n",
    "print(\"Time taken for trial 2: \", mc.run_simulation_np(coordinates, box_length, 3, 0.9, 50000, 0.2))\n",
    "print(\"Time taken for trial 3: \", mc.run_simulation_np(coordinates, box_length, 3, 0.9, 50000, 0.2))"
   ]
  },
  {
   "cell_type": "code",
   "execution_count": null,
   "id": "36930bb6",
   "metadata": {},
   "outputs": [],
   "source": []
  }
 ],
 "metadata": {
  "kernelspec": {
   "display_name": "Python 3",
   "language": "python",
   "name": "python3"
  },
  "language_info": {
   "codemirror_mode": {
    "name": "ipython",
    "version": 3
   },
   "file_extension": ".py",
   "mimetype": "text/x-python",
   "name": "python",
   "nbconvert_exporter": "python",
   "pygments_lexer": "ipython3",
   "version": "3.9.6"
  }
 },
 "nbformat": 4,
 "nbformat_minor": 5
}
