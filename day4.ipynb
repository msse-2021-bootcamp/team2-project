{
 "cells": [
  {
   "cell_type": "markdown",
   "id": "280cbba6",
   "metadata": {},
   "source": [
    "# NumPy rewrite of the -calculate_distance- function"
   ]
  },
  {
   "cell_type": "code",
   "execution_count": 4,
   "id": "19563809",
   "metadata": {},
   "outputs": [],
   "source": [
    "import math\n",
    "def calculate_distance(coord1, coord2, box_length=None):\n",
    "    \"\"\"\n",
    "    Calculate the distance between two points. When box_length is set, the minimum image convention is used to calculate the distance between the points.\n",
    "\n",
    "    Parameters\n",
    "    ----------\n",
    "    coord1, coord2 : list\n",
    "        The coordinates of the points, [x, y, z]\n",
    "    \n",
    "    box_length : float, optional\n",
    "        The box length\n",
    "\n",
    "    Returns\n",
    "    -------\n",
    "    distance : float\n",
    "        The distance between the two points accounting for periodic boundaries\n",
    "    \"\"\"\n",
    "    distance = 0\n",
    "        \n",
    "    for i in range(3):\n",
    "        hold_dist = abs(coord2[i] - coord1[i])\n",
    "    \n",
    "        if (box_length):    \n",
    "            if hold_dist > box_length/2:\n",
    "                hold_dist = hold_dist - (box_length * round(hold_dist/box_length))\n",
    "        distance += math.pow(hold_dist, 2)\n",
    "\n",
    "    return math.sqrt(distance)\n"
   ]
  },
  {
   "cell_type": "code",
   "execution_count": 7,
   "id": "447b4ad5",
   "metadata": {},
   "outputs": [
    {
     "data": {
      "text/plain": [
       "8.0"
      ]
     },
     "execution_count": 7,
     "metadata": {},
     "output_type": "execute_result"
    }
   ],
   "source": [
    "import numpy as np\n",
    "pt1 = np.array([0,0,0])\n",
    "pt2 = np.array([0,8,0])\n",
    "\n",
    "calculate_distance(pt1,pt2)"
   ]
  },
  {
   "cell_type": "code",
   "execution_count": 8,
   "id": "c01fdf94",
   "metadata": {},
   "outputs": [
    {
     "name": "stdout",
     "output_type": "stream",
     "text": [
      "[0 8 0]\n"
     ]
    }
   ],
   "source": [
    "dimensional_distance = pt2-pt1\n",
    "print (dimensional_distance)"
   ]
  },
  {
   "cell_type": "code",
   "execution_count": 11,
   "id": "43a3c1fd",
   "metadata": {},
   "outputs": [
    {
     "name": "stdout",
     "output_type": "stream",
     "text": [
      "8.0\n"
     ]
    }
   ],
   "source": [
    "dd2 = dimensional_distance **2\n",
    "dd2_sum=dd2.sum()\n",
    "distance = math.sqrt(dd2_sum)\n",
    "print (distance)"
   ]
  },
  {
   "cell_type": "code",
   "execution_count": 42,
   "id": "2243ed3c",
   "metadata": {},
   "outputs": [],
   "source": [
    "def calculate_distance_np(coord1, coord2, box_length=None):\n",
    "    \"\"\"\n",
    "    Calculate the distance between two points. When box_length is set, the minimum image convention is used to calculate the distance between the points.\n",
    "\n",
    "    Parameters\n",
    "    ----------\n",
    "    coord1, coord2 : np.array\n",
    "        The coordinates of the points, [x, y, z]\n",
    "    \n",
    "    box_length : float, optional\n",
    "        The box length\n",
    "\n",
    "    Returns\n",
    "    -------\n",
    "    distance : float\n",
    "        The distance between the two points accounting for periodic boundaries\n",
    "    \"\"\"\n",
    "    coord_dist=coord1-coord2\n",
    "    if box_length:    \n",
    "            coord_dist = coord_dist - (box_length * np.round(coord_dist/box_length))\n",
    "    if coord_dist.ndim <2:\n",
    "        #reshaping the array, make it have 2 dimensions\n",
    "        coord_dist = coord_dist.reshape (1,-1)\n",
    "    coord_dist=coord_dist**2\n",
    "    dist_sum= coord_dist.sum(axis=1)\n",
    "    distance = np.sqrt(dist_sum)\n",
    "    return distance\n"
   ]
  },
  {
   "cell_type": "code",
   "execution_count": 43,
   "id": "188d8d85",
   "metadata": {},
   "outputs": [],
   "source": [
    "dist1 = calculate_distance(pt1,pt2,2.5)\n",
    "dist2 = calculate_distance_np(pt1,pt2,2.5)\n",
    "\n",
    "assert dist1 == dist2\n"
   ]
  },
  {
   "cell_type": "code",
   "execution_count": 45,
   "id": "3d2dcbb6",
   "metadata": {},
   "outputs": [
    {
     "data": {
      "text/plain": [
       "array([1.4, 1.4, 1.4])"
      ]
     },
     "execution_count": 45,
     "metadata": {},
     "output_type": "execute_result"
    }
   ],
   "source": [
    "pts1= [[0,0,0],[0,0,1],[0,0,2]]\n",
    "pts2= [[8,0,0],[8,0,1],[8,0,2]]\n",
    "\n",
    "pt1np = np.array(pts1)\n",
    "pt2np = np.array(pts2)\n",
    "\n",
    "calculate_distance_np(pt1np,pt2np,3.3)"
   ]
  },
  {
   "cell_type": "code",
   "execution_count": null,
   "id": "9ef0f5dc",
   "metadata": {},
   "outputs": [],
   "source": []
  }
 ],
 "metadata": {
  "kernelspec": {
   "display_name": "Python 3 (ipykernel)",
   "language": "python",
   "name": "python3"
  },
  "language_info": {
   "codemirror_mode": {
    "name": "ipython",
    "version": 3
   },
   "file_extension": ".py",
   "mimetype": "text/x-python",
   "name": "python",
   "nbconvert_exporter": "python",
   "pygments_lexer": "ipython3",
   "version": "3.9.6"
  }
 },
 "nbformat": 4,
 "nbformat_minor": 5
}
